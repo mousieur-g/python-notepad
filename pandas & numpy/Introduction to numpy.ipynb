{
 "cells": [
  {
   "cell_type": "markdown",
   "metadata": {},
   "source": [
    "# Introduction to numpy\n",
    "\n",
    "http://www.datadependence.com/2016/05/scientific-python-numpy/\n",
    "\n",
    "- Array Basics\n",
    "- Array Basic Operation\n",
    "- Fancy Indexing\n",
    "- Boolean Masking & Plotting\n",
    "- Incomplete Indexing\n",
    "- Where\n",
    "- Combine by Row or by Column (`np.r_` or `np.c_`)"
   ]
  },
  {
   "cell_type": "code",
   "execution_count": 1,
   "metadata": {
    "collapsed": true
   },
   "outputs": [],
   "source": [
    "import numpy as np"
   ]
  },
  {
   "cell_type": "markdown",
   "metadata": {},
   "source": [
    "## Array Basics"
   ]
  },
  {
   "cell_type": "code",
   "execution_count": 2,
   "metadata": {
    "collapsed": false
   },
   "outputs": [
    {
     "name": "stdout",
     "output_type": "stream",
     "text": [
      "[0 1 2 3 4]\n",
      "[0 1 2 3 4]\n",
      "[0 1 2 3 4]\n",
      "[  0.    2.5   5.    7.5  10. ]\n",
      "5\n",
      "(5,)\n"
     ]
    }
   ],
   "source": [
    "# 1D array\n",
    "a = np.array([0, 1, 2, 3, 4])\n",
    "b = np.array((0, 1, 2, 3, 4))\n",
    "c = np.arange(5)\n",
    "d = np.linspace(0, 10, 5)\n",
    "\n",
    "print a\n",
    "print b\n",
    "print c\n",
    "print d\n",
    "print a.size\n",
    "print a.shape"
   ]
  },
  {
   "cell_type": "code",
   "execution_count": 3,
   "metadata": {
    "collapsed": false
   },
   "outputs": [
    {
     "name": "stdout",
     "output_type": "stream",
     "text": [
      "[[11 12 13 14 15]\n",
      " [16 17 18 19 20]\n",
      " [21 22 23 24 25]\n",
      " [26 27 28 29 30]\n",
      " [31 32 33 34 35]]\n",
      "25\n",
      "2\n",
      "(5, 5)\n",
      "14\n",
      "24\n"
     ]
    }
   ],
   "source": [
    "# 2D array\n",
    "\n",
    "a = np.array([[11, 12, 13, 14, 15],\n",
    "              [16, 17, 18, 19, 20],\n",
    "              [21, 22, 23, 24, 25],\n",
    "              [26, 27, 28 ,29, 30],\n",
    "              [31, 32, 33, 34, 35]])\n",
    "\n",
    "print a\n",
    "print a.size\n",
    "print a.ndim\n",
    "print a.shape\n",
    "\n",
    "print a[0, 3] #14\n",
    "print a[2, 3] # 29"
   ]
  },
  {
   "cell_type": "code",
   "execution_count": 4,
   "metadata": {
    "collapsed": false
   },
   "outputs": [
    {
     "name": "stdout",
     "output_type": "stream",
     "text": [
      "[[11 12 13 14 15]\n",
      " [16 17 18 19 20]\n",
      " [21 22 23 24 25]\n",
      " [26 27 28 29 30]\n",
      " [31 32 33 34 35]]\n",
      "[12 13 14]\n",
      "[12 17 22 27]\n",
      "(4,)\n",
      "[[12 13 14]\n",
      " [17 18 19]]\n",
      "[[11 13 15]\n",
      " [21 23 25]\n",
      " [31 33 35]]\n",
      "[[11 12]\n",
      " [16 17]]\n"
     ]
    }
   ],
   "source": [
    "# Multidimensional Array Slicing\n",
    "\n",
    "print a\n",
    "print a[0, 1:4]\n",
    "print a[0:4, 1]\n",
    "print a[0:4, 1].shape\n",
    "print a[0:2, 1:4]\n",
    "print a[::2,::2] # BE CAREFUL ABOUT THIS\n",
    "print a[:2,:2]"
   ]
  },
  {
   "cell_type": "code",
   "execution_count": 5,
   "metadata": {
    "collapsed": false
   },
   "outputs": [
    {
     "name": "stdout",
     "output_type": "stream",
     "text": [
      "<type 'numpy.ndarray'>\n",
      "int64\n",
      "25\n",
      "(5, 5)\n",
      "8\n",
      "2\n",
      "200\n"
     ]
    }
   ],
   "source": [
    "# Array Property\n",
    "print type(a)\n",
    "print a.dtype # data type of this array\n",
    "print a.size\n",
    "print a.shape\n",
    "print a.itemsize  # The ‘itemsize’ property is how many bytes each item takes up.\n",
    "print a.ndim  # The ‘ndim’ property is how many dimensions the array has.\n",
    "print a.nbytes  # The ‘nbytes’ property is how many bytes are used up by all the data in the array. You should note that this does not count the overhead of an array and so the actual space that the array takes up will be a little bit larger."
   ]
  },
  {
   "cell_type": "markdown",
   "metadata": {},
   "source": [
    "**NOTE**, in array, only one single type of elements are allowed. This is also a key difference between `Array` and `List`."
   ]
  },
  {
   "cell_type": "code",
   "execution_count": 6,
   "metadata": {
    "collapsed": false
   },
   "outputs": [
    {
     "name": "stdout",
     "output_type": "stream",
     "text": [
      "['1' '2' '3']\n"
     ]
    }
   ],
   "source": [
    "single_element_test = np.array([1,2,'3'])\n",
    "print single_element_test"
   ]
  },
  {
   "cell_type": "markdown",
   "metadata": {},
   "source": [
    "## Array Basic Operations"
   ]
  },
  {
   "cell_type": "code",
   "execution_count": 7,
   "metadata": {
    "collapsed": false
   },
   "outputs": [
    {
     "name": "stdout",
     "output_type": "stream",
     "text": [
      "[ 0  1  2  3  4  5  6  7  8  9 10 11 12 13 14 15 16 17 18 19 20 21 22 23]\n",
      "[[ 0  1  2  3  4  5]\n",
      " [ 6  7  8  9 10 11]\n",
      " [12 13 14 15 16 17]\n",
      " [18 19 20 21 22 23]]\n",
      "[[ 0  6 12 18]\n",
      " [ 1  7 13 19]\n",
      " [ 2  8 14 20]\n",
      " [ 3  9 15 21]\n",
      " [ 4 10 16 22]\n",
      " [ 5 11 17 23]]\n",
      "[[10 62  1 14  2 56]\n",
      " [79  2  1 45  4 92]\n",
      " [ 5 55 63 43 35  6]\n",
      " [53 24 56  3 56 44]]\n"
     ]
    }
   ],
   "source": [
    "a = np.arange(24)\n",
    "print a\n",
    "\n",
    "a = a.reshape((4, 6))\n",
    "print a\n",
    "\n",
    "a_T = a.T\n",
    "print a_T\n",
    "\n",
    "\n",
    "b = np.array([10, 62, 1, 14, 2, 56, 79, 2, 1, 45,\n",
    "              4, 92, 5, 55, 63, 43, 35, 6, 53, 24,\n",
    "              56, 3, 56, 44])\n",
    "b = b.reshape((4, 6))\n",
    "print b\n"
   ]
  },
  {
   "cell_type": "code",
   "execution_count": 8,
   "metadata": {
    "collapsed": false
   },
   "outputs": [
    {
     "name": "stdout",
     "output_type": "stream",
     "text": [
      "[[ 10  63   3  17   6  61]\n",
      " [ 85   9   9  54  14 103]\n",
      " [ 17  68  77  58  51  23]\n",
      " [ 71  43  76  24  78  67]]\n",
      "[[-10 -61   1 -11   2 -51]\n",
      " [-73   5   7 -36   6 -81]\n",
      " [  7 -42 -49 -28 -19  11]\n",
      " [-35  -5 -36  18 -34 -21]]\n",
      "[[   0   62    2   42    8  280]\n",
      " [ 474   14    8  405   40 1012]\n",
      " [  60  715  882  645  560  102]\n",
      " [ 954  456 1120   63 1232 1012]]\n",
      "[[0 0 2 0 2 0]\n",
      " [0 3 8 0 2 0]\n",
      " [2 0 0 0 0 2]\n",
      " [0 0 0 7 0 0]]\n",
      "[[  0   1   4   9  16  25]\n",
      " [ 36  49  64  81 100 121]\n",
      " [144 169 196 225 256 289]\n",
      " [324 361 400 441 484 529]]\n",
      "[[ True  True False  True False  True]\n",
      " [ True False False  True False  True]\n",
      " [False  True  True  True  True False]\n",
      " [ True  True  True False  True  True]]\n",
      "[[False False  True False  True False]\n",
      " [False  True  True False  True False]\n",
      " [ True False False False False  True]\n",
      " [False False False  True False False]]\n",
      "[[ 394  615  480  589]\n",
      " [1264 1953 1722 2005]\n",
      " [2134 3291 2964 3421]\n",
      " [3004 4629 4206 4837]]\n"
     ]
    }
   ],
   "source": [
    "print a + b\n",
    "print a - b\n",
    "print(a * b)\n",
    "print(a / b)\n",
    "print(a ** 2)\n",
    "print(a < b)\n",
    "print(a > b)\n",
    " \n",
    "print a.dot(b.T)  # Matrix multiplication"
   ]
  },
  {
   "cell_type": "code",
   "execution_count": 9,
   "metadata": {
    "collapsed": false
   },
   "outputs": [
    {
     "name": "stdout",
     "output_type": "stream",
     "text": [
      "55\n",
      "1\n",
      "10\n",
      "[ 1  3  6 10 15 21 28 36 45 55]\n"
     ]
    }
   ],
   "source": [
    "# Array Specific Operators\n",
    "\n",
    "a = np.arange(1, 10 + 1)  # similar the normal \"range\" function\n",
    " \n",
    "print(a.sum()) \n",
    "print(a.min()) \n",
    "print(a.max()) \n",
    "print(a.cumsum())\n"
   ]
  },
  {
   "cell_type": "markdown",
   "metadata": {},
   "source": [
    "## Fancy Indexing"
   ]
  },
  {
   "cell_type": "code",
   "execution_count": 10,
   "metadata": {
    "collapsed": false
   },
   "outputs": [
    {
     "name": "stdout",
     "output_type": "stream",
     "text": [
      "[ 0 10 20 30 40 50 60 70 80 90]\n",
      "[10 50 90]\n"
     ]
    }
   ],
   "source": [
    "a = np.arange(0, 100, 10)\n",
    "indices = [1, 5, -1]\n",
    "b = a[indices]\n",
    "print(a)\n",
    "print(b)"
   ]
  },
  {
   "cell_type": "markdown",
   "metadata": {},
   "source": [
    "## Boolean Masking & Plotting"
   ]
  },
  {
   "cell_type": "code",
   "execution_count": 11,
   "metadata": {
    "collapsed": false
   },
   "outputs": [
    {
     "data": {
      "image/png": "[encoded data removed]",
      "text/plain": [
       "<matplotlib.figure.Figure at 0x107bc01d0>"
      ]
     },
     "metadata": {},
     "output_type": "display_data"
    }
   ],
   "source": [
    "import matplotlib.pyplot as plt\n",
    "%matplotlib inline  \n",
    "\n",
    "a = np.linspace(0, 2 * np.pi, 50)\n",
    "b = np.sin(a)\n",
    "plt.plot(a,b)\n",
    "mask = b >= 0\n",
    "plt.plot(a[mask], b[mask], 'bo')\n",
    "mask = (b >= 0) & (a <= np.pi / 2)\n",
    "plt.plot(a[mask], b[mask], 'go')\n",
    "plt.show()"
   ]
  },
  {
   "cell_type": "markdown",
   "metadata": {},
   "source": [
    "## Incomplete Indexing"
   ]
  },
  {
   "cell_type": "code",
   "execution_count": 12,
   "metadata": {
    "collapsed": false
   },
   "outputs": [
    {
     "name": "stdout",
     "output_type": "stream",
     "text": [
      "[ 0 10 20 30 40 50 60 70 80 90]\n",
      "[ 0 10 20 30 40]\n",
      "[50 60 70 80 90]\n"
     ]
    }
   ],
   "source": [
    "a = np.arange(0, 100, 10)\n",
    "b = a[:5]\n",
    "c = a[a >= 50]\n",
    "print(a)\n",
    "print(b)\n",
    "print(c)"
   ]
  },
  {
   "cell_type": "markdown",
   "metadata": {},
   "source": [
    "## Where"
   ]
  },
  {
   "cell_type": "code",
   "execution_count": 13,
   "metadata": {
    "collapsed": false
   },
   "outputs": [
    {
     "name": "stdout",
     "output_type": "stream",
     "text": [
      "[ 0 10 20 30 40 50 60 70 80 90]\n",
      "(array([0, 1, 2, 3, 4]),)\n",
      "(array([5, 6, 7, 8, 9]),)\n",
      "[5 6 7 8 9]\n"
     ]
    }
   ],
   "source": [
    "a = np.arange(0, 100, 10)\n",
    "b = np.where(a<50)\n",
    "c_1 = np.where(a >= 50)\n",
    "c_2 = np.where(a >= 50)[0]\n",
    "\n",
    "print(a)\n",
    "print(b)\n",
    "print(c_1)\n",
    "print(c_2)\n"
   ]
  },
  {
   "cell_type": "markdown",
   "metadata": {},
   "source": [
    "## Combine by Row or by Column"
   ]
  },
  {
   "cell_type": "markdown",
   "metadata": {},
   "source": [
    "We can use `np.r_` or `np.c_` to do array concatenation.\n",
    "\n",
    "**NOTE** we need to use square bracket instead of normal bracket for these two methods."
   ]
  },
  {
   "cell_type": "code",
   "execution_count": 14,
   "metadata": {
    "collapsed": false
   },
   "outputs": [
    {
     "name": "stdout",
     "output_type": "stream",
     "text": [
      "[[1 2 3]\n",
      " [4 5 6]]\n",
      "[[1 2 3]\n",
      " [4 5 6]\n",
      " [1 2 3]\n",
      " [4 5 6]]\n",
      "[[1 2 3 1 2 3]\n",
      " [4 5 6 4 5 6]]\n"
     ]
    }
   ],
   "source": [
    "a = np.array([[1, 2, 3],\n",
    "              [4, 5, 6]])\n",
    "print a\n",
    "\n",
    "# combine two arrais by row\n",
    "print np.r_[a,a]\n",
    "\n",
    "# combine two arraies by column\n",
    "print np.c_[a,a]"
   ]
  }
 ],
 "metadata": {
  "kernelspec": {
   "display_name": "Python 2",
   "language": "python",
   "name": "python2"
  },
  "language_info": {
   "codemirror_mode": {
    "name": "ipython",
    "version": 2
   },
   "file_extension": ".py",
   "mimetype": "text/x-python",
   "name": "python",
   "nbconvert_exporter": "python",
   "pygments_lexer": "ipython2",
   "version": "2.7.13"
  }
 },
 "nbformat": 4,
 "nbformat_minor": 0
}
