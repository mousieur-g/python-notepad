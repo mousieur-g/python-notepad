{
 "cells": [
  {
   "cell_type": "markdown",
   "metadata": {
    "collapsed": true
   },
   "source": [
    "# 10 Minutes to \"pandas\" Module\n",
    "\n",
    "http://pandas.pydata.org/pandas-docs/stable/10min.html"
   ]
  },
  {
   "cell_type": "markdown",
   "metadata": {},
   "source": [
    "## Load Necessary Modules"
   ]
  },
  {
   "cell_type": "code",
   "execution_count": 1,
   "metadata": {
    "collapsed": false
   },
   "outputs": [],
   "source": [
    "import numpy as np\n",
    "import pandas as pd\n",
    "import matplotlib.pyplot as plt"
   ]
  },
  {
   "cell_type": "code",
   "execution_count": 2,
   "metadata": {
    "collapsed": false
   },
   "outputs": [
    {
     "name": "stdout",
     "output_type": "stream",
     "text": [
      "0    1.0\n",
      "1    3.0\n",
      "2    5.0\n",
      "3    NaN\n",
      "4    6.0\n",
      "5    8.0\n",
      "dtype: float64\n"
     ]
    }
   ],
   "source": [
    "s = pd.Series([1,3,5,np.nan,6,8])\n",
    "print(s)"
   ]
  },
  {
   "cell_type": "code",
   "execution_count": 3,
   "metadata": {
    "collapsed": false
   },
   "outputs": [
    {
     "data": {
      "text/plain": [
       "DatetimeIndex(['2013-01-01', '2013-01-02', '2013-01-03', '2013-01-04',\n",
       "               '2013-01-05', '2013-01-06'],\n",
       "              dtype='datetime64[ns]', freq='D')"
      ]
     },
     "execution_count": 3,
     "metadata": {},
     "output_type": "execute_result"
    }
   ],
   "source": [
    "dates = pd.date_range('20130101', periods=6)\n",
    "dates"
   ]
  },
  {
   "cell_type": "code",
   "execution_count": 4,
   "metadata": {
    "collapsed": false
   },
   "outputs": [
    {
     "data": {
      "text/html": [
       "<div>\n",
       "<table border=\"1\" class=\"dataframe\">\n",
       "  <thead>\n",
       "    <tr style=\"text-align: right;\">\n",
       "      <th></th>\n",
       "      <th>A</th>\n",
       "      <th>B</th>\n",
       "      <th>C</th>\n",
       "      <th>D</th>\n",
       "    </tr>\n",
       "  </thead>\n",
       "  <tbody>\n",
       "    <tr>\n",
       "      <th>2013-01-01</th>\n",
       "      <td>-0.602886</td>\n",
       "      <td>-0.009738</td>\n",
       "      <td>0.920296</td>\n",
       "      <td>-0.120781</td>\n",
       "    </tr>\n",
       "    <tr>\n",
       "      <th>2013-01-02</th>\n",
       "      <td>-0.767066</td>\n",
       "      <td>0.863360</td>\n",
       "      <td>-0.129797</td>\n",
       "      <td>-1.655755</td>\n",
       "    </tr>\n",
       "    <tr>\n",
       "      <th>2013-01-03</th>\n",
       "      <td>-0.722352</td>\n",
       "      <td>0.532876</td>\n",
       "      <td>-0.844975</td>\n",
       "      <td>-0.373513</td>\n",
       "    </tr>\n",
       "    <tr>\n",
       "      <th>2013-01-04</th>\n",
       "      <td>0.053622</td>\n",
       "      <td>-0.477888</td>\n",
       "      <td>-0.051455</td>\n",
       "      <td>1.668770</td>\n",
       "    </tr>\n",
       "    <tr>\n",
       "      <th>2013-01-05</th>\n",
       "      <td>0.433571</td>\n",
       "      <td>0.933637</td>\n",
       "      <td>0.656147</td>\n",
       "      <td>0.117302</td>\n",
       "    </tr>\n",
       "    <tr>\n",
       "      <th>2013-01-06</th>\n",
       "      <td>2.105373</td>\n",
       "      <td>-0.806524</td>\n",
       "      <td>1.552399</td>\n",
       "      <td>-0.900801</td>\n",
       "    </tr>\n",
       "  </tbody>\n",
       "</table>\n",
       "</div>"
      ],
      "text/plain": [
       "                   A         B         C         D\n",
       "2013-01-01 -0.602886 -0.009738  0.920296 -0.120781\n",
       "2013-01-02 -0.767066  0.863360 -0.129797 -1.655755\n",
       "2013-01-03 -0.722352  0.532876 -0.844975 -0.373513\n",
       "2013-01-04  0.053622 -0.477888 -0.051455  1.668770\n",
       "2013-01-05  0.433571  0.933637  0.656147  0.117302\n",
       "2013-01-06  2.105373 -0.806524  1.552399 -0.900801"
      ]
     },
     "execution_count": 4,
     "metadata": {},
     "output_type": "execute_result"
    }
   ],
   "source": [
    "df = pd.DataFrame(np.random.randn(6,4), index=dates, columns=list('ABCD'))\n",
    "df"
   ]
  },
  {
   "cell_type": "code",
   "execution_count": 5,
   "metadata": {
    "collapsed": false
   },
   "outputs": [
    {
     "name": "stdout",
     "output_type": "stream",
     "text": [
      "     A          B    C  D      E    F\n",
      "0  1.0 2013-01-02  1.0  3   test  foo\n",
      "1  1.0 2013-01-02  1.0  1  train  foo\n",
      "2  1.0 2013-01-02  1.0  2   test  foo\n",
      "3  1.0 2013-01-02  1.0  6  train  foo\n",
      "Int64Index([0, 1, 2, 3], dtype='int64')\n",
      "A           float64\n",
      "B    datetime64[ns]\n",
      "C           float32\n",
      "D             int32\n",
      "E          category\n",
      "F            object\n",
      "dtype: object\n"
     ]
    }
   ],
   "source": [
    "df2 = pd.DataFrame({ 'A' : 1.,\n",
    "                     'B' : pd.Timestamp('20130102'),\n",
    "                     'C' : pd.Series(1,index=list(range(4)),dtype='float32'),\n",
    "                     'D' : np.array([3, 1, 2, 6],dtype='int32'),\n",
    "                     'E' : pd.Categorical([\"test\",\"train\",\"test\",\"train\"]),\n",
    "                     'F' : 'foo' })\n",
    "\n",
    "print(df2)\n",
    "print(df2.index)\n",
    "print(df2.dtypes)"
   ]
  },
  {
   "cell_type": "markdown",
   "metadata": {},
   "source": [
    "## View Data\n",
    "\n",
    "Head, tail, index, columns, values, describe, info, sorting"
   ]
  },
  {
   "cell_type": "code",
   "execution_count": 6,
   "metadata": {
    "collapsed": false
   },
   "outputs": [
    {
     "name": "stdout",
     "output_type": "stream",
     "text": [
      "<bound method DataFrame.head of                    A         B         C         D\n",
      "2013-01-01 -0.602886 -0.009738  0.920296 -0.120781\n",
      "2013-01-02 -0.767066  0.863360 -0.129797 -1.655755\n",
      "2013-01-03 -0.722352  0.532876 -0.844975 -0.373513\n",
      "2013-01-04  0.053622 -0.477888 -0.051455  1.668770\n",
      "2013-01-05  0.433571  0.933637  0.656147  0.117302\n",
      "2013-01-06  2.105373 -0.806524  1.552399 -0.900801>\n",
      "                   A         B         C         D\n",
      "2013-01-05  0.433571  0.933637  0.656147  0.117302\n",
      "2013-01-06  2.105373 -0.806524  1.552399 -0.900801\n"
     ]
    }
   ],
   "source": [
    "print(df.head)\n",
    "print(df.tail(2))\n",
    "      "
   ]
  },
  {
   "cell_type": "code",
   "execution_count": 7,
   "metadata": {
    "collapsed": false
   },
   "outputs": [
    {
     "name": "stdout",
     "output_type": "stream",
     "text": [
      "DatetimeIndex(['2013-01-01', '2013-01-02', '2013-01-03', '2013-01-04',\n",
      "               '2013-01-05', '2013-01-06'],\n",
      "              dtype='datetime64[ns]', freq='D')\n",
      "Index([u'A', u'B', u'C', u'D'], dtype='object')\n",
      "[[-0.60288602 -0.00973814  0.92029578 -0.12078132]\n",
      " [-0.76706576  0.86335976 -0.12979687 -1.65575485]\n",
      " [-0.72235221  0.53287643 -0.84497539 -0.37351259]\n",
      " [ 0.05362211 -0.47788758 -0.05145543  1.66877046]\n",
      " [ 0.43357058  0.93363663  0.65614672  0.11730182]\n",
      " [ 2.10537251 -0.80652382  1.55239868 -0.90080122]]\n",
      "<type 'numpy.ndarray'>\n"
     ]
    }
   ],
   "source": [
    "print(df.index)\n",
    "print(df.columns)\n",
    "print(df.values)\n",
    "print(type(df.values))"
   ]
  },
  {
   "cell_type": "code",
   "execution_count": 8,
   "metadata": {
    "collapsed": false
   },
   "outputs": [
    {
     "data": {
      "text/html": [
       "<div>\n",
       "<table border=\"1\" class=\"dataframe\">\n",
       "  <thead>\n",
       "    <tr style=\"text-align: right;\">\n",
       "      <th></th>\n",
       "      <th>A</th>\n",
       "      <th>B</th>\n",
       "      <th>C</th>\n",
       "      <th>D</th>\n",
       "    </tr>\n",
       "  </thead>\n",
       "  <tbody>\n",
       "    <tr>\n",
       "      <th>count</th>\n",
       "      <td>6.000000</td>\n",
       "      <td>6.000000</td>\n",
       "      <td>6.000000</td>\n",
       "      <td>6.000000</td>\n",
       "    </tr>\n",
       "    <tr>\n",
       "      <th>mean</th>\n",
       "      <td>0.083377</td>\n",
       "      <td>0.172621</td>\n",
       "      <td>0.350436</td>\n",
       "      <td>-0.210796</td>\n",
       "    </tr>\n",
       "    <tr>\n",
       "      <th>std</th>\n",
       "      <td>1.100490</td>\n",
       "      <td>0.721275</td>\n",
       "      <td>0.858378</td>\n",
       "      <td>1.117051</td>\n",
       "    </tr>\n",
       "    <tr>\n",
       "      <th>min</th>\n",
       "      <td>-0.767066</td>\n",
       "      <td>-0.806524</td>\n",
       "      <td>-0.844975</td>\n",
       "      <td>-1.655755</td>\n",
       "    </tr>\n",
       "    <tr>\n",
       "      <th>25%</th>\n",
       "      <td>-0.692486</td>\n",
       "      <td>-0.360850</td>\n",
       "      <td>-0.110212</td>\n",
       "      <td>-0.768979</td>\n",
       "    </tr>\n",
       "    <tr>\n",
       "      <th>50%</th>\n",
       "      <td>-0.274632</td>\n",
       "      <td>0.261569</td>\n",
       "      <td>0.302346</td>\n",
       "      <td>-0.247147</td>\n",
       "    </tr>\n",
       "    <tr>\n",
       "      <th>75%</th>\n",
       "      <td>0.338583</td>\n",
       "      <td>0.780739</td>\n",
       "      <td>0.854259</td>\n",
       "      <td>0.057781</td>\n",
       "    </tr>\n",
       "    <tr>\n",
       "      <th>max</th>\n",
       "      <td>2.105373</td>\n",
       "      <td>0.933637</td>\n",
       "      <td>1.552399</td>\n",
       "      <td>1.668770</td>\n",
       "    </tr>\n",
       "  </tbody>\n",
       "</table>\n",
       "</div>"
      ],
      "text/plain": [
       "              A         B         C         D\n",
       "count  6.000000  6.000000  6.000000  6.000000\n",
       "mean   0.083377  0.172621  0.350436 -0.210796\n",
       "std    1.100490  0.721275  0.858378  1.117051\n",
       "min   -0.767066 -0.806524 -0.844975 -1.655755\n",
       "25%   -0.692486 -0.360850 -0.110212 -0.768979\n",
       "50%   -0.274632  0.261569  0.302346 -0.247147\n",
       "75%    0.338583  0.780739  0.854259  0.057781\n",
       "max    2.105373  0.933637  1.552399  1.668770"
      ]
     },
     "execution_count": 8,
     "metadata": {},
     "output_type": "execute_result"
    }
   ],
   "source": [
    "df.describe()"
   ]
  },
  {
   "cell_type": "code",
   "execution_count": 9,
   "metadata": {
    "collapsed": false
   },
   "outputs": [
    {
     "name": "stdout",
     "output_type": "stream",
     "text": [
      "<class 'pandas.core.frame.DataFrame'>\n",
      "DatetimeIndex: 6 entries, 2013-01-01 to 2013-01-06\n",
      "Freq: D\n",
      "Data columns (total 4 columns):\n",
      "A    6 non-null float64\n",
      "B    6 non-null float64\n",
      "C    6 non-null float64\n",
      "D    6 non-null float64\n",
      "dtypes: float64(4)\n",
      "memory usage: 240.0 bytes\n"
     ]
    }
   ],
   "source": [
    "df.info()"
   ]
  },
  {
   "cell_type": "code",
   "execution_count": 10,
   "metadata": {
    "collapsed": false
   },
   "outputs": [
    {
     "data": {
      "text/html": [
       "<div>\n",
       "<table border=\"1\" class=\"dataframe\">\n",
       "  <thead>\n",
       "    <tr style=\"text-align: right;\">\n",
       "      <th></th>\n",
       "      <th>2013-01-01 00:00:00</th>\n",
       "      <th>2013-01-02 00:00:00</th>\n",
       "      <th>2013-01-03 00:00:00</th>\n",
       "      <th>2013-01-04 00:00:00</th>\n",
       "      <th>2013-01-05 00:00:00</th>\n",
       "      <th>2013-01-06 00:00:00</th>\n",
       "    </tr>\n",
       "  </thead>\n",
       "  <tbody>\n",
       "    <tr>\n",
       "      <th>A</th>\n",
       "      <td>-0.602886</td>\n",
       "      <td>-0.767066</td>\n",
       "      <td>-0.722352</td>\n",
       "      <td>0.053622</td>\n",
       "      <td>0.433571</td>\n",
       "      <td>2.105373</td>\n",
       "    </tr>\n",
       "    <tr>\n",
       "      <th>B</th>\n",
       "      <td>-0.009738</td>\n",
       "      <td>0.863360</td>\n",
       "      <td>0.532876</td>\n",
       "      <td>-0.477888</td>\n",
       "      <td>0.933637</td>\n",
       "      <td>-0.806524</td>\n",
       "    </tr>\n",
       "    <tr>\n",
       "      <th>C</th>\n",
       "      <td>0.920296</td>\n",
       "      <td>-0.129797</td>\n",
       "      <td>-0.844975</td>\n",
       "      <td>-0.051455</td>\n",
       "      <td>0.656147</td>\n",
       "      <td>1.552399</td>\n",
       "    </tr>\n",
       "    <tr>\n",
       "      <th>D</th>\n",
       "      <td>-0.120781</td>\n",
       "      <td>-1.655755</td>\n",
       "      <td>-0.373513</td>\n",
       "      <td>1.668770</td>\n",
       "      <td>0.117302</td>\n",
       "      <td>-0.900801</td>\n",
       "    </tr>\n",
       "  </tbody>\n",
       "</table>\n",
       "</div>"
      ],
      "text/plain": [
       "   2013-01-01  2013-01-02  2013-01-03  2013-01-04  2013-01-05  2013-01-06\n",
       "A   -0.602886   -0.767066   -0.722352    0.053622    0.433571    2.105373\n",
       "B   -0.009738    0.863360    0.532876   -0.477888    0.933637   -0.806524\n",
       "C    0.920296   -0.129797   -0.844975   -0.051455    0.656147    1.552399\n",
       "D   -0.120781   -1.655755   -0.373513    1.668770    0.117302   -0.900801"
      ]
     },
     "execution_count": 10,
     "metadata": {},
     "output_type": "execute_result"
    }
   ],
   "source": [
    "df.T"
   ]
  },
  {
   "cell_type": "code",
   "execution_count": 11,
   "metadata": {
    "collapsed": false
   },
   "outputs": [
    {
     "name": "stdout",
     "output_type": "stream",
     "text": [
      "                   A         B         C         D\n",
      "2013-01-01 -0.602886 -0.009738  0.920296 -0.120781\n",
      "2013-01-02 -0.767066  0.863360 -0.129797 -1.655755\n",
      "2013-01-03 -0.722352  0.532876 -0.844975 -0.373513\n",
      "2013-01-04  0.053622 -0.477888 -0.051455  1.668770\n",
      "2013-01-05  0.433571  0.933637  0.656147  0.117302\n",
      "2013-01-06  2.105373 -0.806524  1.552399 -0.900801\n",
      "                   D         C         B         A\n",
      "2013-01-01 -0.120781  0.920296 -0.009738 -0.602886\n",
      "2013-01-02 -1.655755 -0.129797  0.863360 -0.767066\n",
      "2013-01-03 -0.373513 -0.844975  0.532876 -0.722352\n",
      "2013-01-04  1.668770 -0.051455 -0.477888  0.053622\n",
      "2013-01-05  0.117302  0.656147  0.933637  0.433571\n",
      "2013-01-06 -0.900801  1.552399 -0.806524  2.105373\n",
      "                   A         B         C         D\n",
      "2013-01-06  2.105373 -0.806524  1.552399 -0.900801\n",
      "2013-01-05  0.433571  0.933637  0.656147  0.117302\n",
      "2013-01-04  0.053622 -0.477888 -0.051455  1.668770\n",
      "2013-01-03 -0.722352  0.532876 -0.844975 -0.373513\n",
      "2013-01-02 -0.767066  0.863360 -0.129797 -1.655755\n",
      "2013-01-01 -0.602886 -0.009738  0.920296 -0.120781\n"
     ]
    }
   ],
   "source": [
    "print df\n",
    "print df.sort_index(axis=1, ascending=False)  # re-sort by columnn\n",
    "print df.sort_index(axis=0, ascending=False)  # re-sort by row"
   ]
  },
  {
   "cell_type": "code",
   "execution_count": 12,
   "metadata": {
    "collapsed": false
   },
   "outputs": [
    {
     "name": "stdout",
     "output_type": "stream",
     "text": [
      "                   A         B         C         D\n",
      "2013-01-01 -0.602886 -0.009738  0.920296 -0.120781\n",
      "2013-01-02 -0.767066  0.863360 -0.129797 -1.655755\n",
      "2013-01-03 -0.722352  0.532876 -0.844975 -0.373513\n",
      "2013-01-04  0.053622 -0.477888 -0.051455  1.668770\n",
      "2013-01-05  0.433571  0.933637  0.656147  0.117302\n",
      "2013-01-06  2.105373 -0.806524  1.552399 -0.900801\n",
      "                   A         B         C         D\n",
      "2013-01-06  2.105373 -0.806524  1.552399 -0.900801\n",
      "2013-01-04  0.053622 -0.477888 -0.051455  1.668770\n",
      "2013-01-01 -0.602886 -0.009738  0.920296 -0.120781\n",
      "2013-01-03 -0.722352  0.532876 -0.844975 -0.373513\n",
      "2013-01-02 -0.767066  0.863360 -0.129797 -1.655755\n",
      "2013-01-05  0.433571  0.933637  0.656147  0.117302\n"
     ]
    }
   ],
   "source": [
    "print df\n",
    "print df.sort_values(by='B')"
   ]
  },
  {
   "cell_type": "markdown",
   "metadata": {
    "collapsed": true
   },
   "source": [
    "## Selection"
   ]
  },
  {
   "cell_type": "code",
   "execution_count": 13,
   "metadata": {
    "collapsed": false
   },
   "outputs": [
    {
     "name": "stdout",
     "output_type": "stream",
     "text": [
      "                   A         B         C         D\n",
      "2013-01-01 -0.602886 -0.009738  0.920296 -0.120781\n",
      "2013-01-02 -0.767066  0.863360 -0.129797 -1.655755\n",
      "2013-01-03 -0.722352  0.532876 -0.844975 -0.373513\n",
      "2013-01-04  0.053622 -0.477888 -0.051455  1.668770\n",
      "2013-01-05  0.433571  0.933637  0.656147  0.117302\n",
      "2013-01-06  2.105373 -0.806524  1.552399 -0.900801\n"
     ]
    }
   ],
   "source": [
    "print(df)"
   ]
  },
  {
   "cell_type": "code",
   "execution_count": 14,
   "metadata": {
    "collapsed": false
   },
   "outputs": [
    {
     "name": "stdout",
     "output_type": "stream",
     "text": [
      "2013-01-01   -0.602886\n",
      "2013-01-02   -0.767066\n",
      "2013-01-03   -0.722352\n",
      "2013-01-04    0.053622\n",
      "2013-01-05    0.433571\n",
      "2013-01-06    2.105373\n",
      "Freq: D, Name: A, dtype: float64\n",
      "2013-01-01   -0.602886\n",
      "2013-01-02   -0.767066\n",
      "2013-01-03   -0.722352\n",
      "2013-01-04    0.053622\n",
      "2013-01-05    0.433571\n",
      "2013-01-06    2.105373\n",
      "Freq: D, Name: A, dtype: float64\n"
     ]
    }
   ],
   "source": [
    "# Selecting a single column, which yields a Series, equivalent to df.A\n",
    "print(df['A'])\n",
    "print(df.A)"
   ]
  },
  {
   "cell_type": "code",
   "execution_count": 15,
   "metadata": {
    "collapsed": false
   },
   "outputs": [
    {
     "name": "stdout",
     "output_type": "stream",
     "text": [
      "                   A         B         C         D\n",
      "2013-01-01 -0.602886 -0.009738  0.920296 -0.120781\n",
      "2013-01-02 -0.767066  0.863360 -0.129797 -1.655755\n",
      "2013-01-03 -0.722352  0.532876 -0.844975 -0.373513\n",
      "                   A         B         C         D\n",
      "2013-01-02 -0.767066  0.863360 -0.129797 -1.655755\n",
      "2013-01-03 -0.722352  0.532876 -0.844975 -0.373513\n",
      "2013-01-04  0.053622 -0.477888 -0.051455  1.668770\n"
     ]
    }
   ],
   "source": [
    "# Selecting via [], which slices the rows.\n",
    "print(df[0:3])\n",
    "print(df['20130102':'20130104'])"
   ]
  },
  {
   "cell_type": "code",
   "execution_count": 16,
   "metadata": {
    "collapsed": false
   },
   "outputs": [
    {
     "name": "stdout",
     "output_type": "stream",
     "text": [
      "                   A         B         C         D\n",
      "2013-01-01 -0.602886 -0.009738  0.920296 -0.120781\n",
      "2013-01-02 -0.767066  0.863360 -0.129797 -1.655755\n",
      "2013-01-03 -0.722352  0.532876 -0.844975 -0.373513\n",
      "2013-01-04  0.053622 -0.477888 -0.051455  1.668770\n",
      "2013-01-05  0.433571  0.933637  0.656147  0.117302\n",
      "2013-01-06  2.105373 -0.806524  1.552399 -0.900801\n",
      "A   -0.602886\n",
      "B   -0.009738\n",
      "C    0.920296\n",
      "D   -0.120781\n",
      "Name: 2013-01-01 00:00:00, dtype: float64\n"
     ]
    }
   ],
   "source": [
    "# For getting a cross section using a label\n",
    "print(df)\n",
    "print(df.loc[dates[0]])  # select by row"
   ]
  },
  {
   "cell_type": "code",
   "execution_count": 17,
   "metadata": {
    "collapsed": false
   },
   "outputs": [
    {
     "data": {
      "text/html": [
       "<div>\n",
       "<table border=\"1\" class=\"dataframe\">\n",
       "  <thead>\n",
       "    <tr style=\"text-align: right;\">\n",
       "      <th></th>\n",
       "      <th>A</th>\n",
       "      <th>B</th>\n",
       "    </tr>\n",
       "  </thead>\n",
       "  <tbody>\n",
       "    <tr>\n",
       "      <th>2013-01-01</th>\n",
       "      <td>-0.602886</td>\n",
       "      <td>-0.009738</td>\n",
       "    </tr>\n",
       "    <tr>\n",
       "      <th>2013-01-02</th>\n",
       "      <td>-0.767066</td>\n",
       "      <td>0.863360</td>\n",
       "    </tr>\n",
       "    <tr>\n",
       "      <th>2013-01-03</th>\n",
       "      <td>-0.722352</td>\n",
       "      <td>0.532876</td>\n",
       "    </tr>\n",
       "    <tr>\n",
       "      <th>2013-01-04</th>\n",
       "      <td>0.053622</td>\n",
       "      <td>-0.477888</td>\n",
       "    </tr>\n",
       "    <tr>\n",
       "      <th>2013-01-05</th>\n",
       "      <td>0.433571</td>\n",
       "      <td>0.933637</td>\n",
       "    </tr>\n",
       "    <tr>\n",
       "      <th>2013-01-06</th>\n",
       "      <td>2.105373</td>\n",
       "      <td>-0.806524</td>\n",
       "    </tr>\n",
       "  </tbody>\n",
       "</table>\n",
       "</div>"
      ],
      "text/plain": [
       "                   A         B\n",
       "2013-01-01 -0.602886 -0.009738\n",
       "2013-01-02 -0.767066  0.863360\n",
       "2013-01-03 -0.722352  0.532876\n",
       "2013-01-04  0.053622 -0.477888\n",
       "2013-01-05  0.433571  0.933637\n",
       "2013-01-06  2.105373 -0.806524"
      ]
     },
     "execution_count": 17,
     "metadata": {},
     "output_type": "execute_result"
    }
   ],
   "source": [
    "# Selecting on a multi-axis by label\n",
    "df.loc[:,['A','B']]"
   ]
  },
  {
   "cell_type": "code",
   "execution_count": 18,
   "metadata": {
    "collapsed": false
   },
   "outputs": [
    {
     "name": "stdout",
     "output_type": "stream",
     "text": [
      "                   A         B\n",
      "2013-01-02 -0.767066  0.863360\n",
      "2013-01-03 -0.722352  0.532876\n",
      "2013-01-04  0.053622 -0.477888\n"
     ]
    }
   ],
   "source": [
    "# Showing label slicing, both endpoints are included\n",
    "print(df.loc['20130102':'20130104',['A','B']])"
   ]
  },
  {
   "cell_type": "code",
   "execution_count": 19,
   "metadata": {
    "collapsed": false
   },
   "outputs": [
    {
     "data": {
      "text/plain": [
       "A   -0.767066\n",
       "B    0.863360\n",
       "Name: 2013-01-02 00:00:00, dtype: float64"
      ]
     },
     "execution_count": 19,
     "metadata": {},
     "output_type": "execute_result"
    }
   ],
   "source": [
    "# Reduction in the dimensions of the returned object\n",
    "df.loc['20130102',['A','B']]"
   ]
  },
  {
   "cell_type": "code",
   "execution_count": 20,
   "metadata": {
    "collapsed": false
   },
   "outputs": [
    {
     "name": "stdout",
     "output_type": "stream",
     "text": [
      "-0.767065761916\n",
      "<type 'numpy.float64'>\n",
      "A   -0.767066\n",
      "Name: 2013-01-02 00:00:00, dtype: float64\n",
      "<class 'pandas.core.series.Series'>\n"
     ]
    }
   ],
   "source": [
    "# For getting a scalar value\n",
    "print(df.loc['20130102', \"A\"])\n",
    "print(type(df.loc['20130102', \"A\"]))\n",
    "\n",
    "# what method result in a Series?\n",
    "print(df.loc['20130102', [\"A\"]])\n",
    "print(type(df.loc['20130102', [\"A\"]]))"
   ]
  },
  {
   "cell_type": "code",
   "execution_count": 21,
   "metadata": {
    "collapsed": false
   },
   "outputs": [
    {
     "name": "stdout",
     "output_type": "stream",
     "text": [
      "-0.602886017067\n",
      "<class 'pandas.tslib.Timestamp'>\n",
      "DatetimeIndex(['2013-01-01', '2013-01-02', '2013-01-03', '2013-01-04',\n",
      "               '2013-01-05', '2013-01-06'],\n",
      "              dtype='datetime64[ns]', freq='D')\n"
     ]
    }
   ],
   "source": [
    "# For getting fast access to a scalar (equiv to the prior method)\n",
    "print(df.at[dates[0],'A'])\n",
    "print type(dates[0])\n",
    "print df.index"
   ]
  },
  {
   "cell_type": "code",
   "execution_count": 22,
   "metadata": {
    "collapsed": false
   },
   "outputs": [
    {
     "name": "stdout",
     "output_type": "stream",
     "text": [
      "                   A         B         C         D\n",
      "2013-01-01 -0.602886 -0.009738  0.920296 -0.120781\n",
      "2013-01-02 -0.767066  0.863360 -0.129797 -1.655755\n",
      "2013-01-03 -0.722352  0.532876 -0.844975 -0.373513\n",
      "2013-01-04  0.053622 -0.477888 -0.051455  1.668770\n",
      "2013-01-05  0.433571  0.933637  0.656147  0.117302\n",
      "2013-01-06  2.105373 -0.806524  1.552399 -0.900801\n",
      "A    0.053622\n",
      "B   -0.477888\n",
      "C   -0.051455\n",
      "D    1.668770\n",
      "Name: 2013-01-04 00:00:00, dtype: float64\n"
     ]
    }
   ],
   "source": [
    "# Select by position\n",
    "print df\n",
    "\n",
    "# select via the position of the passed integers\n",
    "print df.iloc[3]"
   ]
  },
  {
   "cell_type": "code",
   "execution_count": 23,
   "metadata": {
    "collapsed": false
   },
   "outputs": [
    {
     "data": {
      "text/html": [
       "<div>\n",
       "<table border=\"1\" class=\"dataframe\">\n",
       "  <thead>\n",
       "    <tr style=\"text-align: right;\">\n",
       "      <th></th>\n",
       "      <th>A</th>\n",
       "      <th>B</th>\n",
       "    </tr>\n",
       "  </thead>\n",
       "  <tbody>\n",
       "    <tr>\n",
       "      <th>2013-01-04</th>\n",
       "      <td>0.053622</td>\n",
       "      <td>-0.477888</td>\n",
       "    </tr>\n",
       "    <tr>\n",
       "      <th>2013-01-05</th>\n",
       "      <td>0.433571</td>\n",
       "      <td>0.933637</td>\n",
       "    </tr>\n",
       "  </tbody>\n",
       "</table>\n",
       "</div>"
      ],
      "text/plain": [
       "                   A         B\n",
       "2013-01-04  0.053622 -0.477888\n",
       "2013-01-05  0.433571  0.933637"
      ]
     },
     "execution_count": 23,
     "metadata": {},
     "output_type": "execute_result"
    }
   ],
   "source": [
    "# By integer slices, acting similar to numpy/python\n",
    "df.iloc[3:5, 0:2]"
   ]
  },
  {
   "cell_type": "code",
   "execution_count": 24,
   "metadata": {
    "collapsed": false
   },
   "outputs": [
    {
     "name": "stdout",
     "output_type": "stream",
     "text": [
      "                   A         B         C         D\n",
      "2013-01-01 -0.602886 -0.009738  0.920296 -0.120781\n",
      "2013-01-02 -0.767066  0.863360 -0.129797 -1.655755\n",
      "2013-01-03 -0.722352  0.532876 -0.844975 -0.373513\n",
      "2013-01-04  0.053622 -0.477888 -0.051455  1.668770\n",
      "2013-01-05  0.433571  0.933637  0.656147  0.117302\n",
      "2013-01-06  2.105373 -0.806524  1.552399 -0.900801\n"
     ]
    },
    {
     "data": {
      "text/html": [
       "<div>\n",
       "<table border=\"1\" class=\"dataframe\">\n",
       "  <thead>\n",
       "    <tr style=\"text-align: right;\">\n",
       "      <th></th>\n",
       "      <th>A</th>\n",
       "      <th>C</th>\n",
       "    </tr>\n",
       "  </thead>\n",
       "  <tbody>\n",
       "    <tr>\n",
       "      <th>2013-01-02</th>\n",
       "      <td>-0.767066</td>\n",
       "      <td>-0.129797</td>\n",
       "    </tr>\n",
       "    <tr>\n",
       "      <th>2013-01-03</th>\n",
       "      <td>-0.722352</td>\n",
       "      <td>-0.844975</td>\n",
       "    </tr>\n",
       "    <tr>\n",
       "      <th>2013-01-05</th>\n",
       "      <td>0.433571</td>\n",
       "      <td>0.656147</td>\n",
       "    </tr>\n",
       "  </tbody>\n",
       "</table>\n",
       "</div>"
      ],
      "text/plain": [
       "                   A         C\n",
       "2013-01-02 -0.767066 -0.129797\n",
       "2013-01-03 -0.722352 -0.844975\n",
       "2013-01-05  0.433571  0.656147"
      ]
     },
     "execution_count": 24,
     "metadata": {},
     "output_type": "execute_result"
    }
   ],
   "source": [
    "# By lists of integer position locations, similar to the numpy/python style\n",
    "print df\n",
    "df.iloc[[1,2,4], [0,2]]"
   ]
  },
  {
   "cell_type": "code",
   "execution_count": 25,
   "metadata": {
    "collapsed": false
   },
   "outputs": [
    {
     "name": "stdout",
     "output_type": "stream",
     "text": [
      "                   A         B         C         D\n",
      "2013-01-01 -0.602886 -0.009738  0.920296 -0.120781\n",
      "2013-01-02 -0.767066  0.863360 -0.129797 -1.655755\n",
      "2013-01-03 -0.722352  0.532876 -0.844975 -0.373513\n",
      "2013-01-04  0.053622 -0.477888 -0.051455  1.668770\n",
      "2013-01-05  0.433571  0.933637  0.656147  0.117302\n",
      "2013-01-06  2.105373 -0.806524  1.552399 -0.900801\n"
     ]
    },
    {
     "data": {
      "text/html": [
       "<div>\n",
       "<table border=\"1\" class=\"dataframe\">\n",
       "  <thead>\n",
       "    <tr style=\"text-align: right;\">\n",
       "      <th></th>\n",
       "      <th>A</th>\n",
       "      <th>B</th>\n",
       "      <th>C</th>\n",
       "      <th>D</th>\n",
       "    </tr>\n",
       "  </thead>\n",
       "  <tbody>\n",
       "    <tr>\n",
       "      <th>2013-01-02</th>\n",
       "      <td>-0.767066</td>\n",
       "      <td>0.863360</td>\n",
       "      <td>-0.129797</td>\n",
       "      <td>-1.655755</td>\n",
       "    </tr>\n",
       "    <tr>\n",
       "      <th>2013-01-03</th>\n",
       "      <td>-0.722352</td>\n",
       "      <td>0.532876</td>\n",
       "      <td>-0.844975</td>\n",
       "      <td>-0.373513</td>\n",
       "    </tr>\n",
       "  </tbody>\n",
       "</table>\n",
       "</div>"
      ],
      "text/plain": [
       "                   A         B         C         D\n",
       "2013-01-02 -0.767066  0.863360 -0.129797 -1.655755\n",
       "2013-01-03 -0.722352  0.532876 -0.844975 -0.373513"
      ]
     },
     "execution_count": 25,
     "metadata": {},
     "output_type": "execute_result"
    }
   ],
   "source": [
    "# For slicing rows explicitly\n",
    "print df\n",
    "df.iloc[1:3, :]"
   ]
  },
  {
   "cell_type": "code",
   "execution_count": 26,
   "metadata": {
    "collapsed": false
   },
   "outputs": [
    {
     "data": {
      "text/html": [
       "<div>\n",
       "<table border=\"1\" class=\"dataframe\">\n",
       "  <thead>\n",
       "    <tr style=\"text-align: right;\">\n",
       "      <th></th>\n",
       "      <th>B</th>\n",
       "      <th>C</th>\n",
       "    </tr>\n",
       "  </thead>\n",
       "  <tbody>\n",
       "    <tr>\n",
       "      <th>2013-01-01</th>\n",
       "      <td>-0.009738</td>\n",
       "      <td>0.920296</td>\n",
       "    </tr>\n",
       "    <tr>\n",
       "      <th>2013-01-02</th>\n",
       "      <td>0.863360</td>\n",
       "      <td>-0.129797</td>\n",
       "    </tr>\n",
       "    <tr>\n",
       "      <th>2013-01-03</th>\n",
       "      <td>0.532876</td>\n",
       "      <td>-0.844975</td>\n",
       "    </tr>\n",
       "    <tr>\n",
       "      <th>2013-01-04</th>\n",
       "      <td>-0.477888</td>\n",
       "      <td>-0.051455</td>\n",
       "    </tr>\n",
       "    <tr>\n",
       "      <th>2013-01-05</th>\n",
       "      <td>0.933637</td>\n",
       "      <td>0.656147</td>\n",
       "    </tr>\n",
       "    <tr>\n",
       "      <th>2013-01-06</th>\n",
       "      <td>-0.806524</td>\n",
       "      <td>1.552399</td>\n",
       "    </tr>\n",
       "  </tbody>\n",
       "</table>\n",
       "</div>"
      ],
      "text/plain": [
       "                   B         C\n",
       "2013-01-01 -0.009738  0.920296\n",
       "2013-01-02  0.863360 -0.129797\n",
       "2013-01-03  0.532876 -0.844975\n",
       "2013-01-04 -0.477888 -0.051455\n",
       "2013-01-05  0.933637  0.656147\n",
       "2013-01-06 -0.806524  1.552399"
      ]
     },
     "execution_count": 26,
     "metadata": {},
     "output_type": "execute_result"
    }
   ],
   "source": [
    "# For slicing columns explicitly\n",
    "df.iloc[:, 1:3]"
   ]
  },
  {
   "cell_type": "code",
   "execution_count": 27,
   "metadata": {
    "collapsed": false
   },
   "outputs": [
    {
     "data": {
      "text/plain": [
       "0.86335975935730247"
      ]
     },
     "execution_count": 27,
     "metadata": {},
     "output_type": "execute_result"
    }
   ],
   "source": [
    "# for getting a value explicitly\n",
    "df.iloc[1,1]"
   ]
  },
  {
   "cell_type": "code",
   "execution_count": 28,
   "metadata": {
    "collapsed": false
   },
   "outputs": [
    {
     "data": {
      "text/plain": [
       "0.86335975935730247"
      ]
     },
     "execution_count": 28,
     "metadata": {},
     "output_type": "execute_result"
    }
   ],
   "source": [
    "# for getting fast access to a scalar (equivalent to the prior method)\n",
    "df.iat[1,1]"
   ]
  },
  {
   "cell_type": "code",
   "execution_count": 29,
   "metadata": {
    "collapsed": false
   },
   "outputs": [
    {
     "data": {
      "text/html": [
       "<div>\n",
       "<table border=\"1\" class=\"dataframe\">\n",
       "  <thead>\n",
       "    <tr style=\"text-align: right;\">\n",
       "      <th></th>\n",
       "      <th>A</th>\n",
       "      <th>C</th>\n",
       "    </tr>\n",
       "  </thead>\n",
       "  <tbody>\n",
       "    <tr>\n",
       "      <th>2013-01-02</th>\n",
       "      <td>-0.767066</td>\n",
       "      <td>-0.129797</td>\n",
       "    </tr>\n",
       "    <tr>\n",
       "      <th>2013-01-03</th>\n",
       "      <td>-0.722352</td>\n",
       "      <td>-0.844975</td>\n",
       "    </tr>\n",
       "  </tbody>\n",
       "</table>\n",
       "</div>"
      ],
      "text/plain": [
       "                   A         C\n",
       "2013-01-02 -0.767066 -0.129797\n",
       "2013-01-03 -0.722352 -0.844975"
      ]
     },
     "execution_count": 29,
     "metadata": {},
     "output_type": "execute_result"
    }
   ],
   "source": [
    "df.loc[dates[1:3], [\"A\", \"C\"]]"
   ]
  },
  {
   "cell_type": "code",
   "execution_count": 30,
   "metadata": {
    "collapsed": false
   },
   "outputs": [
    {
     "name": "stdout",
     "output_type": "stream",
     "text": [
      "                   A         B         C         D\n",
      "2013-01-01 -0.602886 -0.009738  0.920296 -0.120781\n",
      "2013-01-02 -0.767066  0.863360 -0.129797 -1.655755\n",
      "2013-01-03 -0.722352  0.532876 -0.844975 -0.373513\n",
      "2013-01-04  0.053622 -0.477888 -0.051455  1.668770\n",
      "2013-01-05  0.433571  0.933637  0.656147  0.117302\n",
      "2013-01-06  2.105373 -0.806524  1.552399 -0.900801\n"
     ]
    },
    {
     "data": {
      "text/html": [
       "<div>\n",
       "<table border=\"1\" class=\"dataframe\">\n",
       "  <thead>\n",
       "    <tr style=\"text-align: right;\">\n",
       "      <th></th>\n",
       "      <th>A</th>\n",
       "      <th>B</th>\n",
       "      <th>C</th>\n",
       "      <th>D</th>\n",
       "    </tr>\n",
       "  </thead>\n",
       "  <tbody>\n",
       "    <tr>\n",
       "      <th>2013-01-02</th>\n",
       "      <td>-0.767066</td>\n",
       "      <td>0.863360</td>\n",
       "      <td>-0.129797</td>\n",
       "      <td>-1.655755</td>\n",
       "    </tr>\n",
       "    <tr>\n",
       "      <th>2013-01-03</th>\n",
       "      <td>-0.722352</td>\n",
       "      <td>0.532876</td>\n",
       "      <td>-0.844975</td>\n",
       "      <td>-0.373513</td>\n",
       "    </tr>\n",
       "    <tr>\n",
       "      <th>2013-01-05</th>\n",
       "      <td>0.433571</td>\n",
       "      <td>0.933637</td>\n",
       "      <td>0.656147</td>\n",
       "      <td>0.117302</td>\n",
       "    </tr>\n",
       "  </tbody>\n",
       "</table>\n",
       "</div>"
      ],
      "text/plain": [
       "                   A         B         C         D\n",
       "2013-01-02 -0.767066  0.863360 -0.129797 -1.655755\n",
       "2013-01-03 -0.722352  0.532876 -0.844975 -0.373513\n",
       "2013-01-05  0.433571  0.933637  0.656147  0.117302"
      ]
     },
     "execution_count": 30,
     "metadata": {},
     "output_type": "execute_result"
    }
   ],
   "source": [
    "# Boolean Indexing\n",
    "print df\n",
    "df[df.B>0]"
   ]
  },
  {
   "cell_type": "code",
   "execution_count": 31,
   "metadata": {
    "collapsed": false
   },
   "outputs": [
    {
     "data": {
      "text/html": [
       "<div>\n",
       "<table border=\"1\" class=\"dataframe\">\n",
       "  <thead>\n",
       "    <tr style=\"text-align: right;\">\n",
       "      <th></th>\n",
       "      <th>A</th>\n",
       "      <th>B</th>\n",
       "      <th>C</th>\n",
       "      <th>D</th>\n",
       "    </tr>\n",
       "  </thead>\n",
       "  <tbody>\n",
       "    <tr>\n",
       "      <th>2013-01-01</th>\n",
       "      <td>NaN</td>\n",
       "      <td>NaN</td>\n",
       "      <td>0.920296</td>\n",
       "      <td>NaN</td>\n",
       "    </tr>\n",
       "    <tr>\n",
       "      <th>2013-01-02</th>\n",
       "      <td>NaN</td>\n",
       "      <td>0.863360</td>\n",
       "      <td>NaN</td>\n",
       "      <td>NaN</td>\n",
       "    </tr>\n",
       "    <tr>\n",
       "      <th>2013-01-03</th>\n",
       "      <td>NaN</td>\n",
       "      <td>0.532876</td>\n",
       "      <td>NaN</td>\n",
       "      <td>NaN</td>\n",
       "    </tr>\n",
       "    <tr>\n",
       "      <th>2013-01-04</th>\n",
       "      <td>0.053622</td>\n",
       "      <td>NaN</td>\n",
       "      <td>NaN</td>\n",
       "      <td>1.668770</td>\n",
       "    </tr>\n",
       "    <tr>\n",
       "      <th>2013-01-05</th>\n",
       "      <td>0.433571</td>\n",
       "      <td>0.933637</td>\n",
       "      <td>0.656147</td>\n",
       "      <td>0.117302</td>\n",
       "    </tr>\n",
       "    <tr>\n",
       "      <th>2013-01-06</th>\n",
       "      <td>2.105373</td>\n",
       "      <td>NaN</td>\n",
       "      <td>1.552399</td>\n",
       "      <td>NaN</td>\n",
       "    </tr>\n",
       "  </tbody>\n",
       "</table>\n",
       "</div>"
      ],
      "text/plain": [
       "                   A         B         C         D\n",
       "2013-01-01       NaN       NaN  0.920296       NaN\n",
       "2013-01-02       NaN  0.863360       NaN       NaN\n",
       "2013-01-03       NaN  0.532876       NaN       NaN\n",
       "2013-01-04  0.053622       NaN       NaN  1.668770\n",
       "2013-01-05  0.433571  0.933637  0.656147  0.117302\n",
       "2013-01-06  2.105373       NaN  1.552399       NaN"
      ]
     },
     "execution_count": 31,
     "metadata": {},
     "output_type": "execute_result"
    }
   ],
   "source": [
    "# A where operation for getting\n",
    "df[df>0]"
   ]
  },
  {
   "cell_type": "code",
   "execution_count": 32,
   "metadata": {
    "collapsed": false
   },
   "outputs": [
    {
     "data": {
      "text/html": [
       "<div>\n",
       "<table border=\"1\" class=\"dataframe\">\n",
       "  <thead>\n",
       "    <tr style=\"text-align: right;\">\n",
       "      <th></th>\n",
       "      <th>A</th>\n",
       "      <th>B</th>\n",
       "      <th>C</th>\n",
       "      <th>D</th>\n",
       "    </tr>\n",
       "  </thead>\n",
       "  <tbody>\n",
       "    <tr>\n",
       "      <th>2013-01-01</th>\n",
       "      <td>100.000000</td>\n",
       "      <td>100.000000</td>\n",
       "      <td>0.920296</td>\n",
       "      <td>100.000000</td>\n",
       "    </tr>\n",
       "    <tr>\n",
       "      <th>2013-01-02</th>\n",
       "      <td>100.000000</td>\n",
       "      <td>0.863360</td>\n",
       "      <td>100.000000</td>\n",
       "      <td>100.000000</td>\n",
       "    </tr>\n",
       "    <tr>\n",
       "      <th>2013-01-03</th>\n",
       "      <td>100.000000</td>\n",
       "      <td>0.532876</td>\n",
       "      <td>100.000000</td>\n",
       "      <td>100.000000</td>\n",
       "    </tr>\n",
       "    <tr>\n",
       "      <th>2013-01-04</th>\n",
       "      <td>0.053622</td>\n",
       "      <td>100.000000</td>\n",
       "      <td>100.000000</td>\n",
       "      <td>1.668770</td>\n",
       "    </tr>\n",
       "    <tr>\n",
       "      <th>2013-01-05</th>\n",
       "      <td>0.433571</td>\n",
       "      <td>0.933637</td>\n",
       "      <td>0.656147</td>\n",
       "      <td>0.117302</td>\n",
       "    </tr>\n",
       "    <tr>\n",
       "      <th>2013-01-06</th>\n",
       "      <td>2.105373</td>\n",
       "      <td>100.000000</td>\n",
       "      <td>1.552399</td>\n",
       "      <td>100.000000</td>\n",
       "    </tr>\n",
       "  </tbody>\n",
       "</table>\n",
       "</div>"
      ],
      "text/plain": [
       "                     A           B           C           D\n",
       "2013-01-01  100.000000  100.000000    0.920296  100.000000\n",
       "2013-01-02  100.000000    0.863360  100.000000  100.000000\n",
       "2013-01-03  100.000000    0.532876  100.000000  100.000000\n",
       "2013-01-04    0.053622  100.000000  100.000000    1.668770\n",
       "2013-01-05    0.433571    0.933637    0.656147    0.117302\n",
       "2013-01-06    2.105373  100.000000    1.552399  100.000000"
      ]
     },
     "execution_count": 32,
     "metadata": {},
     "output_type": "execute_result"
    }
   ],
   "source": [
    "# use where operation to update values\n",
    "df[df < 0] = 100\n",
    "df"
   ]
  },
  {
   "cell_type": "code",
   "execution_count": 33,
   "metadata": {
    "collapsed": false
   },
   "outputs": [],
   "source": [
    "df2 = df.copy()  \n",
    "# NOTE: similar to list, if we simply use \"df2 = df\", any change happened to either one will affect another one."
   ]
  },
  {
   "cell_type": "code",
   "execution_count": 34,
   "metadata": {
    "collapsed": false
   },
   "outputs": [
    {
     "data": {
      "text/html": [
       "<div>\n",
       "<table border=\"1\" class=\"dataframe\">\n",
       "  <thead>\n",
       "    <tr style=\"text-align: right;\">\n",
       "      <th></th>\n",
       "      <th>A</th>\n",
       "      <th>B</th>\n",
       "      <th>C</th>\n",
       "      <th>D</th>\n",
       "      <th>E</th>\n",
       "    </tr>\n",
       "  </thead>\n",
       "  <tbody>\n",
       "    <tr>\n",
       "      <th>2013-01-01</th>\n",
       "      <td>100.000000</td>\n",
       "      <td>100.000000</td>\n",
       "      <td>0.920296</td>\n",
       "      <td>100.000000</td>\n",
       "      <td>one</td>\n",
       "    </tr>\n",
       "    <tr>\n",
       "      <th>2013-01-02</th>\n",
       "      <td>100.000000</td>\n",
       "      <td>0.863360</td>\n",
       "      <td>100.000000</td>\n",
       "      <td>100.000000</td>\n",
       "      <td>one</td>\n",
       "    </tr>\n",
       "    <tr>\n",
       "      <th>2013-01-03</th>\n",
       "      <td>100.000000</td>\n",
       "      <td>0.532876</td>\n",
       "      <td>100.000000</td>\n",
       "      <td>100.000000</td>\n",
       "      <td>two</td>\n",
       "    </tr>\n",
       "    <tr>\n",
       "      <th>2013-01-04</th>\n",
       "      <td>0.053622</td>\n",
       "      <td>100.000000</td>\n",
       "      <td>100.000000</td>\n",
       "      <td>1.668770</td>\n",
       "      <td>three</td>\n",
       "    </tr>\n",
       "    <tr>\n",
       "      <th>2013-01-05</th>\n",
       "      <td>0.433571</td>\n",
       "      <td>0.933637</td>\n",
       "      <td>0.656147</td>\n",
       "      <td>0.117302</td>\n",
       "      <td>four</td>\n",
       "    </tr>\n",
       "    <tr>\n",
       "      <th>2013-01-06</th>\n",
       "      <td>2.105373</td>\n",
       "      <td>100.000000</td>\n",
       "      <td>1.552399</td>\n",
       "      <td>100.000000</td>\n",
       "      <td>three</td>\n",
       "    </tr>\n",
       "  </tbody>\n",
       "</table>\n",
       "</div>"
      ],
      "text/plain": [
       "                     A           B           C           D      E\n",
       "2013-01-01  100.000000  100.000000    0.920296  100.000000    one\n",
       "2013-01-02  100.000000    0.863360  100.000000  100.000000    one\n",
       "2013-01-03  100.000000    0.532876  100.000000  100.000000    two\n",
       "2013-01-04    0.053622  100.000000  100.000000    1.668770  three\n",
       "2013-01-05    0.433571    0.933637    0.656147    0.117302   four\n",
       "2013-01-06    2.105373  100.000000    1.552399  100.000000  three"
      ]
     },
     "execution_count": 34,
     "metadata": {},
     "output_type": "execute_result"
    }
   ],
   "source": [
    "df2[\"E\"] = [\"one\", \"one\", \"two\", \"three\", \"four\", \"three\"]\n",
    "df2"
   ]
  },
  {
   "cell_type": "code",
   "execution_count": 35,
   "metadata": {
    "collapsed": false
   },
   "outputs": [
    {
     "data": {
      "text/html": [
       "<div>\n",
       "<table border=\"1\" class=\"dataframe\">\n",
       "  <thead>\n",
       "    <tr style=\"text-align: right;\">\n",
       "      <th></th>\n",
       "      <th>A</th>\n",
       "      <th>B</th>\n",
       "      <th>C</th>\n",
       "      <th>D</th>\n",
       "      <th>E</th>\n",
       "    </tr>\n",
       "  </thead>\n",
       "  <tbody>\n",
       "    <tr>\n",
       "      <th>2013-01-03</th>\n",
       "      <td>100.000000</td>\n",
       "      <td>0.532876</td>\n",
       "      <td>100.000000</td>\n",
       "      <td>100.00000</td>\n",
       "      <td>two</td>\n",
       "    </tr>\n",
       "    <tr>\n",
       "      <th>2013-01-04</th>\n",
       "      <td>0.053622</td>\n",
       "      <td>100.000000</td>\n",
       "      <td>100.000000</td>\n",
       "      <td>1.66877</td>\n",
       "      <td>three</td>\n",
       "    </tr>\n",
       "    <tr>\n",
       "      <th>2013-01-06</th>\n",
       "      <td>2.105373</td>\n",
       "      <td>100.000000</td>\n",
       "      <td>1.552399</td>\n",
       "      <td>100.00000</td>\n",
       "      <td>three</td>\n",
       "    </tr>\n",
       "  </tbody>\n",
       "</table>\n",
       "</div>"
      ],
      "text/plain": [
       "                     A           B           C          D      E\n",
       "2013-01-03  100.000000    0.532876  100.000000  100.00000    two\n",
       "2013-01-04    0.053622  100.000000  100.000000    1.66877  three\n",
       "2013-01-06    2.105373  100.000000    1.552399  100.00000  three"
      ]
     },
     "execution_count": 35,
     "metadata": {},
     "output_type": "execute_result"
    }
   ],
   "source": [
    "# Use isin() method for filtering\n",
    "df2[df2[\"E\"].isin([\"two\", \"three\"])]"
   ]
  },
  {
   "cell_type": "code",
   "execution_count": 36,
   "metadata": {
    "collapsed": false
   },
   "outputs": [
    {
     "name": "stdout",
     "output_type": "stream",
     "text": [
      "2013-01-02    1\n",
      "2013-01-03    2\n",
      "2013-01-04    3\n",
      "2013-01-05    4\n",
      "2013-01-06    5\n",
      "2013-01-07    6\n",
      "Freq: D, dtype: int64\n",
      "                     A           B           C           D    F\n",
      "2013-01-01  100.000000  100.000000    0.920296  100.000000  NaN\n",
      "2013-01-02  100.000000    0.863360  100.000000  100.000000  1.0\n",
      "2013-01-03  100.000000    0.532876  100.000000  100.000000  2.0\n",
      "2013-01-04    0.053622  100.000000  100.000000    1.668770  3.0\n",
      "2013-01-05    0.433571    0.933637    0.656147    0.117302  4.0\n",
      "2013-01-06    2.105373  100.000000    1.552399  100.000000  5.0\n"
     ]
    }
   ],
   "source": [
    "# Setting a new column automatially aligns the data by the indexes\n",
    "s1 = pd.Series([1,2,3,4,5,6], index=pd.date_range(\"20130102\", periods=6))\n",
    "print(s1)\n",
    "\n",
    "df[\"F\"] = s1\n",
    "print(df)"
   ]
  },
  {
   "cell_type": "code",
   "execution_count": 37,
   "metadata": {
    "collapsed": false
   },
   "outputs": [
    {
     "data": {
      "text/html": [
       "<div>\n",
       "<table border=\"1\" class=\"dataframe\">\n",
       "  <thead>\n",
       "    <tr style=\"text-align: right;\">\n",
       "      <th></th>\n",
       "      <th>A</th>\n",
       "      <th>B</th>\n",
       "      <th>C</th>\n",
       "      <th>D</th>\n",
       "      <th>F</th>\n",
       "    </tr>\n",
       "  </thead>\n",
       "  <tbody>\n",
       "    <tr>\n",
       "      <th>2013-01-01</th>\n",
       "      <td>0.000000</td>\n",
       "      <td>100.000000</td>\n",
       "      <td>0.920296</td>\n",
       "      <td>100.000000</td>\n",
       "      <td>NaN</td>\n",
       "    </tr>\n",
       "    <tr>\n",
       "      <th>2013-01-02</th>\n",
       "      <td>100.000000</td>\n",
       "      <td>0.863360</td>\n",
       "      <td>100.000000</td>\n",
       "      <td>100.000000</td>\n",
       "      <td>1.0</td>\n",
       "    </tr>\n",
       "    <tr>\n",
       "      <th>2013-01-03</th>\n",
       "      <td>100.000000</td>\n",
       "      <td>0.532876</td>\n",
       "      <td>100.000000</td>\n",
       "      <td>100.000000</td>\n",
       "      <td>2.0</td>\n",
       "    </tr>\n",
       "    <tr>\n",
       "      <th>2013-01-04</th>\n",
       "      <td>0.053622</td>\n",
       "      <td>100.000000</td>\n",
       "      <td>100.000000</td>\n",
       "      <td>1.668770</td>\n",
       "      <td>3.0</td>\n",
       "    </tr>\n",
       "    <tr>\n",
       "      <th>2013-01-05</th>\n",
       "      <td>0.433571</td>\n",
       "      <td>0.933637</td>\n",
       "      <td>0.656147</td>\n",
       "      <td>0.117302</td>\n",
       "      <td>4.0</td>\n",
       "    </tr>\n",
       "    <tr>\n",
       "      <th>2013-01-06</th>\n",
       "      <td>2.105373</td>\n",
       "      <td>100.000000</td>\n",
       "      <td>1.552399</td>\n",
       "      <td>100.000000</td>\n",
       "      <td>5.0</td>\n",
       "    </tr>\n",
       "  </tbody>\n",
       "</table>\n",
       "</div>"
      ],
      "text/plain": [
       "                     A           B           C           D    F\n",
       "2013-01-01    0.000000  100.000000    0.920296  100.000000  NaN\n",
       "2013-01-02  100.000000    0.863360  100.000000  100.000000  1.0\n",
       "2013-01-03  100.000000    0.532876  100.000000  100.000000  2.0\n",
       "2013-01-04    0.053622  100.000000  100.000000    1.668770  3.0\n",
       "2013-01-05    0.433571    0.933637    0.656147    0.117302  4.0\n",
       "2013-01-06    2.105373  100.000000    1.552399  100.000000  5.0"
      ]
     },
     "execution_count": 37,
     "metadata": {},
     "output_type": "execute_result"
    }
   ],
   "source": [
    "# Seeting values by label\n",
    "df.at[dates[0], 'A'] = 0\n",
    "df"
   ]
  },
  {
   "cell_type": "code",
   "execution_count": 38,
   "metadata": {
    "collapsed": false
   },
   "outputs": [
    {
     "name": "stdout",
     "output_type": "stream",
     "text": [
      "                     A           B           C           D    F\n",
      "2013-01-01    0.000000  100.000000    0.920296  100.000000  NaN\n",
      "2013-01-02  100.000000    0.863360  100.000000  100.000000  1.0\n",
      "2013-01-03  100.000000    0.532876  100.000000  100.000000  2.0\n",
      "2013-01-04    5.000000  100.000000  100.000000    1.668770  3.0\n",
      "2013-01-05    0.433571    0.933637    0.656147    0.117302  4.0\n",
      "2013-01-06    2.105373  100.000000    1.552399  100.000000  5.0\n",
      "                     A           B           C           D    F\n",
      "2013-01-01  100.000000  100.000000    0.920296  100.000000  NaN\n",
      "2013-01-02  100.000000    0.863360  100.000000  100.000000  1.0\n",
      "2013-01-03  100.000000    0.532876  100.000000  100.000000  2.0\n",
      "2013-01-04    5.000000  100.000000  100.000000    1.668770  3.0\n",
      "2013-01-05    0.433571    0.933637    0.656147    0.117302  4.0\n",
      "2013-01-06    2.105373  100.000000    1.552399  100.000000  5.0\n"
     ]
    }
   ],
   "source": [
    "# Setting values by position\n",
    "df.iat[3, 0] = 5\n",
    "print df\n",
    "\n",
    "df.iloc[0,0] = 100\n",
    "print df"
   ]
  },
  {
   "cell_type": "code",
   "execution_count": 39,
   "metadata": {
    "collapsed": false
   },
   "outputs": [
    {
     "name": "stdout",
     "output_type": "stream",
     "text": [
      "                     A           B           C  D    F\n",
      "2013-01-01  100.000000  100.000000    0.920296  5  NaN\n",
      "2013-01-02  100.000000    0.863360  100.000000  5  1.0\n",
      "2013-01-03  100.000000    0.532876  100.000000  5  2.0\n",
      "2013-01-04    5.000000  100.000000  100.000000  5  3.0\n",
      "2013-01-05    0.433571    0.933637    0.656147  5  4.0\n",
      "2013-01-06    2.105373  100.000000    1.552399  5  5.0\n"
     ]
    }
   ],
   "source": [
    "# Setting by assigning with numpy array\n",
    "df.loc[:, 'D'] = np.array([5] * len(df))\n",
    "print df"
   ]
  },
  {
   "cell_type": "code",
   "execution_count": 40,
   "metadata": {
    "collapsed": false
   },
   "outputs": [
    {
     "data": {
      "text/html": [
       "<div>\n",
       "<table border=\"1\" class=\"dataframe\">\n",
       "  <thead>\n",
       "    <tr style=\"text-align: right;\">\n",
       "      <th></th>\n",
       "      <th>A</th>\n",
       "      <th>B</th>\n",
       "      <th>C</th>\n",
       "      <th>D</th>\n",
       "      <th>F</th>\n",
       "    </tr>\n",
       "  </thead>\n",
       "  <tbody>\n",
       "    <tr>\n",
       "      <th>2013-01-01</th>\n",
       "      <td>-100.000000</td>\n",
       "      <td>-100.000000</td>\n",
       "      <td>0.920296</td>\n",
       "      <td>5</td>\n",
       "      <td>NaN</td>\n",
       "    </tr>\n",
       "    <tr>\n",
       "      <th>2013-01-02</th>\n",
       "      <td>-100.000000</td>\n",
       "      <td>0.863360</td>\n",
       "      <td>-100.000000</td>\n",
       "      <td>5</td>\n",
       "      <td>1.0</td>\n",
       "    </tr>\n",
       "    <tr>\n",
       "      <th>2013-01-03</th>\n",
       "      <td>-100.000000</td>\n",
       "      <td>0.532876</td>\n",
       "      <td>-100.000000</td>\n",
       "      <td>5</td>\n",
       "      <td>2.0</td>\n",
       "    </tr>\n",
       "    <tr>\n",
       "      <th>2013-01-04</th>\n",
       "      <td>5.000000</td>\n",
       "      <td>-100.000000</td>\n",
       "      <td>-100.000000</td>\n",
       "      <td>5</td>\n",
       "      <td>3.0</td>\n",
       "    </tr>\n",
       "    <tr>\n",
       "      <th>2013-01-05</th>\n",
       "      <td>0.433571</td>\n",
       "      <td>0.933637</td>\n",
       "      <td>0.656147</td>\n",
       "      <td>5</td>\n",
       "      <td>4.0</td>\n",
       "    </tr>\n",
       "    <tr>\n",
       "      <th>2013-01-06</th>\n",
       "      <td>2.105373</td>\n",
       "      <td>-100.000000</td>\n",
       "      <td>1.552399</td>\n",
       "      <td>5</td>\n",
       "      <td>5.0</td>\n",
       "    </tr>\n",
       "  </tbody>\n",
       "</table>\n",
       "</div>"
      ],
      "text/plain": [
       "                     A           B           C  D    F\n",
       "2013-01-01 -100.000000 -100.000000    0.920296  5  NaN\n",
       "2013-01-02 -100.000000    0.863360 -100.000000  5  1.0\n",
       "2013-01-03 -100.000000    0.532876 -100.000000  5  2.0\n",
       "2013-01-04    5.000000 -100.000000 -100.000000  5  3.0\n",
       "2013-01-05    0.433571    0.933637    0.656147  5  4.0\n",
       "2013-01-06    2.105373 -100.000000    1.552399  5  5.0"
      ]
     },
     "execution_count": 40,
     "metadata": {},
     "output_type": "execute_result"
    }
   ],
   "source": [
    "# A \"where\" operation with setting\n",
    "df2 = df.copy()\n",
    "df2[df2>5] = -df2\n",
    "df2"
   ]
  },
  {
   "cell_type": "markdown",
   "metadata": {},
   "source": [
    "##  Missing Data"
   ]
  },
  {
   "cell_type": "code",
   "execution_count": 41,
   "metadata": {
    "collapsed": false
   },
   "outputs": [
    {
     "name": "stdout",
     "output_type": "stream",
     "text": [
      "                     A           B           C  D    F\n",
      "2013-01-01  100.000000  100.000000    0.920296  5  NaN\n",
      "2013-01-02  100.000000    0.863360  100.000000  5  1.0\n",
      "2013-01-03  100.000000    0.532876  100.000000  5  2.0\n",
      "2013-01-04    5.000000  100.000000  100.000000  5  3.0\n",
      "2013-01-05    0.433571    0.933637    0.656147  5  4.0\n",
      "2013-01-06    2.105373  100.000000    1.552399  5  5.0\n",
      "                A           B           C  D    F    E\n",
      "2013-01-01  100.0  100.000000    0.920296  5  NaN  1.0\n",
      "2013-01-02  100.0    0.863360  100.000000  5  1.0  1.0\n",
      "2013-01-03  100.0    0.532876  100.000000  5  2.0  NaN\n",
      "2013-01-04    5.0  100.000000  100.000000  5  3.0  NaN\n"
     ]
    }
   ],
   "source": [
    "# pandas primarily uses \"np.nan\" to represent missing data.\n",
    "# It's by default not included in computations.\n",
    "\n",
    "# Reindexing allows you to change/add/delete the index on a specified axis.\n",
    "# it will return a copy of the data\n",
    "\n",
    "print df\n",
    "df1 = df.reindex(index=dates[0:4], columns=list(df.columns) + [\"E\"])\n",
    "df1.loc[dates[0]:dates[1], 'E'] = 1\n",
    "print df1\n",
    "\n"
   ]
  },
  {
   "cell_type": "code",
   "execution_count": 42,
   "metadata": {
    "collapsed": false
   },
   "outputs": [
    {
     "data": {
      "text/html": [
       "<div>\n",
       "<table border=\"1\" class=\"dataframe\">\n",
       "  <thead>\n",
       "    <tr style=\"text-align: right;\">\n",
       "      <th></th>\n",
       "      <th>A</th>\n",
       "      <th>B</th>\n",
       "      <th>C</th>\n",
       "      <th>D</th>\n",
       "      <th>F</th>\n",
       "      <th>E</th>\n",
       "    </tr>\n",
       "  </thead>\n",
       "  <tbody>\n",
       "    <tr>\n",
       "      <th>2013-01-02</th>\n",
       "      <td>100.0</td>\n",
       "      <td>0.86336</td>\n",
       "      <td>100.0</td>\n",
       "      <td>5</td>\n",
       "      <td>1.0</td>\n",
       "      <td>1.0</td>\n",
       "    </tr>\n",
       "  </tbody>\n",
       "</table>\n",
       "</div>"
      ],
      "text/plain": [
       "                A        B      C  D    F    E\n",
       "2013-01-02  100.0  0.86336  100.0  5  1.0  1.0"
      ]
     },
     "execution_count": 42,
     "metadata": {},
     "output_type": "execute_result"
    }
   ],
   "source": [
    "# Drop any rows that have missing data\n",
    "df1.dropna(how = \"any\")"
   ]
  },
  {
   "cell_type": "code",
   "execution_count": 43,
   "metadata": {
    "collapsed": false
   },
   "outputs": [
    {
     "data": {
      "text/html": [
       "<div>\n",
       "<table border=\"1\" class=\"dataframe\">\n",
       "  <thead>\n",
       "    <tr style=\"text-align: right;\">\n",
       "      <th></th>\n",
       "      <th>A</th>\n",
       "      <th>B</th>\n",
       "      <th>C</th>\n",
       "      <th>D</th>\n",
       "      <th>F</th>\n",
       "      <th>E</th>\n",
       "    </tr>\n",
       "  </thead>\n",
       "  <tbody>\n",
       "    <tr>\n",
       "      <th>2013-01-01</th>\n",
       "      <td>100.0</td>\n",
       "      <td>100.000000</td>\n",
       "      <td>0.920296</td>\n",
       "      <td>5</td>\n",
       "      <td>5.0</td>\n",
       "      <td>1.0</td>\n",
       "    </tr>\n",
       "    <tr>\n",
       "      <th>2013-01-02</th>\n",
       "      <td>100.0</td>\n",
       "      <td>0.863360</td>\n",
       "      <td>100.000000</td>\n",
       "      <td>5</td>\n",
       "      <td>1.0</td>\n",
       "      <td>1.0</td>\n",
       "    </tr>\n",
       "    <tr>\n",
       "      <th>2013-01-03</th>\n",
       "      <td>100.0</td>\n",
       "      <td>0.532876</td>\n",
       "      <td>100.000000</td>\n",
       "      <td>5</td>\n",
       "      <td>2.0</td>\n",
       "      <td>5.0</td>\n",
       "    </tr>\n",
       "    <tr>\n",
       "      <th>2013-01-04</th>\n",
       "      <td>5.0</td>\n",
       "      <td>100.000000</td>\n",
       "      <td>100.000000</td>\n",
       "      <td>5</td>\n",
       "      <td>3.0</td>\n",
       "      <td>5.0</td>\n",
       "    </tr>\n",
       "  </tbody>\n",
       "</table>\n",
       "</div>"
      ],
      "text/plain": [
       "                A           B           C  D    F    E\n",
       "2013-01-01  100.0  100.000000    0.920296  5  5.0  1.0\n",
       "2013-01-02  100.0    0.863360  100.000000  5  1.0  1.0\n",
       "2013-01-03  100.0    0.532876  100.000000  5  2.0  5.0\n",
       "2013-01-04    5.0  100.000000  100.000000  5  3.0  5.0"
      ]
     },
     "execution_count": 43,
     "metadata": {},
     "output_type": "execute_result"
    }
   ],
   "source": [
    "# Filling missing data\n",
    "df1.fillna(value=5)"
   ]
  },
  {
   "cell_type": "code",
   "execution_count": 44,
   "metadata": {
    "collapsed": false
   },
   "outputs": [
    {
     "data": {
      "text/html": [
       "<div>\n",
       "<table border=\"1\" class=\"dataframe\">\n",
       "  <thead>\n",
       "    <tr style=\"text-align: right;\">\n",
       "      <th></th>\n",
       "      <th>A</th>\n",
       "      <th>B</th>\n",
       "      <th>C</th>\n",
       "      <th>D</th>\n",
       "      <th>F</th>\n",
       "      <th>E</th>\n",
       "    </tr>\n",
       "  </thead>\n",
       "  <tbody>\n",
       "    <tr>\n",
       "      <th>2013-01-01</th>\n",
       "      <td>False</td>\n",
       "      <td>False</td>\n",
       "      <td>False</td>\n",
       "      <td>False</td>\n",
       "      <td>True</td>\n",
       "      <td>False</td>\n",
       "    </tr>\n",
       "    <tr>\n",
       "      <th>2013-01-02</th>\n",
       "      <td>False</td>\n",
       "      <td>False</td>\n",
       "      <td>False</td>\n",
       "      <td>False</td>\n",
       "      <td>False</td>\n",
       "      <td>False</td>\n",
       "    </tr>\n",
       "    <tr>\n",
       "      <th>2013-01-03</th>\n",
       "      <td>False</td>\n",
       "      <td>False</td>\n",
       "      <td>False</td>\n",
       "      <td>False</td>\n",
       "      <td>False</td>\n",
       "      <td>True</td>\n",
       "    </tr>\n",
       "    <tr>\n",
       "      <th>2013-01-04</th>\n",
       "      <td>False</td>\n",
       "      <td>False</td>\n",
       "      <td>False</td>\n",
       "      <td>False</td>\n",
       "      <td>False</td>\n",
       "      <td>True</td>\n",
       "    </tr>\n",
       "  </tbody>\n",
       "</table>\n",
       "</div>"
      ],
      "text/plain": [
       "                A      B      C      D      F      E\n",
       "2013-01-01  False  False  False  False   True  False\n",
       "2013-01-02  False  False  False  False  False  False\n",
       "2013-01-03  False  False  False  False  False   True\n",
       "2013-01-04  False  False  False  False  False   True"
      ]
     },
     "execution_count": 44,
     "metadata": {},
     "output_type": "execute_result"
    }
   ],
   "source": [
    "# To get the boolen mask where values are nan\n",
    "df1.isnull()"
   ]
  },
  {
   "cell_type": "code",
   "execution_count": 45,
   "metadata": {
    "collapsed": false
   },
   "outputs": [
    {
     "name": "stdout",
     "output_type": "stream",
     "text": [
      "1\n",
      "0\n"
     ]
    }
   ],
   "source": [
    "# check how many missing values we have in one specific row\n",
    "print sum(df.isnull().iloc[0,:])\n",
    "print sum(df.isnull().iloc[1,:])"
   ]
  },
  {
   "cell_type": "markdown",
   "metadata": {},
   "source": [
    "## Operations"
   ]
  },
  {
   "cell_type": "code",
   "execution_count": 46,
   "metadata": {
    "collapsed": false
   },
   "outputs": [
    {
     "name": "stdout",
     "output_type": "stream",
     "text": [
      "                     A           B           C  D    F\n",
      "2013-01-01  100.000000  100.000000    0.920296  5  NaN\n",
      "2013-01-02  100.000000    0.863360  100.000000  5  1.0\n",
      "2013-01-03  100.000000    0.532876  100.000000  5  2.0\n",
      "2013-01-04    5.000000  100.000000  100.000000  5  3.0\n",
      "2013-01-05    0.433571    0.933637    0.656147  5  4.0\n",
      "2013-01-06    2.105373  100.000000    1.552399  5  5.0\n"
     ]
    },
    {
     "data": {
      "text/plain": [
       "A    51.256491\n",
       "B    50.388312\n",
       "C    50.521474\n",
       "D     5.000000\n",
       "F     3.000000\n",
       "dtype: float64"
      ]
     },
     "execution_count": 46,
     "metadata": {},
     "output_type": "execute_result"
    }
   ],
   "source": [
    "# stats\n",
    "print df\n",
    "df.mean()"
   ]
  },
  {
   "cell_type": "code",
   "execution_count": 47,
   "metadata": {
    "collapsed": false
   },
   "outputs": [
    {
     "data": {
      "text/plain": [
       "2013-01-01    51.480074\n",
       "2013-01-02    41.372672\n",
       "2013-01-03    41.506575\n",
       "2013-01-04    42.600000\n",
       "2013-01-05     2.204671\n",
       "2013-01-06    22.731554\n",
       "Freq: D, dtype: float64"
      ]
     },
     "execution_count": 47,
     "metadata": {},
     "output_type": "execute_result"
    }
   ],
   "source": [
    "# the same as above, but operation on the other axis\n",
    "df.mean(1)"
   ]
  },
  {
   "cell_type": "markdown",
   "metadata": {},
   "source": [
    "### Apply"
   ]
  },
  {
   "cell_type": "code",
   "execution_count": 48,
   "metadata": {
    "collapsed": false
   },
   "outputs": [
    {
     "name": "stdout",
     "output_type": "stream",
     "text": [
      "                     A           B           C  D    F\n",
      "2013-01-01  100.000000  100.000000    0.920296  5  NaN\n",
      "2013-01-02  100.000000    0.863360  100.000000  5  1.0\n",
      "2013-01-03  100.000000    0.532876  100.000000  5  2.0\n",
      "2013-01-04    5.000000  100.000000  100.000000  5  3.0\n",
      "2013-01-05    0.433571    0.933637    0.656147  5  4.0\n",
      "2013-01-06    2.105373  100.000000    1.552399  5  5.0\n"
     ]
    },
    {
     "data": {
      "text/html": [
       "<div>\n",
       "<table border=\"1\" class=\"dataframe\">\n",
       "  <thead>\n",
       "    <tr style=\"text-align: right;\">\n",
       "      <th></th>\n",
       "      <th>A</th>\n",
       "      <th>B</th>\n",
       "      <th>C</th>\n",
       "      <th>D</th>\n",
       "      <th>F</th>\n",
       "    </tr>\n",
       "  </thead>\n",
       "  <tbody>\n",
       "    <tr>\n",
       "      <th>2013-01-01</th>\n",
       "      <td>100.000000</td>\n",
       "      <td>100.000000</td>\n",
       "      <td>0.920296</td>\n",
       "      <td>5</td>\n",
       "      <td>NaN</td>\n",
       "    </tr>\n",
       "    <tr>\n",
       "      <th>2013-01-02</th>\n",
       "      <td>200.000000</td>\n",
       "      <td>100.863360</td>\n",
       "      <td>100.920296</td>\n",
       "      <td>10</td>\n",
       "      <td>1.0</td>\n",
       "    </tr>\n",
       "    <tr>\n",
       "      <th>2013-01-03</th>\n",
       "      <td>300.000000</td>\n",
       "      <td>101.396236</td>\n",
       "      <td>200.920296</td>\n",
       "      <td>15</td>\n",
       "      <td>3.0</td>\n",
       "    </tr>\n",
       "    <tr>\n",
       "      <th>2013-01-04</th>\n",
       "      <td>305.000000</td>\n",
       "      <td>201.396236</td>\n",
       "      <td>300.920296</td>\n",
       "      <td>20</td>\n",
       "      <td>6.0</td>\n",
       "    </tr>\n",
       "    <tr>\n",
       "      <th>2013-01-05</th>\n",
       "      <td>305.433571</td>\n",
       "      <td>202.329873</td>\n",
       "      <td>301.576443</td>\n",
       "      <td>25</td>\n",
       "      <td>10.0</td>\n",
       "    </tr>\n",
       "    <tr>\n",
       "      <th>2013-01-06</th>\n",
       "      <td>307.538943</td>\n",
       "      <td>302.329873</td>\n",
       "      <td>303.128841</td>\n",
       "      <td>30</td>\n",
       "      <td>15.0</td>\n",
       "    </tr>\n",
       "  </tbody>\n",
       "</table>\n",
       "</div>"
      ],
      "text/plain": [
       "                     A           B           C   D     F\n",
       "2013-01-01  100.000000  100.000000    0.920296   5   NaN\n",
       "2013-01-02  200.000000  100.863360  100.920296  10   1.0\n",
       "2013-01-03  300.000000  101.396236  200.920296  15   3.0\n",
       "2013-01-04  305.000000  201.396236  300.920296  20   6.0\n",
       "2013-01-05  305.433571  202.329873  301.576443  25  10.0\n",
       "2013-01-06  307.538943  302.329873  303.128841  30  15.0"
      ]
     },
     "execution_count": 48,
     "metadata": {},
     "output_type": "execute_result"
    }
   ],
   "source": [
    "print df\n",
    "\n",
    "df.apply(np.cumsum)"
   ]
  },
  {
   "cell_type": "code",
   "execution_count": 49,
   "metadata": {
    "collapsed": false
   },
   "outputs": [
    {
     "name": "stdout",
     "output_type": "stream",
     "text": [
      "                     A           B           C  D    F\n",
      "2013-01-01  100.000000  100.000000    0.920296  5  NaN\n",
      "2013-01-02  100.000000    0.863360  100.000000  5  1.0\n",
      "2013-01-03  100.000000    0.532876  100.000000  5  2.0\n",
      "2013-01-04    5.000000  100.000000  100.000000  5  3.0\n",
      "2013-01-05    0.433571    0.933637    0.656147  5  4.0\n",
      "2013-01-06    2.105373  100.000000    1.552399  5  5.0\n"
     ]
    },
    {
     "data": {
      "text/plain": [
       "A    99.566429\n",
       "B    99.467124\n",
       "C    99.343853\n",
       "D     0.000000\n",
       "F     4.000000\n",
       "dtype: float64"
      ]
     },
     "execution_count": 49,
     "metadata": {},
     "output_type": "execute_result"
    }
   ],
   "source": [
    "print df\n",
    "df.apply(lambda x: x.max() - x.min())"
   ]
  },
  {
   "cell_type": "markdown",
   "metadata": {},
   "source": [
    "### Histogramming"
   ]
  },
  {
   "cell_type": "code",
   "execution_count": 50,
   "metadata": {
    "collapsed": false
   },
   "outputs": [
    {
     "name": "stdout",
     "output_type": "stream",
     "text": [
      "0    3\n",
      "1    0\n",
      "2    3\n",
      "dtype: int64\n",
      "6    162\n",
      "0    159\n",
      "5    149\n",
      "3    145\n",
      "4    129\n",
      "1    129\n",
      "2    127\n",
      "dtype: int64\n"
     ]
    }
   ],
   "source": [
    "s = pd.Series(np.random.randint(0, 7, size=1000))\n",
    "print s.head(3)\n",
    "\n",
    "print s.value_counts()"
   ]
  },
  {
   "cell_type": "markdown",
   "metadata": {},
   "source": [
    "### String Methods"
   ]
  },
  {
   "cell_type": "code",
   "execution_count": 51,
   "metadata": {
    "collapsed": false
   },
   "outputs": [
    {
     "name": "stdout",
     "output_type": "stream",
     "text": [
      "0       A\n",
      "1       B\n",
      "2       C\n",
      "3    AABA\n",
      "4    BACA\n",
      "5     NaN\n",
      "6    CABA\n",
      "7     DOG\n",
      "8     CAT\n",
      "dtype: object\n",
      "0       a\n",
      "1       b\n",
      "2       c\n",
      "3    aaba\n",
      "4    baca\n",
      "5     NaN\n",
      "6    caba\n",
      "7     dog\n",
      "8     cat\n",
      "dtype: object\n"
     ]
    }
   ],
   "source": [
    "s = pd.Series(['A', 'B', 'C', 'Aaba', 'Baca', np.nan, 'CABA', 'dog', 'cat'])\n",
    "print s.str.upper()\n",
    "print s.str.lower()"
   ]
  },
  {
   "cell_type": "markdown",
   "metadata": {},
   "source": [
    "## Merge\n",
    "\n",
    "### concat"
   ]
  },
  {
   "cell_type": "code",
   "execution_count": 52,
   "metadata": {
    "collapsed": false
   },
   "outputs": [
    {
     "data": {
      "text/html": [
       "<div>\n",
       "<table border=\"1\" class=\"dataframe\">\n",
       "  <thead>\n",
       "    <tr style=\"text-align: right;\">\n",
       "      <th></th>\n",
       "      <th>0</th>\n",
       "      <th>1</th>\n",
       "      <th>2</th>\n",
       "      <th>3</th>\n",
       "    </tr>\n",
       "  </thead>\n",
       "  <tbody>\n",
       "    <tr>\n",
       "      <th>0</th>\n",
       "      <td>-0.551378</td>\n",
       "      <td>-1.269672</td>\n",
       "      <td>-0.871454</td>\n",
       "      <td>-0.465939</td>\n",
       "    </tr>\n",
       "    <tr>\n",
       "      <th>1</th>\n",
       "      <td>-0.633165</td>\n",
       "      <td>1.539627</td>\n",
       "      <td>0.536785</td>\n",
       "      <td>0.539617</td>\n",
       "    </tr>\n",
       "    <tr>\n",
       "      <th>2</th>\n",
       "      <td>0.696832</td>\n",
       "      <td>-0.547248</td>\n",
       "      <td>-0.413761</td>\n",
       "      <td>-2.034323</td>\n",
       "    </tr>\n",
       "    <tr>\n",
       "      <th>3</th>\n",
       "      <td>-1.279772</td>\n",
       "      <td>1.019652</td>\n",
       "      <td>-1.293050</td>\n",
       "      <td>-0.853219</td>\n",
       "    </tr>\n",
       "    <tr>\n",
       "      <th>4</th>\n",
       "      <td>1.607309</td>\n",
       "      <td>0.378076</td>\n",
       "      <td>-0.065838</td>\n",
       "      <td>0.438854</td>\n",
       "    </tr>\n",
       "    <tr>\n",
       "      <th>5</th>\n",
       "      <td>0.163399</td>\n",
       "      <td>1.367207</td>\n",
       "      <td>-0.827305</td>\n",
       "      <td>-0.886590</td>\n",
       "    </tr>\n",
       "    <tr>\n",
       "      <th>6</th>\n",
       "      <td>-0.258883</td>\n",
       "      <td>-0.037571</td>\n",
       "      <td>1.823543</td>\n",
       "      <td>1.243309</td>\n",
       "    </tr>\n",
       "    <tr>\n",
       "      <th>7</th>\n",
       "      <td>0.019254</td>\n",
       "      <td>-0.217207</td>\n",
       "      <td>-0.557369</td>\n",
       "      <td>0.082381</td>\n",
       "    </tr>\n",
       "    <tr>\n",
       "      <th>8</th>\n",
       "      <td>0.335000</td>\n",
       "      <td>0.313094</td>\n",
       "      <td>-0.558521</td>\n",
       "      <td>-0.240387</td>\n",
       "    </tr>\n",
       "    <tr>\n",
       "      <th>9</th>\n",
       "      <td>1.439790</td>\n",
       "      <td>1.120913</td>\n",
       "      <td>1.237072</td>\n",
       "      <td>0.798933</td>\n",
       "    </tr>\n",
       "  </tbody>\n",
       "</table>\n",
       "</div>"
      ],
      "text/plain": [
       "          0         1         2         3\n",
       "0 -0.551378 -1.269672 -0.871454 -0.465939\n",
       "1 -0.633165  1.539627  0.536785  0.539617\n",
       "2  0.696832 -0.547248 -0.413761 -2.034323\n",
       "3 -1.279772  1.019652 -1.293050 -0.853219\n",
       "4  1.607309  0.378076 -0.065838  0.438854\n",
       "5  0.163399  1.367207 -0.827305 -0.886590\n",
       "6 -0.258883 -0.037571  1.823543  1.243309\n",
       "7  0.019254 -0.217207 -0.557369  0.082381\n",
       "8  0.335000  0.313094 -0.558521 -0.240387\n",
       "9  1.439790  1.120913  1.237072  0.798933"
      ]
     },
     "execution_count": 52,
     "metadata": {},
     "output_type": "execute_result"
    }
   ],
   "source": [
    "df = pd.DataFrame(np.random.randn(10, 4))\n",
    "df"
   ]
  },
  {
   "cell_type": "code",
   "execution_count": 53,
   "metadata": {
    "collapsed": false
   },
   "outputs": [
    {
     "name": "stdout",
     "output_type": "stream",
     "text": [
      "3\n",
      "          0         1         2         3\n",
      "0 -0.551378 -1.269672 -0.871454 -0.465939\n",
      "1 -0.633165  1.539627  0.536785  0.539617\n",
      "2  0.696832 -0.547248 -0.413761 -2.034323\n",
      "3 -1.279772  1.019652 -1.293050 -0.853219\n",
      "4  1.607309  0.378076 -0.065838  0.438854\n",
      "5  0.163399  1.367207 -0.827305 -0.886590\n",
      "6 -0.258883 -0.037571  1.823543  1.243309\n",
      "7  0.019254 -0.217207 -0.557369  0.082381\n",
      "8  0.335000  0.313094 -0.558521 -0.240387\n",
      "9  1.439790  1.120913  1.237072  0.798933\n"
     ]
    }
   ],
   "source": [
    "# break it into pieces\n",
    "pieces = [df[:3], df[3:7], df[7:]]\n",
    "print(len(pieces))\n",
    "\n",
    "# Concat\n",
    "print pd.concat(pieces)"
   ]
  },
  {
   "cell_type": "markdown",
   "metadata": {},
   "source": [
    "### Join"
   ]
  },
  {
   "cell_type": "code",
   "execution_count": 54,
   "metadata": {
    "collapsed": false
   },
   "outputs": [
    {
     "name": "stdout",
     "output_type": "stream",
     "text": [
      "   key  lval\n",
      "0  foo     1\n",
      "1  foo     2\n",
      "   key  rval\n",
      "0  foo     4\n",
      "1  foo     5\n",
      "   key  lval  rval\n",
      "0  foo     1     4\n",
      "1  foo     1     5\n",
      "2  foo     2     4\n",
      "3  foo     2     5\n"
     ]
    }
   ],
   "source": [
    "left = pd.DataFrame({'key': ['foo', 'foo'], 'lval': [1, 2]})\n",
    "right = pd.DataFrame({'key': ['foo', 'foo'], 'rval': [4, 5]})\n",
    "\n",
    "print left\n",
    "print right\n",
    "\n",
    "print pd.merge(left, right, on='key')"
   ]
  },
  {
   "cell_type": "markdown",
   "metadata": {},
   "source": [
    "Another example is as below"
   ]
  },
  {
   "cell_type": "code",
   "execution_count": 55,
   "metadata": {
    "collapsed": false
   },
   "outputs": [
    {
     "name": "stdout",
     "output_type": "stream",
     "text": [
      "   key  lval\n",
      "0  foo     1\n",
      "1  bar     2\n",
      "   key  rval\n",
      "0  foo     4\n",
      "1  bar     5\n",
      "   key  lval  rval\n",
      "0  foo     1     4\n",
      "1  bar     2     5\n"
     ]
    }
   ],
   "source": [
    "left = pd.DataFrame({'key': ['foo', 'bar'], 'lval': [1, 2]})\n",
    "right = pd.DataFrame({'key': ['foo', 'bar'], 'rval': [4, 5]})\n",
    "\n",
    "print left\n",
    "print right\n",
    "print pd.merge(left, right, on='key')"
   ]
  },
  {
   "cell_type": "markdown",
   "metadata": {},
   "source": [
    "### Append"
   ]
  },
  {
   "cell_type": "code",
   "execution_count": 56,
   "metadata": {
    "collapsed": false
   },
   "outputs": [
    {
     "name": "stdout",
     "output_type": "stream",
     "text": [
      "          A         B         C         D\n",
      "0 -0.431212  1.694772  1.789172 -0.013028\n",
      "1  0.931050  1.205926 -0.031211 -0.306078\n",
      "2  2.454033  0.472353  1.959517  0.834063\n",
      "3  0.104068  0.197825  0.133151 -0.512989\n",
      "4  0.530303  0.431463 -0.304266  0.827620\n",
      "5  0.703980 -0.285577 -0.386941 -2.389947\n",
      "6  0.756197 -0.803956 -1.031770  1.960489\n",
      "7  0.631283  0.611659  0.542275 -0.525525\n",
      "          A         B         C         D\n",
      "0 -0.431212  1.694772  1.789172 -0.013028\n",
      "1  0.931050  1.205926 -0.031211 -0.306078\n",
      "2  2.454033  0.472353  1.959517  0.834063\n",
      "3  0.104068  0.197825  0.133151 -0.512989\n",
      "4  0.530303  0.431463 -0.304266  0.827620\n",
      "5  0.703980 -0.285577 -0.386941 -2.389947\n",
      "6  0.756197 -0.803956 -1.031770  1.960489\n",
      "7  0.631283  0.611659  0.542275 -0.525525\n",
      "8  0.104068  0.197825  0.133151 -0.512989\n"
     ]
    }
   ],
   "source": [
    "df = pd.DataFrame(np.random.randn(8, 4), columns=['A','B','C','D'])\n",
    "\n",
    "s = df.iloc[3]\n",
    "\n",
    "print df\n",
    "print df.append(s, ignore_index=True)"
   ]
  },
  {
   "cell_type": "markdown",
   "metadata": {},
   "source": [
    "## Grouping\n",
    "\n",
    "By “group by” we are referring to a process involving one or more of the following steps\n",
    "\n",
    "- Splitting the data into groups based on some criteria\n",
    "- Applying a function to each group independently\n",
    "- Combining the results into a data structure"
   ]
  },
  {
   "cell_type": "code",
   "execution_count": 57,
   "metadata": {
    "collapsed": false
   },
   "outputs": [
    {
     "data": {
      "text/html": [
       "<div>\n",
       "<table border=\"1\" class=\"dataframe\">\n",
       "  <thead>\n",
       "    <tr style=\"text-align: right;\">\n",
       "      <th></th>\n",
       "      <th>A</th>\n",
       "      <th>B</th>\n",
       "      <th>C</th>\n",
       "      <th>D</th>\n",
       "    </tr>\n",
       "  </thead>\n",
       "  <tbody>\n",
       "    <tr>\n",
       "      <th>0</th>\n",
       "      <td>foo</td>\n",
       "      <td>one</td>\n",
       "      <td>-0.431731</td>\n",
       "      <td>0.798496</td>\n",
       "    </tr>\n",
       "    <tr>\n",
       "      <th>1</th>\n",
       "      <td>bar</td>\n",
       "      <td>one</td>\n",
       "      <td>-0.520029</td>\n",
       "      <td>-2.706152</td>\n",
       "    </tr>\n",
       "    <tr>\n",
       "      <th>2</th>\n",
       "      <td>foo</td>\n",
       "      <td>two</td>\n",
       "      <td>-0.987930</td>\n",
       "      <td>0.156435</td>\n",
       "    </tr>\n",
       "    <tr>\n",
       "      <th>3</th>\n",
       "      <td>bar</td>\n",
       "      <td>three</td>\n",
       "      <td>-0.026169</td>\n",
       "      <td>-0.856465</td>\n",
       "    </tr>\n",
       "    <tr>\n",
       "      <th>4</th>\n",
       "      <td>foo</td>\n",
       "      <td>two</td>\n",
       "      <td>0.176821</td>\n",
       "      <td>-0.340197</td>\n",
       "    </tr>\n",
       "    <tr>\n",
       "      <th>5</th>\n",
       "      <td>bar</td>\n",
       "      <td>two</td>\n",
       "      <td>0.398321</td>\n",
       "      <td>0.203751</td>\n",
       "    </tr>\n",
       "    <tr>\n",
       "      <th>6</th>\n",
       "      <td>foo</td>\n",
       "      <td>one</td>\n",
       "      <td>1.094355</td>\n",
       "      <td>-1.177602</td>\n",
       "    </tr>\n",
       "    <tr>\n",
       "      <th>7</th>\n",
       "      <td>foo</td>\n",
       "      <td>three</td>\n",
       "      <td>-0.356684</td>\n",
       "      <td>-2.083624</td>\n",
       "    </tr>\n",
       "  </tbody>\n",
       "</table>\n",
       "</div>"
      ],
      "text/plain": [
       "     A      B         C         D\n",
       "0  foo    one -0.431731  0.798496\n",
       "1  bar    one -0.520029 -2.706152\n",
       "2  foo    two -0.987930  0.156435\n",
       "3  bar  three -0.026169 -0.856465\n",
       "4  foo    two  0.176821 -0.340197\n",
       "5  bar    two  0.398321  0.203751\n",
       "6  foo    one  1.094355 -1.177602\n",
       "7  foo  three -0.356684 -2.083624"
      ]
     },
     "execution_count": 57,
     "metadata": {},
     "output_type": "execute_result"
    }
   ],
   "source": [
    "df = pd.DataFrame({'A' : ['foo', 'bar', 'foo', 'bar',\n",
    "                          'foo', 'bar', 'foo', 'foo'],\n",
    "                  'B' : ['one', 'one', 'two', 'three',\n",
    "                         'two', 'two', 'one', 'three'],\n",
    "                   'C' : np.random.randn(8),\n",
    "                   'D' : np.random.randn(8)})\n",
    "df"
   ]
  },
  {
   "cell_type": "markdown",
   "metadata": {},
   "source": [
    "Grouping and then applying a function `sum` to the resulting groups."
   ]
  },
  {
   "cell_type": "code",
   "execution_count": 58,
   "metadata": {
    "collapsed": false
   },
   "outputs": [
    {
     "data": {
      "text/html": [
       "<div>\n",
       "<table border=\"1\" class=\"dataframe\">\n",
       "  <thead>\n",
       "    <tr style=\"text-align: right;\">\n",
       "      <th></th>\n",
       "      <th>C</th>\n",
       "      <th>D</th>\n",
       "    </tr>\n",
       "    <tr>\n",
       "      <th>A</th>\n",
       "      <th></th>\n",
       "      <th></th>\n",
       "    </tr>\n",
       "  </thead>\n",
       "  <tbody>\n",
       "    <tr>\n",
       "      <th>bar</th>\n",
       "      <td>-0.147877</td>\n",
       "      <td>-3.358866</td>\n",
       "    </tr>\n",
       "    <tr>\n",
       "      <th>foo</th>\n",
       "      <td>-0.505168</td>\n",
       "      <td>-2.646493</td>\n",
       "    </tr>\n",
       "  </tbody>\n",
       "</table>\n",
       "</div>"
      ],
      "text/plain": [
       "            C         D\n",
       "A                      \n",
       "bar -0.147877 -3.358866\n",
       "foo -0.505168 -2.646493"
      ]
     },
     "execution_count": 58,
     "metadata": {},
     "output_type": "execute_result"
    }
   ],
   "source": [
    "df.groupby('A').sum()"
   ]
  },
  {
   "cell_type": "markdown",
   "metadata": {},
   "source": [
    "Grouping by multiple columns forms a hierarchical index, which we then apply the function."
   ]
  },
  {
   "cell_type": "code",
   "execution_count": 59,
   "metadata": {
    "collapsed": false
   },
   "outputs": [
    {
     "data": {
      "text/html": [
       "<div>\n",
       "<table border=\"1\" class=\"dataframe\">\n",
       "  <thead>\n",
       "    <tr style=\"text-align: right;\">\n",
       "      <th></th>\n",
       "      <th></th>\n",
       "      <th>C</th>\n",
       "      <th>D</th>\n",
       "    </tr>\n",
       "    <tr>\n",
       "      <th>A</th>\n",
       "      <th>B</th>\n",
       "      <th></th>\n",
       "      <th></th>\n",
       "    </tr>\n",
       "  </thead>\n",
       "  <tbody>\n",
       "    <tr>\n",
       "      <th rowspan=\"3\" valign=\"top\">bar</th>\n",
       "      <th>one</th>\n",
       "      <td>-0.520029</td>\n",
       "      <td>-2.706152</td>\n",
       "    </tr>\n",
       "    <tr>\n",
       "      <th>three</th>\n",
       "      <td>-0.026169</td>\n",
       "      <td>-0.856465</td>\n",
       "    </tr>\n",
       "    <tr>\n",
       "      <th>two</th>\n",
       "      <td>0.398321</td>\n",
       "      <td>0.203751</td>\n",
       "    </tr>\n",
       "    <tr>\n",
       "      <th rowspan=\"3\" valign=\"top\">foo</th>\n",
       "      <th>one</th>\n",
       "      <td>0.662624</td>\n",
       "      <td>-0.379106</td>\n",
       "    </tr>\n",
       "    <tr>\n",
       "      <th>three</th>\n",
       "      <td>-0.356684</td>\n",
       "      <td>-2.083624</td>\n",
       "    </tr>\n",
       "    <tr>\n",
       "      <th>two</th>\n",
       "      <td>-0.811109</td>\n",
       "      <td>-0.183763</td>\n",
       "    </tr>\n",
       "  </tbody>\n",
       "</table>\n",
       "</div>"
      ],
      "text/plain": [
       "                  C         D\n",
       "A   B                        \n",
       "bar one   -0.520029 -2.706152\n",
       "    three -0.026169 -0.856465\n",
       "    two    0.398321  0.203751\n",
       "foo one    0.662624 -0.379106\n",
       "    three -0.356684 -2.083624\n",
       "    two   -0.811109 -0.183763"
      ]
     },
     "execution_count": 59,
     "metadata": {},
     "output_type": "execute_result"
    }
   ],
   "source": [
    "df.groupby(['A','B']).sum()"
   ]
  },
  {
   "cell_type": "code",
   "execution_count": 60,
   "metadata": {
    "collapsed": false
   },
   "outputs": [
    {
     "data": {
      "text/html": [
       "<div>\n",
       "<table border=\"1\" class=\"dataframe\">\n",
       "  <thead>\n",
       "    <tr style=\"text-align: right;\">\n",
       "      <th></th>\n",
       "      <th></th>\n",
       "      <th>C</th>\n",
       "      <th>D</th>\n",
       "    </tr>\n",
       "    <tr>\n",
       "      <th>A</th>\n",
       "      <th>B</th>\n",
       "      <th></th>\n",
       "      <th></th>\n",
       "    </tr>\n",
       "  </thead>\n",
       "  <tbody>\n",
       "    <tr>\n",
       "      <th rowspan=\"3\" valign=\"top\">bar</th>\n",
       "      <th>one</th>\n",
       "      <td>-0.520029</td>\n",
       "      <td>-2.706152</td>\n",
       "    </tr>\n",
       "    <tr>\n",
       "      <th>three</th>\n",
       "      <td>-0.026169</td>\n",
       "      <td>-0.856465</td>\n",
       "    </tr>\n",
       "    <tr>\n",
       "      <th>two</th>\n",
       "      <td>0.398321</td>\n",
       "      <td>0.203751</td>\n",
       "    </tr>\n",
       "    <tr>\n",
       "      <th rowspan=\"3\" valign=\"top\">foo</th>\n",
       "      <th>one</th>\n",
       "      <td>1.094355</td>\n",
       "      <td>0.798496</td>\n",
       "    </tr>\n",
       "    <tr>\n",
       "      <th>three</th>\n",
       "      <td>-0.356684</td>\n",
       "      <td>-2.083624</td>\n",
       "    </tr>\n",
       "    <tr>\n",
       "      <th>two</th>\n",
       "      <td>0.176821</td>\n",
       "      <td>0.156435</td>\n",
       "    </tr>\n",
       "  </tbody>\n",
       "</table>\n",
       "</div>"
      ],
      "text/plain": [
       "                  C         D\n",
       "A   B                        \n",
       "bar one   -0.520029 -2.706152\n",
       "    three -0.026169 -0.856465\n",
       "    two    0.398321  0.203751\n",
       "foo one    1.094355  0.798496\n",
       "    three -0.356684 -2.083624\n",
       "    two    0.176821  0.156435"
      ]
     },
     "execution_count": 60,
     "metadata": {},
     "output_type": "execute_result"
    }
   ],
   "source": [
    "df.groupby(['A','B']).max()"
   ]
  },
  {
   "cell_type": "markdown",
   "metadata": {},
   "source": [
    "## Reshaping\n",
    "\n",
    "### Stack"
   ]
  },
  {
   "cell_type": "code",
   "execution_count": 61,
   "metadata": {
    "collapsed": false
   },
   "outputs": [
    {
     "name": "stdout",
     "output_type": "stream",
     "text": [
      "[('bar', 'one'), ('bar', 'two'), ('baz', 'one'), ('baz', 'two'), ('foo', 'one'), ('foo', 'two'), ('qux', 'one'), ('qux', 'two')]\n"
     ]
    }
   ],
   "source": [
    "tuples = list(zip(*[['bar', 'bar', 'baz', 'baz',\n",
    "                'foo', 'foo', 'qux', 'qux'],\n",
    "              ['one', 'two', 'one', 'two',\n",
    "                  'one', 'two', 'one', 'two']]))\n",
    "print tuples"
   ]
  },
  {
   "cell_type": "code",
   "execution_count": 62,
   "metadata": {
    "collapsed": false
   },
   "outputs": [
    {
     "name": "stdout",
     "output_type": "stream",
     "text": [
      "MultiIndex(levels=[[u'bar', u'baz', u'foo', u'qux'], [u'one', u'two']],\n",
      "           labels=[[0, 0, 1, 1, 2, 2, 3, 3], [0, 1, 0, 1, 0, 1, 0, 1]],\n",
      "           names=[u'first', u'second'])\n"
     ]
    }
   ],
   "source": [
    "index = pd.MultiIndex.from_tuples(tuples, names=['first', 'second'])\n",
    "print index"
   ]
  },
  {
   "cell_type": "code",
   "execution_count": 63,
   "metadata": {
    "collapsed": false
   },
   "outputs": [
    {
     "name": "stdout",
     "output_type": "stream",
     "text": [
      "                     A         B\n",
      "first second                    \n",
      "bar   one    -1.548220 -0.218929\n",
      "      two     0.655213  0.881740\n",
      "baz   one    -0.572619 -0.483189\n",
      "      two    -0.982975  1.280102\n",
      "foo   one    -1.053641  0.642078\n",
      "      two     1.197690 -0.606679\n",
      "qux   one    -0.619923 -1.472914\n",
      "      two     1.605185  2.325524\n",
      "                     A         B\n",
      "first second                    \n",
      "bar   one    -1.548220 -0.218929\n",
      "      two     0.655213  0.881740\n",
      "baz   one    -0.572619 -0.483189\n",
      "      two    -0.982975  1.280102\n"
     ]
    }
   ],
   "source": [
    "df = pd.DataFrame(np.random.randn(8, 2), index = index, columns=['A', 'B'])\n",
    "print df\n",
    "df2 = df[:4]\n",
    "print df2"
   ]
  },
  {
   "cell_type": "markdown",
   "metadata": {},
   "source": [
    "The `stack()` method \"compresses\" a level in the DataFrame's columns"
   ]
  },
  {
   "cell_type": "code",
   "execution_count": 64,
   "metadata": {
    "collapsed": false
   },
   "outputs": [
    {
     "data": {
      "text/plain": [
       "first  second   \n",
       "bar    one     A   -1.548220\n",
       "               B   -0.218929\n",
       "       two     A    0.655213\n",
       "               B    0.881740\n",
       "baz    one     A   -0.572619\n",
       "               B   -0.483189\n",
       "       two     A   -0.982975\n",
       "               B    1.280102\n",
       "dtype: float64"
      ]
     },
     "execution_count": 64,
     "metadata": {},
     "output_type": "execute_result"
    }
   ],
   "source": [
    "stacked = df2.stack()\n",
    "stacked"
   ]
  },
  {
   "cell_type": "markdown",
   "metadata": {},
   "source": [
    "With a \"stacked\" DataFrame or Series (having a `MultiIndex` as `index`), the inverse operation of `stack()` is `unstack()`, which by default unstacks the **last level**."
   ]
  },
  {
   "cell_type": "code",
   "execution_count": 65,
   "metadata": {
    "collapsed": false
   },
   "outputs": [
    {
     "data": {
      "text/html": [
       "<div>\n",
       "<table border=\"1\" class=\"dataframe\">\n",
       "  <thead>\n",
       "    <tr style=\"text-align: right;\">\n",
       "      <th></th>\n",
       "      <th></th>\n",
       "      <th>A</th>\n",
       "      <th>B</th>\n",
       "    </tr>\n",
       "    <tr>\n",
       "      <th>first</th>\n",
       "      <th>second</th>\n",
       "      <th></th>\n",
       "      <th></th>\n",
       "    </tr>\n",
       "  </thead>\n",
       "  <tbody>\n",
       "    <tr>\n",
       "      <th rowspan=\"2\" valign=\"top\">bar</th>\n",
       "      <th>one</th>\n",
       "      <td>-1.548220</td>\n",
       "      <td>-0.218929</td>\n",
       "    </tr>\n",
       "    <tr>\n",
       "      <th>two</th>\n",
       "      <td>0.655213</td>\n",
       "      <td>0.881740</td>\n",
       "    </tr>\n",
       "    <tr>\n",
       "      <th rowspan=\"2\" valign=\"top\">baz</th>\n",
       "      <th>one</th>\n",
       "      <td>-0.572619</td>\n",
       "      <td>-0.483189</td>\n",
       "    </tr>\n",
       "    <tr>\n",
       "      <th>two</th>\n",
       "      <td>-0.982975</td>\n",
       "      <td>1.280102</td>\n",
       "    </tr>\n",
       "  </tbody>\n",
       "</table>\n",
       "</div>"
      ],
      "text/plain": [
       "                     A         B\n",
       "first second                    \n",
       "bar   one    -1.548220 -0.218929\n",
       "      two     0.655213  0.881740\n",
       "baz   one    -0.572619 -0.483189\n",
       "      two    -0.982975  1.280102"
      ]
     },
     "execution_count": 65,
     "metadata": {},
     "output_type": "execute_result"
    }
   ],
   "source": [
    "stacked.unstack()"
   ]
  },
  {
   "cell_type": "code",
   "execution_count": 66,
   "metadata": {
    "collapsed": false
   },
   "outputs": [
    {
     "data": {
      "text/html": [
       "<div>\n",
       "<table border=\"1\" class=\"dataframe\">\n",
       "  <thead>\n",
       "    <tr style=\"text-align: right;\">\n",
       "      <th></th>\n",
       "      <th>second</th>\n",
       "      <th>one</th>\n",
       "      <th>two</th>\n",
       "    </tr>\n",
       "    <tr>\n",
       "      <th>first</th>\n",
       "      <th></th>\n",
       "      <th></th>\n",
       "      <th></th>\n",
       "    </tr>\n",
       "  </thead>\n",
       "  <tbody>\n",
       "    <tr>\n",
       "      <th rowspan=\"2\" valign=\"top\">bar</th>\n",
       "      <th>A</th>\n",
       "      <td>-1.548220</td>\n",
       "      <td>0.655213</td>\n",
       "    </tr>\n",
       "    <tr>\n",
       "      <th>B</th>\n",
       "      <td>-0.218929</td>\n",
       "      <td>0.881740</td>\n",
       "    </tr>\n",
       "    <tr>\n",
       "      <th rowspan=\"2\" valign=\"top\">baz</th>\n",
       "      <th>A</th>\n",
       "      <td>-0.572619</td>\n",
       "      <td>-0.982975</td>\n",
       "    </tr>\n",
       "    <tr>\n",
       "      <th>B</th>\n",
       "      <td>-0.483189</td>\n",
       "      <td>1.280102</td>\n",
       "    </tr>\n",
       "  </tbody>\n",
       "</table>\n",
       "</div>"
      ],
      "text/plain": [
       "second        one       two\n",
       "first                      \n",
       "bar   A -1.548220  0.655213\n",
       "      B -0.218929  0.881740\n",
       "baz   A -0.572619 -0.982975\n",
       "      B -0.483189  1.280102"
      ]
     },
     "execution_count": 66,
     "metadata": {},
     "output_type": "execute_result"
    }
   ],
   "source": [
    "stacked.unstack(1)"
   ]
  },
  {
   "cell_type": "code",
   "execution_count": 67,
   "metadata": {
    "collapsed": false
   },
   "outputs": [
    {
     "data": {
      "text/html": [
       "<div>\n",
       "<table border=\"1\" class=\"dataframe\">\n",
       "  <thead>\n",
       "    <tr style=\"text-align: right;\">\n",
       "      <th></th>\n",
       "      <th>first</th>\n",
       "      <th>bar</th>\n",
       "      <th>baz</th>\n",
       "    </tr>\n",
       "    <tr>\n",
       "      <th>second</th>\n",
       "      <th></th>\n",
       "      <th></th>\n",
       "      <th></th>\n",
       "    </tr>\n",
       "  </thead>\n",
       "  <tbody>\n",
       "    <tr>\n",
       "      <th rowspan=\"2\" valign=\"top\">one</th>\n",
       "      <th>A</th>\n",
       "      <td>-1.548220</td>\n",
       "      <td>-0.572619</td>\n",
       "    </tr>\n",
       "    <tr>\n",
       "      <th>B</th>\n",
       "      <td>-0.218929</td>\n",
       "      <td>-0.483189</td>\n",
       "    </tr>\n",
       "    <tr>\n",
       "      <th rowspan=\"2\" valign=\"top\">two</th>\n",
       "      <th>A</th>\n",
       "      <td>0.655213</td>\n",
       "      <td>-0.982975</td>\n",
       "    </tr>\n",
       "    <tr>\n",
       "      <th>B</th>\n",
       "      <td>0.881740</td>\n",
       "      <td>1.280102</td>\n",
       "    </tr>\n",
       "  </tbody>\n",
       "</table>\n",
       "</div>"
      ],
      "text/plain": [
       "first          bar       baz\n",
       "second                      \n",
       "one    A -1.548220 -0.572619\n",
       "       B -0.218929 -0.483189\n",
       "two    A  0.655213 -0.982975\n",
       "       B  0.881740  1.280102"
      ]
     },
     "execution_count": 67,
     "metadata": {},
     "output_type": "execute_result"
    }
   ],
   "source": [
    "stacked.unstack(0)"
   ]
  },
  {
   "cell_type": "markdown",
   "metadata": {},
   "source": [
    "## Time Series\n",
    "\n",
    "*pandas* has simple, powerful, and efficient functionality for performing resampling operations during frequency conversion (e.g., converting secondly data into 5-minutely data). This is extremely common in, but not limited to, financial applications."
   ]
  },
  {
   "cell_type": "code",
   "execution_count": 68,
   "metadata": {
    "collapsed": false
   },
   "outputs": [
    {
     "name": "stdout",
     "output_type": "stream",
     "text": [
      "2012-01-01 00:00:00     49\n",
      "2012-01-01 00:00:01    347\n",
      "2012-01-01 00:00:02    429\n",
      "2012-01-01 00:00:03    261\n",
      "2012-01-01 00:00:04    314\n",
      "Freq: S, dtype: int64\n"
     ]
    }
   ],
   "source": [
    "rng = pd.date_range('1/1/2012', periods=100, freq='S')\n",
    "ts = pd.Series(np.random.randint(0, 500, len(rng)), index = rng)\n",
    "print ts.head()"
   ]
  },
  {
   "cell_type": "code",
   "execution_count": 69,
   "metadata": {
    "collapsed": false
   },
   "outputs": [
    {
     "data": {
      "text/plain": [
       "2012-01-01    25414\n",
       "Freq: 5T, dtype: int64"
      ]
     },
     "execution_count": 69,
     "metadata": {},
     "output_type": "execute_result"
    }
   ],
   "source": [
    "ts.resample('5Min').sum()"
   ]
  },
  {
   "cell_type": "markdown",
   "metadata": {},
   "source": [
    "Time zone representation"
   ]
  },
  {
   "cell_type": "code",
   "execution_count": 70,
   "metadata": {
    "collapsed": false
   },
   "outputs": [
    {
     "name": "stdout",
     "output_type": "stream",
     "text": [
      "DatetimeIndex(['2012-03-06', '2012-03-07', '2012-03-08', '2012-03-09',\n",
      "               '2012-03-10'],\n",
      "              dtype='datetime64[ns]', freq='D')\n"
     ]
    }
   ],
   "source": [
    "rng = pd.date_range('3/6/2012 00:00', periods=5, freq='D')\n",
    "print rng"
   ]
  },
  {
   "cell_type": "code",
   "execution_count": 71,
   "metadata": {
    "collapsed": false
   },
   "outputs": [
    {
     "name": "stdout",
     "output_type": "stream",
     "text": [
      "2012-03-06    1.392408\n",
      "2012-03-07   -0.236979\n",
      "2012-03-08    1.185512\n",
      "2012-03-09   -0.082348\n",
      "2012-03-10    0.169469\n",
      "Freq: D, dtype: float64\n"
     ]
    }
   ],
   "source": [
    "ts = pd.Series(np.random.randn(len(rng)), rng)\n",
    "print ts"
   ]
  },
  {
   "cell_type": "code",
   "execution_count": 72,
   "metadata": {
    "collapsed": false
   },
   "outputs": [
    {
     "data": {
      "text/plain": [
       "2012-03-06 00:00:00+00:00    1.392408\n",
       "2012-03-07 00:00:00+00:00   -0.236979\n",
       "2012-03-08 00:00:00+00:00    1.185512\n",
       "2012-03-09 00:00:00+00:00   -0.082348\n",
       "2012-03-10 00:00:00+00:00    0.169469\n",
       "Freq: D, dtype: float64"
      ]
     },
     "execution_count": 72,
     "metadata": {},
     "output_type": "execute_result"
    }
   ],
   "source": [
    "ts_utc = ts.tz_localize(\"UTC\")\n",
    "ts_utc"
   ]
  },
  {
   "cell_type": "markdown",
   "metadata": {},
   "source": [
    "Convert to another time zone"
   ]
  },
  {
   "cell_type": "code",
   "execution_count": 73,
   "metadata": {
    "collapsed": false
   },
   "outputs": [
    {
     "data": {
      "text/plain": [
       "2012-03-05 19:00:00-05:00    1.392408\n",
       "2012-03-06 19:00:00-05:00   -0.236979\n",
       "2012-03-07 19:00:00-05:00    1.185512\n",
       "2012-03-08 19:00:00-05:00   -0.082348\n",
       "2012-03-09 19:00:00-05:00    0.169469\n",
       "Freq: D, dtype: float64"
      ]
     },
     "execution_count": 73,
     "metadata": {},
     "output_type": "execute_result"
    }
   ],
   "source": [
    "ts_utc.tz_convert(\"US/Eastern\")"
   ]
  },
  {
   "cell_type": "markdown",
   "metadata": {},
   "source": [
    "Converting between time span representations"
   ]
  },
  {
   "cell_type": "code",
   "execution_count": 74,
   "metadata": {
    "collapsed": false
   },
   "outputs": [
    {
     "data": {
      "text/plain": [
       "2012-01-31   -1.207988\n",
       "2012-02-29    0.114809\n",
       "2012-03-31    1.050301\n",
       "2012-04-30   -2.313301\n",
       "2012-05-31   -0.642342\n",
       "Freq: M, dtype: float64"
      ]
     },
     "execution_count": 74,
     "metadata": {},
     "output_type": "execute_result"
    }
   ],
   "source": [
    "rng = pd.date_range('1/1/2012', periods=5, freq='M')\n",
    "ts = pd.Series(np.random.randn(len(rng)), index=rng)\n",
    "ts"
   ]
  },
  {
   "cell_type": "code",
   "execution_count": 75,
   "metadata": {
    "collapsed": false
   },
   "outputs": [
    {
     "data": {
      "text/plain": [
       "2012-01   -1.207988\n",
       "2012-02    0.114809\n",
       "2012-03    1.050301\n",
       "2012-04   -2.313301\n",
       "2012-05   -0.642342\n",
       "Freq: M, dtype: float64"
      ]
     },
     "execution_count": 75,
     "metadata": {},
     "output_type": "execute_result"
    }
   ],
   "source": [
    "ps = ts.to_period()\n",
    "ps"
   ]
  },
  {
   "cell_type": "code",
   "execution_count": 76,
   "metadata": {
    "collapsed": false
   },
   "outputs": [
    {
     "data": {
      "text/plain": [
       "2012-01-01   -1.207988\n",
       "2012-02-01    0.114809\n",
       "2012-03-01    1.050301\n",
       "2012-04-01   -2.313301\n",
       "2012-05-01   -0.642342\n",
       "Freq: MS, dtype: float64"
      ]
     },
     "execution_count": 76,
     "metadata": {},
     "output_type": "execute_result"
    }
   ],
   "source": [
    "ps.to_timestamp()"
   ]
  },
  {
   "cell_type": "markdown",
   "metadata": {},
   "source": [
    "Converting between period and timestamp enables some convenient arithmetic functions to be used. In the following example, we convert a quarterly frequency with year ending in Novermber to 9am of the end of the month following the quarter end:"
   ]
  },
  {
   "cell_type": "code",
   "execution_count": 77,
   "metadata": {
    "collapsed": false
   },
   "outputs": [
    {
     "data": {
      "text/plain": [
       "1990Q1    0.402855\n",
       "1990Q2   -0.252964\n",
       "1990Q3    0.352942\n",
       "1990Q4    0.620582\n",
       "1991Q1    0.409584\n",
       "Freq: Q-NOV, dtype: float64"
      ]
     },
     "execution_count": 77,
     "metadata": {},
     "output_type": "execute_result"
    }
   ],
   "source": [
    "prng = pd.period_range(\"1990Q1\", '2000Q4', freq='Q-Nov')\n",
    "\n",
    "ts = pd.Series(np.random.randn(len(prng)), prng)\n",
    "ts.head()"
   ]
  },
  {
   "cell_type": "code",
   "execution_count": 78,
   "metadata": {
    "collapsed": false
   },
   "outputs": [
    {
     "data": {
      "text/plain": [
       "1990-03-01 09:00    0.402855\n",
       "1990-06-01 09:00   -0.252964\n",
       "1990-09-01 09:00    0.352942\n",
       "1990-12-01 09:00    0.620582\n",
       "1991-03-01 09:00    0.409584\n",
       "Freq: H, dtype: float64"
      ]
     },
     "execution_count": 78,
     "metadata": {},
     "output_type": "execute_result"
    }
   ],
   "source": [
    "ts.index = (prng.asfreq(\"M\", 'e') + 1).asfreq('H', 's') + 9\n",
    "ts.head()"
   ]
  },
  {
   "cell_type": "markdown",
   "metadata": {},
   "source": [
    "## Categoricals"
   ]
  },
  {
   "cell_type": "markdown",
   "metadata": {},
   "source": [
    "Since version 0.15, `pandas` can include categorical data in a `DataFrame`, just like *factor* in *`R`*."
   ]
  },
  {
   "cell_type": "code",
   "execution_count": 79,
   "metadata": {
    "collapsed": false
   },
   "outputs": [
    {
     "data": {
      "text/plain": [
       "0    a\n",
       "1    b\n",
       "2    b\n",
       "3    a\n",
       "4    a\n",
       "5    e\n",
       "Name: grade, dtype: category\n",
       "Categories (3, object): [a, b, e]"
      ]
     },
     "execution_count": 79,
     "metadata": {},
     "output_type": "execute_result"
    }
   ],
   "source": [
    "df = pd.DataFrame({\"id\":[1,2,3,4,5,6], \"raw_grade\":['a', 'b', 'b', 'a', 'a', 'e']})\n",
    "\n",
    "# Convert the raw grades to a categorical data type\n",
    "df[\"grade\"] = df[\"raw_grade\"].astype(\"category\")\n",
    "df[\"grade\"]"
   ]
  },
  {
   "cell_type": "markdown",
   "metadata": {},
   "source": [
    "Rename the categories to more meaningful names (assigning to `Series.cat.categories` is inplace!)"
   ]
  },
  {
   "cell_type": "code",
   "execution_count": 80,
   "metadata": {
    "collapsed": false
   },
   "outputs": [
    {
     "name": "stdout",
     "output_type": "stream",
     "text": [
      "   id raw_grade      grade\n",
      "0   1         a  very good\n",
      "1   2         b       good\n",
      "2   3         b       good\n",
      "3   4         a  very good\n",
      "4   5         a  very good\n",
      "5   6         e   very bad\n"
     ]
    }
   ],
   "source": [
    "df[\"grade\"].cat.categories = [\"very good\", \"good\", \"very bad\"]\n",
    "print df"
   ]
  },
  {
   "cell_type": "markdown",
   "metadata": {},
   "source": [
    "We can also **reorder** the categories and simultaneously add the missing categories (methods under `Series.cat` return a new Series per default)"
   ]
  },
  {
   "cell_type": "code",
   "execution_count": 81,
   "metadata": {
    "collapsed": false
   },
   "outputs": [
    {
     "data": {
      "text/plain": [
       "0    very good\n",
       "1         good\n",
       "2         good\n",
       "3    very good\n",
       "4    very good\n",
       "5     very bad\n",
       "Name: grade, dtype: category\n",
       "Categories (5, object): [very bad, bad, medium, good, very good]"
      ]
     },
     "execution_count": 81,
     "metadata": {},
     "output_type": "execute_result"
    }
   ],
   "source": [
    "df[\"grade\"] = df[\"grade\"].cat.set_categories([\"very bad\", \"bad\", \"medium\", \"good\", \"very good\"])\n",
    "df[\"grade\"]"
   ]
  },
  {
   "cell_type": "markdown",
   "metadata": {},
   "source": [
    "**Sorting** is per order in the categories, not lexical order."
   ]
  },
  {
   "cell_type": "code",
   "execution_count": 82,
   "metadata": {
    "collapsed": false
   },
   "outputs": [
    {
     "data": {
      "text/html": [
       "<div>\n",
       "<table border=\"1\" class=\"dataframe\">\n",
       "  <thead>\n",
       "    <tr style=\"text-align: right;\">\n",
       "      <th></th>\n",
       "      <th>id</th>\n",
       "      <th>raw_grade</th>\n",
       "      <th>grade</th>\n",
       "    </tr>\n",
       "  </thead>\n",
       "  <tbody>\n",
       "    <tr>\n",
       "      <th>5</th>\n",
       "      <td>6</td>\n",
       "      <td>e</td>\n",
       "      <td>very bad</td>\n",
       "    </tr>\n",
       "    <tr>\n",
       "      <th>1</th>\n",
       "      <td>2</td>\n",
       "      <td>b</td>\n",
       "      <td>good</td>\n",
       "    </tr>\n",
       "    <tr>\n",
       "      <th>2</th>\n",
       "      <td>3</td>\n",
       "      <td>b</td>\n",
       "      <td>good</td>\n",
       "    </tr>\n",
       "    <tr>\n",
       "      <th>0</th>\n",
       "      <td>1</td>\n",
       "      <td>a</td>\n",
       "      <td>very good</td>\n",
       "    </tr>\n",
       "    <tr>\n",
       "      <th>3</th>\n",
       "      <td>4</td>\n",
       "      <td>a</td>\n",
       "      <td>very good</td>\n",
       "    </tr>\n",
       "    <tr>\n",
       "      <th>4</th>\n",
       "      <td>5</td>\n",
       "      <td>a</td>\n",
       "      <td>very good</td>\n",
       "    </tr>\n",
       "  </tbody>\n",
       "</table>\n",
       "</div>"
      ],
      "text/plain": [
       "   id raw_grade      grade\n",
       "5   6         e   very bad\n",
       "1   2         b       good\n",
       "2   3         b       good\n",
       "0   1         a  very good\n",
       "3   4         a  very good\n",
       "4   5         a  very good"
      ]
     },
     "execution_count": 82,
     "metadata": {},
     "output_type": "execute_result"
    }
   ],
   "source": [
    "df.sort_values(by=\"grade\")"
   ]
  },
  {
   "cell_type": "markdown",
   "metadata": {},
   "source": [
    "**Grouping** by a categorical column shows also empty categories"
   ]
  },
  {
   "cell_type": "code",
   "execution_count": 83,
   "metadata": {
    "collapsed": false
   },
   "outputs": [
    {
     "name": "stdout",
     "output_type": "stream",
     "text": [
      "grade\n",
      "very bad     1\n",
      "bad          0\n",
      "medium       0\n",
      "good         2\n",
      "very good    3\n",
      "dtype: int64\n",
      "                 id\n",
      "grade              \n",
      "very bad   6.000000\n",
      "bad             NaN\n",
      "medium          NaN\n",
      "good       2.500000\n",
      "very good  3.333333\n",
      "                 id\n",
      "grade              \n",
      "very bad        NaN\n",
      "bad             NaN\n",
      "medium          NaN\n",
      "good       0.707107\n",
      "very good  2.081666\n"
     ]
    }
   ],
   "source": [
    "print df.groupby(\"grade\").size()\n",
    "print df.groupby(\"grade\").mean()\n",
    "print df.groupby(\"grade\").std()"
   ]
  },
  {
   "cell_type": "markdown",
   "metadata": {},
   "source": [
    "## Plotting\n",
    "\n",
    "http://pandas.pydata.org/pandas-docs/stable/visualization.html#visualization"
   ]
  },
  {
   "cell_type": "code",
   "execution_count": 84,
   "metadata": {
    "collapsed": true
   },
   "outputs": [],
   "source": [
    "import matplotlib\n",
    "import matplotlib.pyplot as plt\n",
    "%matplotlib inline  "
   ]
  },
  {
   "cell_type": "code",
   "execution_count": 85,
   "metadata": {
    "collapsed": false
   },
   "outputs": [
    {
     "data": {
      "text/plain": [
       "<matplotlib.axes._subplots.AxesSubplot at 0x105ec06d0>"
      ]
     },
     "execution_count": 85,
     "metadata": {},
     "output_type": "execute_result"
    },
    {
     "data": {
      "image/png": "[encoded data removed]",
      "text/plain": [
       "<matplotlib.figure.Figure at 0x10c37cc10>"
      ]
     },
     "metadata": {},
     "output_type": "display_data"
    }
   ],
   "source": [
    "ts = pd.Series(np.random.randn(1000), index=pd.date_range('1/1/2000', periods=1000))\n",
    "\n",
    "ts = ts.cumsum()\n",
    "\n",
    "ts.plot()\n"
   ]
  },
  {
   "cell_type": "code",
   "execution_count": 89,
   "metadata": {
    "collapsed": false
   },
   "outputs": [
    {
     "data": {
      "text/plain": [
       "<matplotlib.legend.Legend at 0x10c7c5490>"
      ]
     },
     "execution_count": 89,
     "metadata": {},
     "output_type": "execute_result"
    },
    {
     "data": {
      "text/plain": [
       "<matplotlib.figure.Figure at 0x10c36a810>"
      ]
     },
     "metadata": {},
     "output_type": "display_data"
    },
    {
     "data": {
      "image/png": "[encoded data removed]",
      "text/plain": [
       "<matplotlib.figure.Figure at 0x10c5a4150>"
      ]
     },
     "metadata": {},
     "output_type": "display_data"
    }
   ],
   "source": [
    "df = pd.DataFrame(np.random.randn(1000, 4), index=ts.index,\n",
    "                  columns=['A', 'B', 'C', 'D'])\n",
    "\n",
    "\n",
    "df = df.cumsum()\n",
    "\n",
    "plt.figure(); df.plot(); plt.legend(loc='best')"
   ]
  }
 ],
 "metadata": {
  "anaconda-cloud": {},
  "kernelspec": {
   "display_name": "Python 2",
   "language": "python",
   "name": "python2"
  },
  "language_info": {
   "codemirror_mode": {
    "name": "ipython",
    "version": 2
   },
   "file_extension": ".py",
   "mimetype": "text/x-python",
   "name": "python",
   "nbconvert_exporter": "python",
   "pygments_lexer": "ipython2",
   "version": "2.7.11"
  }
 },
 "nbformat": 4,
 "nbformat_minor": 0
}
