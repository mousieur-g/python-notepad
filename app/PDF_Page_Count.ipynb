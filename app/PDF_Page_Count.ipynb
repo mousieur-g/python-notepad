{
 "cells": [
  {
   "cell_type": "code",
   "execution_count": 151,
   "metadata": {
    "collapsed": true
   },
   "outputs": [],
   "source": [
    "# Import Necessary Libraries\n",
    "\n",
    "import re\n",
    "import os\n",
    "\n",
    "# A function to check a .PDF file\n",
    "# return type: (file_name, count_of_page)\n",
    "def FUN_check_page(file_path_name):\n",
    "    f = open(file_path_name, \"rb\")\n",
    "    raw_contents = f.read()\n",
    "    f.close()\n",
    "    \n",
    "    positive_pattern_list = [\"/Type /Page\", \"/Type /page\",\"/Type/Page\", \"/Type/page\"]\n",
    "    negative_pattern_list = [\"/Type /Pages\", \"/Type /pages\",\"/Type/Pages\", \"/Type/pages\"]\n",
    "    \n",
    "    return file_path_name, sum(map(lambda p:len(re.findall(p, raw_contents)), positive_pattern_list)) - sum(map(lambda p:len(re.findall(p, raw_contents)), negative_pattern_list))\n",
    "    "
   ]
  },
  {
   "cell_type": "code",
   "execution_count": 152,
   "metadata": {
    "collapsed": false
   },
   "outputs": [
    {
     "name": "stdout",
     "output_type": "stream",
     "text": [
      "====================\n",
      "Folder Under Checking: C:\\Users\\alsxiaod\\Documents\n",
      "====================\n"
     ]
    }
   ],
   "source": [
    "# Get the list of PDF files in current working directory\n",
    "print \"=\" * 20\n",
    "print \"Folder Under Checking: %s\" % os.getcwd()\n",
    "print \"=\" * 20\n",
    "\n",
    "LIST_files_in_cwd = os.listdir(os.getcwd())\n",
    "\n",
    "file_type = \".pdf\"\n",
    "file_type = file_type.lower()\n",
    "file_type = file_type + \"$\" # make sure we only get the files end with '.pdf' and avoid files like \"a.pdfx.txt\"\n",
    "\n",
    "LIST_pdf_in_cwd = [x for x in LIST_files_in_cwd if re.search(file_type, x.lower())]"
   ]
  },
  {
   "cell_type": "code",
   "execution_count": 153,
   "metadata": {
    "collapsed": false
   },
   "outputs": [
    {
     "name": "stdout",
     "output_type": "stream",
     "text": [
      "No PDF file found in the working directory.\n"
     ]
    }
   ],
   "source": [
    "# If there is at least one PDF found, check the page count for each PDF and ouotput the result as a CSV file.\n",
    "\n",
    "if len(LIST_pdf_in_cwd) == 0:\n",
    "    print(\"No PDF file found in the working directory.\")\n",
    "else:\n",
    "    print \"%d '%s' files are found\" % (len(LIST_pdf_in_cwd), file_type)\n",
    "    \n",
    "    def FUN_convert_to_csv_line(tuple_for_line):\n",
    "        return \",\".join(map(lambda x:'\"' + str(x) + '\"', tuple_for_line))\n",
    "\n",
    "    STR_result_to_write = '\\n'.join([FUN_convert_to_csv_line(x) for x in map(FUN_check_page, LIST_pdf_in_cwd)])\n",
    "    STR_result_to_write = '\"PDF File Name\",\"Page Count\"\\n' + STR_result_to_write\n",
    "\n",
    "    \n",
    "    filename_to_write_out = \"PDF_COUNT_RESULT\"\n",
    "    \n",
    "    if os.path.exists(filename_to_write_out + \".csv\"):\n",
    "        from time import time\n",
    "        current_time = str(time())\n",
    "        \n",
    "        alternative_file_name = filename_to_write_out + \"_\" + current_time + \".csv\"\n",
    "        f = open(alternative_file_name, \"w\")\n",
    "        f.write(STR_result_to_write)\n",
    "        f.close()\n",
    "        print \"Result written as '%s'\" % alternative_file_name\n",
    "    else:\n",
    "        f = open(filename_to_write_out + \".csv\", \"w\")\n",
    "        f.write(STR_result_to_write)\n",
    "        f.close()\n",
    "        print \"Result written as '%s'\" % filename_to_write_out + \".csv\""
   ]
  }
 ],
 "metadata": {
  "anaconda-cloud": {},
  "kernelspec": {
   "display_name": "Python [default]",
   "language": "python",
   "name": "python2"
  },
  "language_info": {
   "codemirror_mode": {
    "name": "ipython",
    "version": 2
   },
   "file_extension": ".py",
   "mimetype": "text/x-python",
   "name": "python",
   "nbconvert_exporter": "python",
   "pygments_lexer": "ipython2",
   "version": "2.7.12"
  }
 },
 "nbformat": 4,
 "nbformat_minor": 1
}
