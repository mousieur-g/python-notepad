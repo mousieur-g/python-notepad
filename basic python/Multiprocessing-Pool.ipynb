{
 "cells": [
  {
   "cell_type": "code",
   "execution_count": 1,
   "metadata": {
    "collapsed": false,
    "slideshow": {
     "slide_type": "-"
    }
   },
   "outputs": [],
   "source": [
    "from multiprocessing import Pool\n",
    "def f(x):\n",
    "    n = 9\n",
    "    for i in range(5000):\n",
    "        temp = 9**9\n",
    "    return x\n",
    "\n",
    "p = Pool(4)"
   ]
  },
  {
   "cell_type": "code",
   "execution_count": 2,
   "metadata": {
    "collapsed": false,
    "slideshow": {
     "slide_type": "-"
    }
   },
   "outputs": [
    {
     "name": "stdout",
     "output_type": "stream",
     "text": [
      "CPU times: user 149 ms, sys: 53 ms, total: 202 ms\n",
      "Wall time: 35.3 s\n"
     ]
    }
   ],
   "source": [
    "%time result_1 = p.map(f, range(int(7e5)))"
   ]
  },
  {
   "cell_type": "code",
   "execution_count": 3,
   "metadata": {
    "collapsed": false,
    "slideshow": {
     "slide_type": "-"
    }
   },
   "outputs": [
    {
     "name": "stdout",
     "output_type": "stream",
     "text": [
      "CPU times: user 1min 46s, sys: 459 ms, total: 1min 46s\n",
      "Wall time: 1min 46s\n"
     ]
    }
   ],
   "source": [
    "%time result_2 = [f(x) for x in range(int(7e5))]"
   ]
  },
  {
   "cell_type": "code",
   "execution_count": 4,
   "metadata": {
    "collapsed": false,
    "slideshow": {
     "slide_type": "-"
    }
   },
   "outputs": [
    {
     "name": "stdout",
     "output_type": "stream",
     "text": [
      "[0, 1, 2, 3, 4, 5, 6, 7, 8, 9] ... [699990, 699991, 699992, 699993, 699994, 699995, 699996, 699997, 699998, 699999]\n",
      "[0, 1, 2, 3, 4, 5, 6, 7, 8, 9] ... [699990, 699991, 699992, 699993, 699994, 699995, 699996, 699997, 699998, 699999]\n",
      "Count of Error: 0\n"
     ]
    }
   ],
   "source": [
    "count_error = 0\n",
    "result_1 = p.map(f, range(int(7e5)))\n",
    "result_2 = [f(x) for x in range(int(7e5))]\n",
    "for i in range(len(result_1)):\n",
    "    if result_1[i] != result_2[i]:\n",
    "        count_error += 1\n",
    "        \n",
    "print result_1[0:10], \"...\", result_1[(len(result_1)-10):len(result_1)]\n",
    "print result_2[0:10], \"...\", result_2[(len(result_2)-10):len(result_2)]\n",
    "print \"Count of Error: %i\" % count_error"
   ]
  },
  {
   "cell_type": "code",
   "execution_count": 5,
   "metadata": {
    "collapsed": false,
    "slideshow": {
     "slide_type": "-"
    }
   },
   "outputs": [],
   "source": [
    "p.terminate()"
   ]
  }
 ],
 "metadata": {
  "kernelspec": {
   "display_name": "Python 2",
   "language": "python",
   "name": "python2"
  },
  "language_info": {
   "codemirror_mode": {
    "name": "ipython",
    "version": 2
   },
   "file_extension": ".py",
   "mimetype": "text/x-python",
   "name": "python",
   "nbconvert_exporter": "python",
   "pygments_lexer": "ipython2",
   "version": "2.7.12"
  }
 },
 "nbformat": 4,
 "nbformat_minor": 0
}
