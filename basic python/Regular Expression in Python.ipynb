{
 "cells": [
  {
   "cell_type": "markdown",
   "metadata": {},
   "source": [
    "# Regular Expression in Python\n",
    "\n",
    "Based on https://developers.google.com/edu/python/regular-expressions"
   ]
  },
  {
   "cell_type": "markdown",
   "metadata": {},
   "source": [
    "In Python a regular expression search is typically written as `match = re.search(pat, str)`"
   ]
  },
  {
   "cell_type": "code",
   "execution_count": 19,
   "metadata": {
    "collapsed": false
   },
   "outputs": [
    {
     "name": "stdout",
     "output_type": "stream",
     "text": [
      "found:  word:cat\n"
     ]
    }
   ],
   "source": [
    "import re\n",
    "\n",
    "str = 'an example word:cat!!'\n",
    "match = re.search(r'word:\\w\\w\\w', str)\n",
    "\n",
    "\n",
    "# If-statement after search() tests if it succeeded\n",
    "if match:\n",
    "    print 'found: ', match.group() ## 'found word:cat'\n",
    "else:\n",
    "    print 'did not find'"
   ]
  },
  {
   "cell_type": "markdown",
   "metadata": {},
   "source": [
    "The code \"`match = re.search(pat, str)`\" stores the search result in a variable named \"match\". Then the if-statement tests the match -- if true the search succeeded and `match.group()` is the matching text (e.g. 'word:cat'). Otherwise if the match is false (None to be more specific), then the search did not succeed, and there is no matching text."
   ]
  },
  {
   "cell_type": "markdown",
   "metadata": {},
   "source": [
    "The 'r' at the start of the pattern string designates a python \"raw\" string which passes through backslashes without change which is very handy for regular expressions (Java needs this feature badly!). I recommend that you always write pattern strings with the 'r' just as a habit."
   ]
  },
  {
   "cell_type": "markdown",
   "metadata": {},
   "source": [
    "## Basic Patterns\n",
    "\n",
    "The power of regular expressions is that they can specify patterns, not just fixed characters. Here are the most basic patterns which match single chars:\n",
    "\n",
    "- **a, X, 9, <** -- ordinary characters just match themselves exactly. The meta-characters which do not match themselves because they have special meanings are: . ^ $ * + ? { [ ] \\ | ( ) (details below)\n",
    "\n",
    "- **. (a period)** -- matches any single character except newline '\\n'\n",
    "\n",
    "- **\\w** -- (lowercase w) matches a \"word\" character: a letter or digit or underbar [a-zA-Z0-9_]. Note that although \"word\" is the mnemonic for this, it only matches a single word char, not a whole word. \\W (upper case W) matches any non-word character.\n",
    "\n",
    "- **\\b** -- boundary between word and non-word\n",
    "\n",
    "- **\\s** -- (lowercase s) matches a single whitespace character -- space, newline, return, tab, form [ \\n\\r\\t\\f]. \\S (upper case S) matches any non-whitespace character.\n",
    "\n",
    "- **\\t, \\n, \\r** -- tab, newline, return\n",
    "\n",
    "- **\\d** -- decimal digit [0-9] (some older regex utilities do not support but \\d, but they all support \\w and \\s)\n",
    "\n",
    "- **^** = start, **$** = end -- match the start or end of the string\n",
    "\n",
    "- **\\** -- inhibit the \"specialness\" of a character. So, for example, use \\. to match a period or \\\\ to match a slash. If you are unsure if a character has special meaning, such as '@', you can put a slash in front of it, \\@, to make sure it is treated just as a character."
   ]
  },
  {
   "cell_type": "markdown",
   "metadata": {},
   "source": [
    "## Basic Examples\n",
    "\n",
    "The basic rules of regular expression search for a pattern within a string are:\n",
    "\n",
    "- The search proceeds through the string from start to end, **stopping at the first match found**\n",
    "\n",
    "- All of the pattern must be matched, but not all of the string\n",
    "\n",
    "- If `match = re.search(pat, str)` is successful, match is not None and in particular `match.group()` is the matching text"
   ]
  },
  {
   "cell_type": "code",
   "execution_count": 20,
   "metadata": {
    "collapsed": false
   },
   "outputs": [
    {
     "name": "stdout",
     "output_type": "stream",
     "text": [
      "found:  iii\n",
      "did not find\n",
      "found:  iig\n",
      "found:  123\n",
      "found:  abc\n"
     ]
    }
   ],
   "source": [
    "def FUN_check_result(match):\n",
    "    if match:\n",
    "        print 'found: ', match.group() ## 'found word:cat'\n",
    "    else:\n",
    "        print 'did not find'\n",
    "\n",
    "## Search for pattern 'iii' in string 'piiig'.\n",
    "## All of the pattern must match, but it may appear anywhere.\n",
    "## On success, match.group() is matched text.\n",
    "match = re.search(r'iii', 'piiig')\n",
    "FUN_check_result(match)\n",
    "\n",
    "match = re.search(r'igs', 'piiig')\n",
    "FUN_check_result(match)\n",
    "\n",
    "\n",
    "## . = any char but \\n\n",
    "match = re.search(r'..g', 'piiig')\n",
    "FUN_check_result(match)\n",
    "\n",
    "## \\d = digit char, \\w = word char\n",
    "match = re.search(r'\\d\\d\\d', 'p123g')\n",
    "FUN_check_result(match)\n",
    "\n",
    "match = re.search(r'\\w\\w\\w', '@@abcd!!')\n",
    "FUN_check_result(match)"
   ]
  },
  {
   "cell_type": "markdown",
   "metadata": {},
   "source": [
    "## Repetition\n",
    "\n",
    "Things get more interesting when you use + and * to specify repetition in the pattern\n",
    "\n",
    "- '+' -- 1 or more occurrences of the pattern to its left, e.g. 'i+' = one or more i's\n",
    "\n",
    "- '*' -- 0 or more occurrences of the pattern to its left\n",
    "\n",
    "- '?' -- match 0 or 1 occurrences of the pattern to its left\n",
    "\n",
    "### Leftmost & Largest\n",
    "\n",
    "First the search finds the leftmost match for the pattern, and second it tries to use up as much of the string as possible -- i.e. + and * go as far as possible (the + and * are said to be \"**greedy**\").\n",
    "\n",
    "### Specify (Limit) the Repetition\n",
    "Sometimes we may want to add more restrictions on the repetition, like how many time the pattern is repeated. We can use `{m}` or `{m,n}` to do this.\n",
    "\n",
    "For example, we want to match all the potential IP addresses, like 101.203.120.187 or 211.182.3.12, but not 1234.21.93823.43. Then we can use pattern `[0-9]{1,3}[.][0-9]{1,3}[.][0-9]{1,3}[.][0-9]{1,3}` in which `{1,3}` means the pattern should repeat for 1, or 2, or 3 times. \n",
    "\n",
    "### Repetition Examples"
   ]
  },
  {
   "cell_type": "code",
   "execution_count": 21,
   "metadata": {
    "collapsed": false
   },
   "outputs": [
    {
     "name": "stdout",
     "output_type": "stream",
     "text": [
      "found:  piii\n",
      "found:  ii\n",
      "found:  1 2   3\n",
      "found:  12  3\n",
      "found:  123\n",
      "did not find\n",
      "found:  bar\n",
      "found:  101.203.120.187\n",
      "found:  211.182.3.12\n",
      "did not find\n"
     ]
    }
   ],
   "source": [
    "## i+ = one or more i's, as many as possible.\n",
    "match = re.search(r'pi+', 'piiig')\n",
    "FUN_check_result(match)\n",
    "\n",
    "## Finds the first/leftmost solution, and within it drives the +\n",
    "## as far as possible (aka 'leftmost and largest').\n",
    "## In this example, note that it does not get to the second set of i's.\n",
    "match = re.search(r'i+', 'piigiiii')\n",
    "FUN_check_result(match)\n",
    "\n",
    "## \\s* = zero or more whitespace chars\n",
    "## Here look for 3 digits, possibly separated by whitespace.\n",
    "match = re.search(r'\\d\\s*\\d\\s*\\d', 'xx1 2   3xx')   # '/s' matches a single whitespace character -- space, newline, return, tab, form\n",
    "FUN_check_result(match)\n",
    "\n",
    "match = re.search(r'\\d\\s*\\d\\s*\\d', 'xx12  3xx') \n",
    "FUN_check_result(match)\n",
    "\n",
    "match = re.search(r'\\d\\s*\\d\\s*\\d', 'xx123xx')\n",
    "FUN_check_result(match)\n",
    "\n",
    "\n",
    "## ^ = matches the start of string, so this fails:\n",
    "match = re.search(r'^b\\w+', 'foobar')\n",
    "FUN_check_result(match)\n",
    "\n",
    "## but without the ^ it succeeds:\n",
    "match = re.search(r'b\\w+', 'foobar')\n",
    "FUN_check_result(match)\n",
    "\n",
    "\n",
    "## Specify (limit) the repetitions\n",
    "match = re.search(r'[0-9]{1,3}[.][0-9]{1,3}[.][0-9]{1,3}[.][0-9]{1,3}', '101.203.120.187')\n",
    "FUN_check_result(match)\n",
    "\n",
    "match = re.search(r'[0-9]{1,3}[.][0-9]{1,3}[.][0-9]{1,3}[.][0-9]{1,3}', '211.182.3.12')\n",
    "FUN_check_result(match)\n",
    "\n",
    "match = re.search(r'[0-9]{1,3}[.][0-9]{1,3}[.][0-9]{1,3}[.][0-9]{1,3}', '1234.21.93823.43')\n",
    "FUN_check_result(match)"
   ]
  },
  {
   "cell_type": "markdown",
   "metadata": {},
   "source": [
    "## Emails Example"
   ]
  },
  {
   "cell_type": "markdown",
   "metadata": {},
   "source": [
    "The search below does not get the whole email address in this case because the \\w does not match the '-' or '.' in the address."
   ]
  },
  {
   "cell_type": "code",
   "execution_count": 22,
   "metadata": {
    "collapsed": false
   },
   "outputs": [
    {
     "name": "stdout",
     "output_type": "stream",
     "text": [
      "b@google\n"
     ]
    }
   ],
   "source": [
    "str = 'purple alice-b@google.com monkey dishwasher'\n",
    "\n",
    "match = re.search(r'\\w+@\\w+', str)\n",
    "if match:\n",
    "    print match.group()  ## 'b@google'"
   ]
  },
  {
   "cell_type": "markdown",
   "metadata": {},
   "source": [
    "**Square brackets** can be used to indicate a set of chars, so [abc] matches 'a' or 'b' or 'c'. The codes \\w, \\s etc. work inside square brackets too with the one exception that dot (.) just means a literal dot. For the emails problem, the square brackets are an easy way to add '.' and '-' to the set of chars which can appear around the @ with the pattern r'[\\w.-]+@[\\w.-]+' to get the whole email address:"
   ]
  },
  {
   "cell_type": "code",
   "execution_count": 23,
   "metadata": {
    "collapsed": false
   },
   "outputs": [
    {
     "name": "stdout",
     "output_type": "stream",
     "text": [
      "alice-b@google.com\n"
     ]
    }
   ],
   "source": [
    "match = re.search(r'[\\w.-]+@[\\w.-]+', str)\n",
    "\n",
    "if match:\n",
    "    print match.group()  ## 'alice-b@google.com'"
   ]
  },
  {
   "cell_type": "markdown",
   "metadata": {},
   "source": [
    "You can also use a dash to indicate a range, so [a-z] matches all lowercase letters. To use a dash without indicating a range, put the dash last, e.g. [abc-]. \n",
    "\n",
    "An up-hat (^) at the start of a square-bracket set inverts it, so [^ab] means any char except 'a' or 'b'."
   ]
  },
  {
   "cell_type": "markdown",
   "metadata": {},
   "source": [
    "## Group Extraction\n",
    "\n",
    "The \"group\" feature of a regular expression allows you to pick out parts of the matching text. Suppose for the emails problem that we want to extract the username and host separately. To do this, add parenthesis `( )` around the username and host in the pattern, like this: r'([\\w.-]+)@([\\w.-]+)'. \n",
    "\n",
    "In this case, the parenthesis do not change what the pattern will match, instead they establish logical \"groups\" inside of the match text. On a successful search, match.group(1) is the match text corresponding to the 1st left parenthesis, and match.group(2) is the text corresponding to the 2nd left parenthesis. The plain match.group() is still the whole match text as usual."
   ]
  },
  {
   "cell_type": "code",
   "execution_count": 24,
   "metadata": {
    "collapsed": false
   },
   "outputs": [
    {
     "name": "stdout",
     "output_type": "stream",
     "text": [
      "alice-b@google.com\n",
      "alice-b\n",
      "google.com\n"
     ]
    }
   ],
   "source": [
    "str = 'purple alice-b@google.com monkey dishwasher'\n",
    "\n",
    "match = re.search('([\\w.-]+)@([\\w.-]+)', str)\n",
    "\n",
    "if match:\n",
    "    print match.group()   ## 'alice-b@google.com' (the whole match)\n",
    "    print match.group(1)  ## 'alice-b' (the username, group 1)\n",
    "    print match.group(2)  ## 'google.com' (the host, group 2)"
   ]
  },
  {
   "cell_type": "markdown",
   "metadata": {},
   "source": [
    "A common workflow with regular expressions is that you write a pattern for the thing you are looking for, adding parenthesis groups to extract the parts you want."
   ]
  },
  {
   "cell_type": "markdown",
   "metadata": {},
   "source": [
    "## findall"
   ]
  },
  {
   "cell_type": "markdown",
   "metadata": {},
   "source": [
    "`findall()` is probably the single most powerful function in the **re** module. Above we used `re.search()` to find the *first* match for a pattern. `findall()` finds **all** the matches and returns them as a list of strings, with each string representing one match."
   ]
  },
  {
   "cell_type": "code",
   "execution_count": 25,
   "metadata": {
    "collapsed": false
   },
   "outputs": [
    {
     "name": "stdout",
     "output_type": "stream",
     "text": [
      "['alice@google.com', 'bob@abc.com']\n",
      "alice@google.com\n",
      "bob@abc.com\n"
     ]
    }
   ],
   "source": [
    "## Suppose we have a text with many email addresses\n",
    "str = 'purple alice@google.com, blah monkey bob@abc.com blah dishwasher'\n",
    "\n",
    "## Here re.findall() returns a list of all the found email strings\n",
    "emails = re.findall(r'[\\w\\.-]+@[\\w\\.-]+', str) ## ['alice@google.com', 'bob@abc.com']\n",
    "\n",
    "print emails\n",
    "\n",
    "for email in emails:\n",
    "    # do something with each found email string\n",
    "    print email"
   ]
  },
  {
   "cell_type": "markdown",
   "metadata": {},
   "source": [
    "## findall With Files\n",
    "\n",
    "For files, you may be in the habit of writing a loop to iterate over the lines of the file, and you could then call findall() on each line. Instead, let findall() do the iteration for you -- much better! Just feed the whole file text into findall() and let it return a list of all the matches in a single step (`f.read()` returns the whole text of a file in a single string)."
   ]
  },
  {
   "cell_type": "markdown",
   "metadata": {},
   "source": [
    "```\n",
    "# Open file\n",
    "f = open('test.txt', 'r')\n",
    "\n",
    "# Feed the file text into findall(); it returns a list of all the found strings\n",
    "strings = re.findall(r'some pattern', f.read())\n",
    "```"
   ]
  },
  {
   "cell_type": "markdown",
   "metadata": {},
   "source": [
    "## findall and Groups\n",
    "\n",
    "The parenthesis ( ) group mechanism can be combined with findall(). \n",
    "\n",
    "If the pattern includes 2 or more parenthesis groups, then instead of returning a list of strings, findall() returns a list of *tuples*. Each tuple represents one match of the pattern, and inside the tuple is the group(1), group(2) .. data. So if 2 parenthesis groups are added to the email pattern, then findall() returns a list of tuples, each length 2 containing the username and host, e.g. ('alice', 'google.com')."
   ]
  },
  {
   "cell_type": "code",
   "execution_count": 26,
   "metadata": {
    "collapsed": false
   },
   "outputs": [
    {
     "name": "stdout",
     "output_type": "stream",
     "text": [
      "[('alice', 'google.com'), ('bob', 'abc.com')]\n",
      "alice\n",
      "google.com\n",
      "bob\n",
      "abc.com\n"
     ]
    }
   ],
   "source": [
    "str = 'purple alice@google.com, blah monkey bob@abc.com blah dishwasher'\n",
    "tuples = re.findall(r'([\\w\\.-]+)@([\\w\\.-]+)', str)\n",
    "\n",
    "print tuples\n",
    "\n",
    "for tuple in tuples:\n",
    "    print tuple[0]  ## username\n",
    "    print tuple[1]  ## host"
   ]
  },
  {
   "cell_type": "markdown",
   "metadata": {},
   "source": [
    "## Greedy vs. Non-Greedy -  Where to Stop\n",
    "\n",
    "This is optional section which shows a more advanced regular expression technique not needed for the exercises.\n",
    "\n",
    "Suppose you have text with tags in it: `<b>foo</b> and <i>so on</i>`\n",
    "\n",
    "Suppose you are trying to match each tag with the pattern '(<.*>)' -- what does it match first?\n",
    "\n",
    "The result is a little surprising, but the greedy aspect of the `.*` causes it to match the whole `<b>foo</b> and <i>so on</i>` as one big match. The problem is that the `.*` goes **as far as is it can**, instead of stopping at the first > (aka it is \"**greedy**\").\n",
    "\n",
    "There is an extension to regular expression where you add a **?** at the end, such as **.*?** or **.+?**, changing them to be **non-greedy**. Now they stop **as soon as they can**. So the pattern '**(<.*?>)**' will get just '**<b>**' as the first match, and '**</b>**' as the second match, and so on getting each <..> pair in turn. The style is typically that you use a **.*?**, and then immediately its right look for some concrete marker (> in this case) that forces the end of the .*? run.\n",
    "\n",
    "The ** *? ** extension originated in *Perl*, and regular expressions that include Perl's extensions are known as Perl Compatible Regular Expressions -- pcre. Python includes pcre support. Many command line utils etc. have a flag where they accept pcre patterns.\n",
    "\n",
    "An older but widely used technique to code this idea of \"all of these chars except stopping at X\" uses the square-bracket style. For the above you could write the pattern, but instead of .* to get all the chars, use [^>]* which skips over all characters which are not > (the leading ^ \"inverts\" the square bracket set, so it matches any char not in the brackets)."
   ]
  },
  {
   "cell_type": "code",
   "execution_count": 27,
   "metadata": {
    "collapsed": false
   },
   "outputs": [
    {
     "name": "stdout",
     "output_type": "stream",
     "text": [
      "Greedy\n",
      "<b>foo</b> and <i>so on</i>\n",
      "\n",
      "Non-Greedy\n",
      "<b>\n",
      "</b>\n",
      "<i>\n",
      "</i>\n"
     ]
    }
   ],
   "source": [
    "str = \"<b>foo</b> and <i>so on</i>\"\n",
    "\n",
    "print(\"Greedy\")\n",
    "result = re.findall(\"(<.*>)\", str)\n",
    "for i in result:\n",
    "    print i\n",
    "\n",
    "print(\"\\nNon-Greedy\")\n",
    "result = re.findall(\"(<.*?>)\", str)\n",
    "for i in result:\n",
    "    print i"
   ]
  },
  {
   "cell_type": "markdown",
   "metadata": {},
   "source": [
    "## Substitution \n",
    "\n",
    "The `re.sub(pat, replacement, str)` function searches for all the instances of pattern in the given string, and replaces them. \n",
    "\n",
    "**The replacement string can include '\\1', '\\2' which refer to the text from group(1), group(2), and so on from the original matching text.**\n",
    "\n",
    "There is another function `re.subn()`. It will return a tuple in which the first element is the expected string (like that from function `re.sub`) and the second element is the count of matched instances found & replaced.\n",
    "\n",
    "Here's an example which searches for all the email addresses, and changes them to keep the user (\\1) but have yo-yo-dyne.com as the host."
   ]
  },
  {
   "cell_type": "code",
   "execution_count": 28,
   "metadata": {
    "collapsed": false
   },
   "outputs": [
    {
     "name": "stdout",
     "output_type": "stream",
     "text": [
      "purple alice@yo-yo-dyne.com, blah monkey bob@yo-yo-dyne.com blah dishwasher\n"
     ]
    }
   ],
   "source": [
    "str = 'purple alice@google.com, blah monkey bob@abc.com blah dishwasher'\n",
    "\n",
    "## re.sub(pat, replacement, str) -- returns new string with all replacements,\n",
    "## \\1 is group(1), \\2 group(2) in the replacement\n",
    "print re.sub(r'([\\w\\.-]+)@([\\w\\.-]+)', r'\\1@yo-yo-dyne.com', str)\n",
    "## purple alice@yo-yo-dyne.com, blah monkey bob@yo-yo-dyne.com blah dishwasher"
   ]
  },
  {
   "cell_type": "markdown",
   "metadata": {},
   "source": [
    "A simpler example:"
   ]
  },
  {
   "cell_type": "code",
   "execution_count": 29,
   "metadata": {
    "collapsed": false
   },
   "outputs": [
    {
     "name": "stdout",
     "output_type": "stream",
     "text": [
      "Work is GOOD. Life is GOOD. Everything is GOOD.\n"
     ]
    }
   ],
   "source": [
    "str = \"Work is bad. Life is bad. Everything is bad.\"\n",
    "\n",
    "print re.sub(\"bad\", \"GOOD\", str)"
   ]
  }
 ],
 "metadata": {
  "kernelspec": {
   "display_name": "Python 2",
   "language": "python",
   "name": "python2"
  },
  "language_info": {
   "codemirror_mode": {
    "name": "ipython",
    "version": 2
   },
   "file_extension": ".py",
   "mimetype": "text/x-python",
   "name": "python",
   "nbconvert_exporter": "python",
   "pygments_lexer": "ipython2",
   "version": "2.7.11"
  }
 },
 "nbformat": 4,
 "nbformat_minor": 0
}
