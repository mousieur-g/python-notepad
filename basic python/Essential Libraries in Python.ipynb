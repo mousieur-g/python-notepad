{
 "cells": [
  {
   "cell_type": "markdown",
   "metadata": {},
   "source": [
    "# Essential Libraries in Python\n",
    "\n",
    "- **datetime**\n",
    "- **time**\n",
    "- **os, os.path, shutil**: Miscellaneous operating system interfaces; file manipulation\n",
    "- **commands**: Execute OS commands, like Shell; Running External Processes\n",
    "- **Catch Exceptions**: manage the errors\n",
    "- **HTTP -- urllib and urlparse**\n",
    "- **hashlib**: Secure hashes and message digests"
   ]
  },
  {
   "cell_type": "markdown",
   "metadata": {},
   "source": [
    "## datetime"
   ]
  },
  {
   "cell_type": "code",
   "execution_count": 107,
   "metadata": {
    "collapsed": false
   },
   "outputs": [
    {
     "name": "stdout",
     "output_type": "stream",
     "text": [
      "2017-03-02 21:32:19.269668\n"
     ]
    }
   ],
   "source": [
    "import datetime\n",
    "\n",
    "var_now = datetime.datetime.now()\n",
    "print var_now"
   ]
  },
  {
   "cell_type": "code",
   "execution_count": 108,
   "metadata": {
    "collapsed": false
   },
   "outputs": [
    {
     "name": "stdout",
     "output_type": "stream",
     "text": [
      "Thu Mar  2 21:32:19 2017\n"
     ]
    }
   ],
   "source": [
    "print datetime.datetime.ctime(var_now)"
   ]
  },
  {
   "cell_type": "code",
   "execution_count": 109,
   "metadata": {
    "collapsed": false
   },
   "outputs": [
    {
     "name": "stdout",
     "output_type": "stream",
     "text": [
      "21:32:19.269668\n"
     ]
    }
   ],
   "source": [
    "print datetime.datetime.time(var_now)"
   ]
  },
  {
   "cell_type": "code",
   "execution_count": 110,
   "metadata": {
    "collapsed": false
   },
   "outputs": [
    {
     "name": "stdout",
     "output_type": "stream",
     "text": [
      "2017-03-02\n",
      "3\n"
     ]
    }
   ],
   "source": [
    "print datetime.datetime.date(var_now)\n",
    "print datetime.datetime.weekday(var_now)"
   ]
  },
  {
   "cell_type": "markdown",
   "metadata": {},
   "source": [
    "## time"
   ]
  },
  {
   "cell_type": "code",
   "execution_count": 111,
   "metadata": {
    "collapsed": false
   },
   "outputs": [
    {
     "name": "stdout",
     "output_type": "stream",
     "text": [
      "('CST', 'CST')\n"
     ]
    }
   ],
   "source": [
    "import time\n",
    "print time.tzname  # timezone name"
   ]
  },
  {
   "cell_type": "code",
   "execution_count": 112,
   "metadata": {
    "collapsed": false
   },
   "outputs": [
    {
     "name": "stdout",
     "output_type": "stream",
     "text": [
      "time.struct_time(tm_year=2017, tm_mon=3, tm_mday=2, tm_hour=21, tm_min=32, tm_sec=19, tm_wday=3, tm_yday=61, tm_isdst=0)\n",
      "61\n",
      "2\n",
      "3\n",
      "2017\n",
      "21\n"
     ]
    }
   ],
   "source": [
    "t = time.localtime()\n",
    "\n",
    "print t\n",
    "print t.tm_yday\n",
    "print t.tm_mday\n",
    "print t.tm_wday\n",
    "print t.tm_year\n",
    "print t.tm_hour"
   ]
  },
  {
   "cell_type": "code",
   "execution_count": 113,
   "metadata": {
    "collapsed": false
   },
   "outputs": [
    {
     "name": "stdout",
     "output_type": "stream",
     "text": [
      "time.struct_time(tm_year=2017, tm_mon=3, tm_mday=2, tm_hour=13, tm_min=32, tm_sec=19, tm_wday=3, tm_yday=61, tm_isdst=0)\n"
     ]
    }
   ],
   "source": [
    "# to time ini +0 timezone\n",
    "print time.gmtime()"
   ]
  },
  {
   "cell_type": "markdown",
   "metadata": {},
   "source": [
    "## os, os.path, shutil"
   ]
  },
  {
   "cell_type": "code",
   "execution_count": 114,
   "metadata": {
    "collapsed": false
   },
   "outputs": [
    {
     "name": "stdout",
     "output_type": "stream",
     "text": [
      "/Users/XD/python/python-practice\n",
      "/Users/XD/python/python-practice\n",
      "/Users/XD/python\n",
      "XD\n"
     ]
    }
   ],
   "source": [
    "import os\n",
    "\n",
    "# Get the current working directory\n",
    "print os.getcwd()\n",
    "print os.getcwdu()\n",
    "\n",
    "# Change working directory\n",
    "os.chdir('/Users/XD/python/')\n",
    "print os.getcwd()\n",
    "\n",
    "# Get the ID of the logged user\n",
    "print os.getlogin()"
   ]
  },
  {
   "cell_type": "code",
   "execution_count": 115,
   "metadata": {
    "collapsed": false
   },
   "outputs": [
    {
     "name": "stdout",
     "output_type": "stream",
     "text": [
      "['.dbfseventsd', '.DocumentRevisions-V100', '.DS_Store', '.file', '.fseventsd', '.PKInstallSandboxManager', '.PKInstallSandboxManager-SystemSoftware', '.Spotlight-V100', '.Trashes', '.vol', 'Applications', 'bin', 'cores', 'dev', 'etc', 'home', 'installer.failurerequests', 'Library', 'net', 'Network', 'private', 'sbin', 'System', 'tmp', 'Users', 'usr', 'var', 'Volumes']\n"
     ]
    }
   ],
   "source": [
    "# List the files and folders in one directory\n",
    "print os.listdir(\"/\")"
   ]
  },
  {
   "cell_type": "code",
   "execution_count": 116,
   "metadata": {
    "collapsed": false
   },
   "outputs": [
    {
     "name": "stdout",
     "output_type": "stream",
     "text": [
      "/home/a.py\n",
      "/home/a.py\n"
     ]
    }
   ],
   "source": [
    "# given a filename use this to put the dir and filename together to make a path properly. \n",
    "# One advantage is that we don't need explicity decide if we should use \"\\\" or \"/\" (in different OS)\n",
    "print os.path.join(\"/home/\", \"a.py\")\n",
    "print os.path.join(\"/home\", \"a.py\")"
   ]
  },
  {
   "cell_type": "code",
   "execution_count": 117,
   "metadata": {
    "collapsed": false
   },
   "outputs": [
    {
     "data": {
      "text/plain": [
       "'/Users/XD/python/python-practice/test'"
      ]
     },
     "execution_count": 117,
     "metadata": {},
     "output_type": "execute_result"
    }
   ],
   "source": [
    "# given a path in the current work directory, return an absolute form, e.g. /home/nick/foo/bar.html\n",
    "os.path.abspath(\"test\")"
   ]
  },
  {
   "cell_type": "code",
   "execution_count": 118,
   "metadata": {
    "collapsed": false
   },
   "outputs": [
    {
     "name": "stdout",
     "output_type": "stream",
     "text": [
      "a/b\n",
      "c.py\n"
     ]
    }
   ],
   "source": [
    "fake_path = \"a/b/c.py\"\n",
    "\n",
    "# given dir/foo/bar.html, return the dirname \"dir/foo\"\n",
    "print os.path.dirname(fake_path)\n",
    "\n",
    "# given dir/foo/bar.html, return the basename \"bar.html\"\n",
    "print os.path.basename(fake_path)"
   ]
  },
  {
   "cell_type": "code",
   "execution_count": 119,
   "metadata": {
    "collapsed": false
   },
   "outputs": [
    {
     "name": "stdout",
     "output_type": "stream",
     "text": [
      "False\n",
      "True\n"
     ]
    }
   ],
   "source": [
    "# Check if one path exists\n",
    "print os.path.exists(fake_path)\n",
    "\n",
    "print os.path.exists(os.getcwd())"
   ]
  },
  {
   "cell_type": "code",
   "execution_count": 120,
   "metadata": {
    "collapsed": false
   },
   "outputs": [
    {
     "name": "stdout",
     "output_type": "stream",
     "text": [
      "11\n",
      "12\n",
      "11\n"
     ]
    }
   ],
   "source": [
    "# Create a folder & Delete a folder\n",
    "print len(os.listdir(os.getcwd()))\n",
    "os.mkdir(\"test\")\n",
    "print len(os.listdir(os.getcwd()))\n",
    "os.rmdir(\"test\")\n",
    "print len(os.listdir(os.getcwd()))"
   ]
  },
  {
   "cell_type": "code",
   "execution_count": 121,
   "metadata": {
    "collapsed": false
   },
   "outputs": [],
   "source": [
    "# copy a file (dest path directories should exist)\n",
    "import shutil\n",
    "# shutil.copy(\"Introduction to numpy.ipynb\", \"/Users/XD/Desktop/\")"
   ]
  },
  {
   "cell_type": "markdown",
   "metadata": {},
   "source": [
    "## commands"
   ]
  },
  {
   "cell_type": "markdown",
   "metadata": {},
   "source": [
    "**`commands.getstatusoutput(cmd)`** -- runs the command, waits for it to exit, and returns its status int and output text as a tuple. The command is run with its standard output and standard error combined into the one output text. The status will be non-zero if the command failed. Since the standard-err of the command is captured, if it fails, we need to print some indication of what happened.\n",
    "\n",
    "There is a **`commands.getstatus()`** but it does something else, so don't use it -- dumbest bit of method naming ever!"
   ]
  },
  {
   "cell_type": "code",
   "execution_count": 122,
   "metadata": {
    "collapsed": false
   },
   "outputs": [
    {
     "data": {
      "text/plain": [
       "(0,\n",
       " '10 Minutes to pandas Module.ipynb\\nEssential Utilities in Python.ipynb\\nIntroduction to numpy.ipynb\\nMultiprocessing-Pool.ipynb\\nREADME.md\\nRegular Expression in Python.ipynb\\nSkills in Python.ipynb\\nget_path_of_current_file.py')"
      ]
     },
     "execution_count": 122,
     "metadata": {},
     "output_type": "execute_result"
    }
   ],
   "source": [
    "import commands\n",
    "\n",
    "commands.getstatusoutput(\"ls\")"
   ]
  },
  {
   "cell_type": "markdown",
   "metadata": {},
   "source": [
    "**`commands.getoutput(cmd)`** -- the same as `commands.getstatusoutput`, but without the status int."
   ]
  },
  {
   "cell_type": "code",
   "execution_count": 123,
   "metadata": {
    "collapsed": false
   },
   "outputs": [
    {
     "data": {
      "text/plain": [
       "'10 Minutes to pandas Module.ipynb\\nEssential Utilities in Python.ipynb\\nIntroduction to numpy.ipynb\\nMultiprocessing-Pool.ipynb\\nREADME.md\\nRegular Expression in Python.ipynb\\nSkills in Python.ipynb\\nget_path_of_current_file.py'"
      ]
     },
     "execution_count": 123,
     "metadata": {},
     "output_type": "execute_result"
    }
   ],
   "source": [
    "commands.getoutput(\"ls\")"
   ]
  },
  {
   "cell_type": "markdown",
   "metadata": {},
   "source": [
    "There is also a simple **`os.system(cmd)`** which runs the command and dumps its output onto your output and returns its error code. This works if you want to run the command but do not need to capture its output into your python data structures."
   ]
  },
  {
   "cell_type": "code",
   "execution_count": 124,
   "metadata": {
    "collapsed": false
   },
   "outputs": [
    {
     "name": "stdout",
     "output_type": "stream",
     "text": [
      "0\n"
     ]
    }
   ],
   "source": [
    "a = os.system(\"ls\")\n",
    "print a"
   ]
  },
  {
   "cell_type": "markdown",
   "metadata": {},
   "source": [
    "If you want more control over the running of the sub-process, see the \"**popen2**\" module (http://docs.python.org/lib/module-popen2.html)"
   ]
  },
  {
   "cell_type": "markdown",
   "metadata": {},
   "source": [
    "## Catch Exceptions"
   ]
  },
  {
   "cell_type": "markdown",
   "metadata": {},
   "source": [
    "An *exception* represents a **run-time error** that halts the normal execution at a particular line and transfers control to error handling code. Here only the most basic uses of exceptions is introduced. For example a run-time error might be that a variable used in the program does not have a value (ValueError .. you've probably seen that one a few times), or a file open operation error because that does not exist (IOError)\n",
    "\n",
    "Without any error handling code (as we have done thus far), a run-time exception just halts the program with an error message. That's a good default behavior, and you've seen it many times. You can add a \"try/except\" structure to your code to handle exceptions, like this:"
   ]
  },
  {
   "cell_type": "code",
   "execution_count": 125,
   "metadata": {
    "collapsed": false
   },
   "outputs": [
    {
     "name": "stderr",
     "output_type": "stream",
     "text": [
      "problem reading:fasfasfjk.py"
     ]
    }
   ],
   "source": [
    "import sys\n",
    "\n",
    "filename = \"fasfasfjk.py\"\n",
    "try:\n",
    "    ## Either of these two lines could throw an IOError, say\n",
    "    ## if the file does not exist or the read() encounters a low level error.\n",
    "    f = open(filename, 'rU')\n",
    "    text = f.read()\n",
    "    f.close()\n",
    "except IOError:\n",
    "    ## Control jumps directly to here if any of the above lines throws IOError.\n",
    "    sys.stderr.write('problem reading:' + filename)\n",
    "    ## In any case, the code then continues with the line after the try/except"
   ]
  },
  {
   "cell_type": "markdown",
   "metadata": {},
   "source": [
    "The **try:** section includes the code which might throw an exception. The **except:** section holds the code to run if there is an exception. If there is no exception, the **except:** section is skipped (that is, that code is for error handling only, not the \"normal\" case for the code). You can get a pointer to the exception object itself with syntax \"except IOError, e: .. (e points to the exception object)\".\n",
    "\n",
    "**One essential advantage of using such proper error catch is  the program will not be stopped by error. The program can still go on if we want it to. But if we want to the program to stop (in proper way), we can use `sys.exit(\"Error message\")`**\n",
    "\n",
    "```python\n",
    "import sys\n",
    "def test():\n",
    "    try:\n",
    "        file = open(\"fadfda.py\", \"r\")\n",
    "    except IOError:\n",
    "        sys.exit(\"Error message\")\n",
    "\n",
    "test()\n",
    "```\n",
    "\n",
    "(the code can be stopped properly and return exit code 1)"
   ]
  },
  {
   "cell_type": "markdown",
   "metadata": {},
   "source": [
    "More info can be found at https://docs.python.org/2/tutorial/errors.html"
   ]
  },
  {
   "cell_type": "markdown",
   "metadata": {},
   "source": [
    "## HTTP -- urllib"
   ]
  },
  {
   "cell_type": "markdown",
   "metadata": {},
   "source": [
    "The module ***urllib*** provides url fetching -- making a url look like a file you can read form. "
   ]
  },
  {
   "cell_type": "code",
   "execution_count": 126,
   "metadata": {
    "collapsed": false
   },
   "outputs": [
    {
     "data": {
      "text/plain": [
       "instance"
      ]
     },
     "execution_count": 126,
     "metadata": {},
     "output_type": "execute_result"
    }
   ],
   "source": [
    "import urllib\n",
    "#  read the URL and returns a file like object for that url\n",
    "ufile = urllib.urlopen(\"http://me.seekingQED.com\")\n",
    "type(ufile)"
   ]
  },
  {
   "cell_type": "code",
   "execution_count": 127,
   "metadata": {
    "collapsed": false
   },
   "outputs": [
    {
     "name": "stdout",
     "output_type": "stream",
     "text": [
      "<type 'str'>\n",
      "<!DOCTYPE html>\n",
      "<html lang=\"en-us\">\n",
      "  <head>\n",
      "    <meta charset=\"UTF-8\">\n",
      "    <title>Xiaodong Deng 小冬 by XD-DENG</title>\n",
      "    <meta name=\"viewport\" content=\"width=device-width, initial-scale=1\">\n",
      "    <link rel=\"stylesheet\" type=\"text/css\" href=\"stylesheets/normalize.css\" media=\"screen\">\n",
      "    <link href='http://fonts.googleapis.com/css?family=Open+Sans:400,700' rel='stylesheet' type='text/css'>\n",
      "    <link rel=\"stylesheet\" type=\"text/css\" href=\"stylesheets/stylesheet.css\" media=\"screen\">\n",
      "    <link rel=\"stylesheet\" type=\"text/css\" href=\"stylesheets/github-light.css\" media=\"screen\">\n",
      "    <link rel=\"shortcut icon\" href=\"/image/shortcut_icon.ico\" />\n",
      "  </head>\n",
      "\n",
      "  <body>\n",
      "    <section class=\"page-header\">\n",
      "      <h1 class=\"project-name\">Xiaodong Deng 小冬</h1>\n",
      "      <h2 class=\"project-tagline\">is exploring R &amp; everything interesting.</h2>\n",
      "    </section>\n",
      "\n",
      "\n",
      "\n",
      "    <section class=\"main-content\">\n",
      "\n",
      "<div style=\"float:left; width:25%;\">\n",
      "\t\t\t<a href=\"R.html\">\n",
      "            <p align=\"center\"><img src=\"/image/Rlogo.png\" width=\"100\" height=\"77.5\" alt=\"R\"></p>\n",
      "\t\t\t<p align=\"center\">R Language</p></a>\n",
      "</div>\n",
      "\n",
      "\n",
      "<div style=\"float:left; width:25%;\">\n",
      "            <a href=\"python.html\">\n",
      "            <p align=\"center\"><img src=\"/image/python_logo.png\" width=\"110\" height=\"77.5\" alt=\"R\"></p>\n",
      "\t\t\t<p align=\"center\">Python Language</p></a>\n",
      "</div>\n",
      "\n",
      "\n",
      "<div style=\"float:left; width:25%;\">\n",
      "            <a href=\"other_collection.html\">\n",
      "            <p align=\"center\"><img src=\"/image/data_science_logo_small.jpg\" width=\"100\" height=\"77.5\" alt=\"R\"></p>\n",
      "\t\t\t<p align=\"center\">More</p></a>\n",
      "</div>\n",
      "\n",
      "<div style=\"float:left; width:25%;\">\n",
      "            <a href=\"about_me.html\">\n",
      "\t\t\t<p align=\"center\"><img src=\"/image/me.png\" width=\"100\" height=\"77.5\" alt=\"R\"></p>\n",
      "            <p align=\"center\">About Me</p></a>\n",
      "</div>\n",
      "\n",
      "\n",
      "\n",
      "\n",
      "    </section>\n",
      "\n",
      "  \n",
      "  </body>\n",
      "\n",
      "<script>\n",
      "  (function(i,s,o,g,r,a,m){i['GoogleAnalyticsObject']=r;i[r]=i[r]||function(){\n",
      "  (i[r].q=i[r].q||[]).push(arguments)},i[r].l=1*new Date();a=s.createElement(o),\n",
      "  m=s.getElementsByTagName(o)[0];a.async=1;a.src=g;m.parentNode.insertBefore(a,m)\n",
      "  })(window,document,'script','//www.google-analytics.com/analytics.js','ga');\n",
      "\n",
      "  ga('create', 'UA-63780621-1', 'auto');\n",
      "  ga('send', 'pageview');\n",
      "\n",
      "</script>\n",
      "\n",
      "\n",
      "\n",
      "</html>\n",
      "\n"
     ]
    }
   ],
   "source": [
    "contents = ufile.read()\n",
    "print type(contents)\n",
    "print contents"
   ]
  },
  {
   "cell_type": "code",
   "execution_count": 128,
   "metadata": {
    "collapsed": false
   },
   "outputs": [
    {
     "name": "stdout",
     "output_type": "stream",
     "text": [
      "Server: GitHub.com\r\n",
      "Content-Type: text/html; charset=utf-8\r\n",
      "Last-Modified: Mon, 27 Feb 2017 01:17:35 GMT\r\n",
      "Access-Control-Allow-Origin: *\r\n",
      "Expires: Thu, 02 Mar 2017 13:34:53 GMT\r\n",
      "Cache-Control: max-age=600\r\n",
      "X-GitHub-Request-Id: 8E1A:7C24:484C5CE:5FC95CA:58B81D25\r\n",
      "Content-Length: 2237\r\n",
      "Accept-Ranges: bytes\r\n",
      "Date: Thu, 02 Mar 2017 13:32:19 GMT\r\n",
      "Via: 1.1 varnish\r\n",
      "Age: 446\r\n",
      "Connection: close\r\n",
      "X-Served-By: cache-itm7422-ITM\r\n",
      "X-Cache: HIT\r\n",
      "X-Cache-Hits: 1\r\n",
      "X-Timer: S1488461539.711763,VS0,VE0\r\n",
      "Vary: Accept-Encoding\r\n",
      "X-Fastly-Request-ID: 15a1833422135604aa46501e7e59e063f01c5329\r\n",
      "\n"
     ]
    }
   ],
   "source": [
    "# the meta info for that request\n",
    "info = ufile.info()\n",
    "print info"
   ]
  },
  {
   "cell_type": "code",
   "execution_count": 129,
   "metadata": {
    "collapsed": false
   },
   "outputs": [
    {
     "name": "stdout",
     "output_type": "stream",
     "text": [
      "text/html\n"
     ]
    }
   ],
   "source": [
    "# Get the mime time, e.g. 'text/html'\n",
    "print info.gettype()"
   ]
  },
  {
   "cell_type": "code",
   "execution_count": 130,
   "metadata": {
    "collapsed": false
   },
   "outputs": [
    {
     "name": "stdout",
     "output_type": "stream",
     "text": [
      "http://me.seekingQED.com\n"
     ]
    }
   ],
   "source": [
    "# Get the base url from the object generated\n",
    "baseurl = ufile.geturl()\n",
    "print baseurl"
   ]
  },
  {
   "cell_type": "code",
   "execution_count": 131,
   "metadata": {
    "collapsed": true
   },
   "outputs": [],
   "source": [
    "# urllib.urlretrieve(url, filename) -- downloads the url data to the given file path"
   ]
  },
  {
   "cell_type": "markdown",
   "metadata": {},
   "source": [
    "Codes to read URL and avoid potential error:"
   ]
  },
  {
   "cell_type": "code",
   "execution_count": 1,
   "metadata": {
    "collapsed": true
   },
   "outputs": [],
   "source": [
    "## Version that uses try/except to print an error message if the urlopen() fails.\n",
    "\n",
    "# def wget(url):\n",
    "#     try:\n",
    "#         ufile = urllib.urlopen(url)\n",
    "#         if ufile.info().gettype() == 'text/html':\n",
    "#             print ufile.read()\n",
    "#     except IOError:\n",
    "#         print 'problem reading url:', url"
   ]
  },
  {
   "cell_type": "markdown",
   "metadata": {},
   "source": [
    "## **hashlib**: Secure hashes and message digests"
   ]
  },
  {
   "cell_type": "code",
   "execution_count": 9,
   "metadata": {
    "collapsed": false
   },
   "outputs": [
    {
     "name": "stdout",
     "output_type": "stream",
     "text": [
      "set(['SHA256', 'SHA512', 'dsaWithSHA', 'mdc2', 'SHA224', 'MD4', 'sha256', 'sha512', 'ripemd160', 'whirlpool', 'SHA1', 'MDC2', 'SHA', 'SHA384', 'ecdsa-with-SHA1', 'md4', 'md5', 'sha1', 'DSA-SHA', 'sha224', 'dsaEncryption', 'DSA', 'RIPEMD160', 'sha', 'MD5', 'sha384'])\n"
     ]
    }
   ],
   "source": [
    "import hashlib\n",
    "\n",
    "# print all the available algorithms\n",
    "print hashlib.algorithms_available"
   ]
  },
  {
   "cell_type": "code",
   "execution_count": 11,
   "metadata": {
    "collapsed": false
   },
   "outputs": [
    {
     "name": "stdout",
     "output_type": "stream",
     "text": [
      "54b0c58c7ce9f2a8b551351102ee0938\n",
      "2e99758548972a8e8822ad47fa1017ff72f06f3ff6a016851f45c398732bc50c\n"
     ]
    }
   ],
   "source": [
    "string = \"this is a test\"\n",
    "print hashlib.md5(string).hexdigest()\n",
    "print hashlib.sha256(string).hexdigest()"
   ]
  }
 ],
 "metadata": {
  "kernelspec": {
   "display_name": "Python 2",
   "language": "python",
   "name": "python2"
  },
  "language_info": {
   "codemirror_mode": {
    "name": "ipython",
    "version": 2
   },
   "file_extension": ".py",
   "mimetype": "text/x-python",
   "name": "python",
   "nbconvert_exporter": "python",
   "pygments_lexer": "ipython2",
   "version": "2.7.11"
  }
 },
 "nbformat": 4,
 "nbformat_minor": 0
}
