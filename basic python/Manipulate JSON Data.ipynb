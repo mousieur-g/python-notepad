{
 "cells": [
  {
   "cell_type": "markdown",
   "metadata": {},
   "source": [
    "# Manipulate JSON Data\n",
    "\n",
    "http://python3-cookbook.readthedocs.io/zh_CN/latest/c06/p02_read-write_json_data.html\n",
    "\n",
    "JSON means `JavaScript Object Notation`. \n",
    "\n",
    "In Python, we use module `jsson` to encode and decode JSON data. The two most important functions are `json.dumps` and `json.loads`. "
   ]
  },
  {
   "cell_type": "code",
   "execution_count": 1,
   "metadata": {
    "collapsed": false
   },
   "outputs": [
    {
     "name": "stdout",
     "output_type": "stream",
     "text": [
      "<type 'str'>\n",
      "{\"price\": 20, \"name\": \"test\", \"shares\": 100}\n"
     ]
    }
   ],
   "source": [
    "import json\n",
    "\n",
    "data = {'name':'test', 'shares':100, 'price':20}\n",
    "\n",
    "json_str = json.dumps(data)\n",
    "\n",
    "print type(json_str)\n",
    "print json_str"
   ]
  },
  {
   "cell_type": "markdown",
   "metadata": {},
   "source": [
    "Then we need to convert JSON str back to a Python built-in data structure."
   ]
  },
  {
   "cell_type": "code",
   "execution_count": 2,
   "metadata": {
    "collapsed": false
   },
   "outputs": [
    {
     "name": "stdout",
     "output_type": "stream",
     "text": [
      "<type 'dict'>\n",
      "{u'price': 20, u'name': u'test', u'shares': 100}\n"
     ]
    }
   ],
   "source": [
    "data_2 = json.loads(json_str)\n",
    "\n",
    "print type(data_2)\n",
    "print data_2"
   ]
  },
  {
   "cell_type": "markdown",
   "metadata": {},
   "source": [
    "If we're dealing with **files** rather than **strings**, we can use `json.dump()` and `json.load()` for encodeing & decoding JSON, like\n",
    "\n",
    "```python\n",
    "# Writing JSON data\n",
    "with open('data.json', 'w') as f:\n",
    "    json.dump(data, f)\n",
    "    \n",
    "# Reading JSON data\n",
    "with open('data.json', 'r') as f:\n",
    "    data = json.load(f)\n",
    "```"
   ]
  }
 ],
 "metadata": {
  "kernelspec": {
   "display_name": "Python 2",
   "language": "python",
   "name": "python2"
  },
  "language_info": {
   "codemirror_mode": {
    "name": "ipython",
    "version": 2
   },
   "file_extension": ".py",
   "mimetype": "text/x-python",
   "name": "python",
   "nbconvert_exporter": "python",
   "pygments_lexer": "ipython2",
   "version": "2.7.13"
  }
 },
 "nbformat": 4,
 "nbformat_minor": 2
}
