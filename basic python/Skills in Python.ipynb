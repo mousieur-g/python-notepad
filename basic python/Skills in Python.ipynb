{
 "cells": [
  {
   "cell_type": "markdown",
   "metadata": {},
   "source": [
    "## Dict Comprehension"
   ]
  },
  {
   "cell_type": "code",
   "execution_count": 54,
   "metadata": {
    "collapsed": false
   },
   "outputs": [
    {
     "name": "stdout",
     "output_type": "stream",
     "text": [
      "{1: 'a', 2: 'b', 3: 'c'}\n",
      "{'a': 1, 'c': 3, 'b': 2}\n"
     ]
    }
   ],
   "source": [
    "dat={1:\"a\", 2:\"b\", 3:\"c\"}\n",
    "print dat\n",
    "\n",
    "dat_1 = {value: key for key,value in dat.items()}\n",
    "print dat_1"
   ]
  },
  {
   "cell_type": "code",
   "execution_count": 55,
   "metadata": {
    "collapsed": false
   },
   "outputs": [
    {
     "name": "stdout",
     "output_type": "stream",
     "text": [
      "{'Inquisition': 5, 'No': 0, 'expects': 2, 'one': 1, 'Spanish': 4, 'the': 3}\n",
      "{0: 'No', 1: 'one', 2: 'expects', 3: 'the', 4: 'Spanish', 5: 'Inquisition'}\n"
     ]
    }
   ],
   "source": [
    "my_phrase = [\"No\", \"one\", \"expects\", \"the\", \"Spanish\", \"Inquisition\"]\n",
    "my_dict = {key: value for value, key in enumerate(my_phrase)}\n",
    "print(my_dict)\n",
    "\n",
    "reversed_dict = {value: key for key, value in my_dict.items()}\n",
    "print(reversed_dict)"
   ]
  },
  {
   "cell_type": "markdown",
   "metadata": {},
   "source": [
    "## Enumerate(list)"
   ]
  },
  {
   "cell_type": "code",
   "execution_count": 56,
   "metadata": {
    "collapsed": false
   },
   "outputs": [
    {
     "name": "stdout",
     "output_type": "stream",
     "text": [
      "It's\n",
      "only\n",
      "a\n",
      "model\n"
     ]
    }
   ],
   "source": [
    "mylist = [\"It's\", 'only', 'a', 'model']\n",
    "\n",
    "for index, item in enumerate(mylist):\n",
    "    print(item)"
   ]
  },
  {
   "cell_type": "markdown",
   "metadata": {},
   "source": [
    "## Chained Comparison Operators"
   ]
  },
  {
   "cell_type": "code",
   "execution_count": 57,
   "metadata": {
    "collapsed": false
   },
   "outputs": [
    {
     "name": "stdout",
     "output_type": "stream",
     "text": [
      "Chained comparison operators work! \n",
      "\n"
     ]
    }
   ],
   "source": [
    "mynumber = 3\n",
    "\n",
    "if 4 > mynumber > 2:\n",
    "    print(\"Chained comparison operators work! \\n\")"
   ]
  },
  {
   "cell_type": "markdown",
   "metadata": {},
   "source": [
    "## collections.Counter"
   ]
  },
  {
   "cell_type": "code",
   "execution_count": 58,
   "metadata": {
    "collapsed": false
   },
   "outputs": [
    {
     "name": "stdout",
     "output_type": "stream",
     "text": [
      "Counter({'b': 3, 'a': 2, 'c': 1})\n",
      "3\n"
     ]
    }
   ],
   "source": [
    "from collections import Counter\n",
    "test = [\"a\", \"b\", \"b\", \"c\", \"a\", \"b\"]\n",
    "count_test = Counter(test)\n",
    "print count_test\n",
    "print count_test[\"b\"]"
   ]
  },
  {
   "cell_type": "code",
   "execution_count": 59,
   "metadata": {
    "collapsed": false
   },
   "outputs": [
    {
     "name": "stdout",
     "output_type": "stream",
     "text": [
      "(0, 12)\n",
      "(1, 13)\n",
      "(2, 12)\n",
      "(3, 13)\n",
      "(4, 7)\n",
      "(5, 7)\n",
      "(6, 10)\n",
      "(7, 7)\n",
      "(8, 8)\n",
      "(9, 11)\n"
     ]
    }
   ],
   "source": [
    "from collections import Counter\n",
    "from random import randrange\n",
    "mycounter = Counter()\n",
    "\n",
    "for i in range(100):\n",
    "    random_number = randrange(10)\n",
    "    mycounter[random_number] += 1\n",
    "for i in range(10):\n",
    "    print(i, mycounter[i])"
   ]
  },
  {
   "cell_type": "markdown",
   "metadata": {},
   "source": [
    "## dict .get() and .iteritems() methods\n",
    "\n",
    "dict.get(0 can give a default value when a key does not exist; With enumerate() for lists, you can iterate over key, value tuples in dicts"
   ]
  },
  {
   "cell_type": "code",
   "execution_count": 60,
   "metadata": {
    "collapsed": false
   },
   "outputs": [
    {
     "name": "stdout",
     "output_type": "stream",
     "text": [
      "African or European?\n",
      "\n",
      "quest, Holy Grail\n",
      "name, Lancelot\n",
      "favourite_color, blue\n"
     ]
    }
   ],
   "source": [
    "my_dict = {'name': 'Lancelot', 'quest': 'Holy Grail', 'favourite_color': 'blue'}\n",
    "\n",
    "print(my_dict.get('fdsafasd', 'African or European?\\n'))\n",
    "\n",
    "for key, value in my_dict.iteritems():\n",
    "    print \"%s, %s\" % (key, value)"
   ]
  }
 ],
 "metadata": {
  "kernelspec": {
   "display_name": "Python 2",
   "language": "python",
   "name": "python2"
  },
  "language_info": {
   "codemirror_mode": {
    "name": "ipython",
    "version": 2
   },
   "file_extension": ".py",
   "mimetype": "text/x-python",
   "name": "python",
   "nbconvert_exporter": "python",
   "pygments_lexer": "ipython2",
   "version": "2.7.12"
  }
 },
 "nbformat": 4,
 "nbformat_minor": 0
}
