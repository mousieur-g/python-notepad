{
 "cells": [
  {
   "cell_type": "markdown",
   "metadata": {},
   "source": [
    "# AES Encryption in Python\n",
    "\n",
    "The *Advanced Encryption Standard* or *AES* is a **symmetric block cipher** used by the U.S. government to protect classified information and is implemented in software and hardware throughout the world to encrypt sensitive data.\n",
    "\n",
    "In Python, library **pycrypto** is commonly used for AES.\n",
    "\n",
    "### Contents\n",
    "- Basic Usage\n",
    "- More Exploration\n",
    "- Reference"
   ]
  },
  {
   "cell_type": "markdown",
   "metadata": {},
   "source": [
    "## Basic Usage\n",
    "\n",
    "### Import the Library & Create An AES Instance\n",
    "\n",
    "**Note**: AES key must be either 16, 24, or 32 bytes long!\n",
    "\n",
    "Additionally, we can also specify **`mode`** and **`IV`** (initialization vector) when we create the instance. The default value for `mode` is `MODE_ECB`; `IV` will be ignored for `MODE_ECB` and `MODE_CTR`. It's optional and when not present it will be given a default value of all zeros. Normally, `IV` must be `block_size` bytes longs."
   ]
  },
  {
   "cell_type": "code",
   "execution_count": 1,
   "metadata": {
    "collapsed": false
   },
   "outputs": [
    {
     "name": "stdout",
     "output_type": "stream",
     "text": [
      "The length of the key is 16\n",
      "The type of the AES instance is \"<type 'instance'>\"\n"
     ]
    }
   ],
   "source": [
    "from Crypto.Cipher import AES\n",
    "\n",
    "key = 'This is a key123'\n",
    "print \"The length of the key is %d\" % (len(key))\n",
    "\n",
    "obj = AES.new(key)\n",
    "print \"The type of the AES instance is \\\"%s\\\"\" % type(obj)"
   ]
  },
  {
   "cell_type": "markdown",
   "metadata": {},
   "source": [
    "### Encryption\n",
    "\n",
    "**Note**: \n",
    "- Input strings must be a multiple of 16 in length.\n",
    "- `obj.encrypt` will return the encrypted data as a **byte string**."
   ]
  },
  {
   "cell_type": "code",
   "execution_count": 2,
   "metadata": {
    "collapsed": false
   },
   "outputs": [
    {
     "name": "stdout",
     "output_type": "stream",
     "text": [
      "��r_��%+\r",
      "�b\u0000\u0019�,\u0005\n"
     ]
    }
   ],
   "source": [
    "plaintext = \"The answer is no\"\n",
    "ciphertext = obj.encrypt(plaintext)\n",
    "print ciphertext"
   ]
  },
  {
   "cell_type": "markdown",
   "metadata": {},
   "source": [
    "### Decryption\n"
   ]
  },
  {
   "cell_type": "code",
   "execution_count": 3,
   "metadata": {
    "collapsed": false
   },
   "outputs": [
    {
     "name": "stdout",
     "output_type": "stream",
     "text": [
      "The decrypted text is: 'The answer is no'\n"
     ]
    }
   ],
   "source": [
    "print \"The decrypted text is: '%s'\" % (obj.decrypt(ciphertext))"
   ]
  },
  {
   "cell_type": "markdown",
   "metadata": {},
   "source": [
    "## More Exploration\n",
    "\n",
    "We may have noticed a few drawbacks in basic example.\n",
    "\n",
    "- The key and plaintext must be of specific length, which may not be true in real-world data.\n",
    "- The ciphertext returned is in *byte string* format, which may be not \"friendly\".\n",
    "\n",
    "These two issues can be addressed by [1] padding, and [2] using **`base64`** library in Python."
   ]
  },
  {
   "cell_type": "code",
   "execution_count": 4,
   "metadata": {
    "collapsed": false
   },
   "outputs": [
    {
     "name": "stdout",
     "output_type": "stream",
     "text": [
      "Raw Plaintext: AES Encryption in Python\n",
      "Ciphertext: tLU3FgHutRyN++CaIhDzL1GzP0yJ/dhMJ+MWge8EPWA=\n",
      "Decrypted Ciphertext (with correct key): AES Encryption in Python\n",
      "Decrypted Ciphertext (with wrong key): ���m�^\u0002�B)����\u0002òP�lyǲ���T\r",
      "�\u001d",
      "\n"
     ]
    }
   ],
   "source": [
    "from Crypto.Cipher import AES\n",
    "import base64\n",
    "\n",
    "def AES_encrypt(key, plaintext, BLOCK_SIZE = 32, PADDING = '$'):\n",
    "    \n",
    "    # one-liner to sufficiently pad the text to be encrypted\n",
    "    pad = lambda s: s + (BLOCK_SIZE - len(s) % BLOCK_SIZE) * PADDING\n",
    "\n",
    "    # one-liners to encrypt/encode and decrypt/decode a string\n",
    "    # encrypt with AES, encode with base64\n",
    "    EncodeAES = lambda c, s: base64.b64encode(c.encrypt(pad(s)))\n",
    "\n",
    "    secret = key\n",
    "    secret = secret + (BLOCK_SIZE - len(secret) % BLOCK_SIZE) * PADDING\n",
    "\n",
    "    cipher = AES.new(secret)\n",
    "    return EncodeAES(cipher, plaintext)\n",
    "\n",
    "\n",
    "def AES_decrypt(key, ciphertext, BLOCK_SIZE = 32, PADDING = '$'):\n",
    "    \n",
    "    # one-liner to sufficiently pad the text to be encrypted\n",
    "    pad = lambda s: s + (BLOCK_SIZE - len(s) % BLOCK_SIZE) * PADDING\n",
    "\n",
    "    DecodeAES = lambda c, e: c.decrypt(base64.b64decode(e)).rstrip(PADDING)\n",
    "\n",
    "    secret = key\n",
    "    secret = secret + (BLOCK_SIZE - len(secret) % BLOCK_SIZE) * PADDING\n",
    "\n",
    "    cipher = AES.new(secret)\n",
    "    return DecodeAES(cipher, ciphertext)\n",
    "\n",
    "\n",
    "test=\"AES Encryption in Python\"\n",
    "password=\"Iloveyou\"\n",
    "wrongpassword=\"Iloveyouu\"\n",
    "\n",
    "encrypted_text=AES_encrypt(password, test)\n",
    "\n",
    "print \"Raw Plaintext:\", test\n",
    "print \"Ciphertext:\", encrypted_text\n",
    "print \"Decrypted Ciphertext (with correct key):\", AES_decrypt(password, encrypted_text)\n",
    "print \"Decrypted Ciphertext (with wrong key):\", AES_decrypt(wrongpassword, encrypted_text)"
   ]
  },
  {
   "cell_type": "markdown",
   "metadata": {},
   "source": [
    "## Reference\n",
    "\n",
    "- https://gist.github.com/sekondus/4322469"
   ]
  }
 ],
 "metadata": {
  "kernelspec": {
   "display_name": "Python 2",
   "language": "python",
   "name": "python2"
  },
  "language_info": {
   "codemirror_mode": {
    "name": "ipython",
    "version": 2
   },
   "file_extension": ".py",
   "mimetype": "text/x-python",
   "name": "python",
   "nbconvert_exporter": "python",
   "pygments_lexer": "ipython2",
   "version": "2.7.12"
  }
 },
 "nbformat": 4,
 "nbformat_minor": 0
}
