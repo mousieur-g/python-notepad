{
 "cells": [
  {
   "cell_type": "markdown",
   "metadata": {},
   "source": [
    "# Object-Orientied Programming in Python - Working with Classes\n",
    "\n",
    "## Contents\n",
    "- Python Scopes & Namespaces\n",
    "- Class Definition\n",
    "- Inheritance\n",
    "- Multiple Inheritance\n",
    "\n",
    "\n",
    "\n",
    "\n",
    "## Python Scopes & Namespaces\n",
    "\n",
    "https://docs.python.org/3/tutorial/classes.html\n",
    "\n",
    "Firstly,we need to understand the rules about scopes and namespace in Python.\n",
    "\n",
    "- **Namespace**: a mapping from names to objects. Most namespaces are currently implemented as Python dictionaries, but that's normally not noticeable (this may also change in future). \n",
    "\n",
    "Examples of namespaces: the set of built-in names; the global names in a module; the local names in a function invocation.\n",
    "\n",
    "The important thing to know about *namespaces* is that there is absolutely NO relation between names in differnet namespace. For instance, two different modules may both define a function `maximize` without confusion - Users of the modules must prefix it with the module name.\n",
    "\n",
    "Namespaces are created at different moments and have different lifetimes. The namespace containing the built-in names is created when the Python interpreter starts up, and is never deleted. The global namespace for a module is created when the module definition is read in. The local namespace for a function is created when the function is called, and deleted when the function returns or raises an exception that is not handled within the function.\n",
    "\n",
    "- **Scope**: a textual region of a Python program where a namespace is directly accessible. \n",
    "\n",
    "A special quirk of Python is that - if no `global` statement is in effect, assignments to names always go into the innermost scope. Assignments do not copy data - they just bind names to objects. The same is true for deletions: the statement `del x` removes the binding of `x` from the namespace referenced by the local scope. In fact, **all operations that introduce new names use the local scope**: in particular, `import` statements and function definitions bind the module or function name in the local scope.\n",
    "\n",
    "The `global` statement can be used to indicate that particular variables live in the global scope and should be rebound there; the `nonlocal` statement indicate that particular variables live in an enclosing scope and should be rebound there.\n",
    "\n",
    "The example below demonstrates how to reference the different scopes and namespace, and how `global` and `nonlocal` affect variable binding (**Note:** `nonlocal` may not work properly in Python 2):\n",
    "\n",
    "```python\n",
    "def scope_test():\n",
    "    def do_local():\n",
    "        spam = \"local spam\"\n",
    "\n",
    "    def do_nonlocal():\n",
    "        nonlocal spam\n",
    "        spam = \"nonlocal spam\"\n",
    "\n",
    "    def do_global():\n",
    "        global spam\n",
    "        spam = \"global spam\"\n",
    "\n",
    "    spam = \"test spam\"\n",
    "    do_local()\n",
    "    print(\"After local assignment:\", spam)\n",
    "    do_nonlocal()\n",
    "    print(\"After nonlocal assignment:\", spam)\n",
    "    do_global()\n",
    "    print(\"After global assignment:\", spam)\n",
    "\n",
    "scope_test()\n",
    "print(\"In global scope:\", spam)\n",
    "```\n",
    "\n",
    "RESULT:\n",
    "```\n",
    "After local assignment: test spam\n",
    "After nonlocal assignment: nonlocal spam\n",
    "After global assignment: nonlocal spam\n",
    "In global scope: global spam\n",
    "```"
   ]
  },
  {
   "cell_type": "markdown",
   "metadata": {},
   "source": [
    "## Class Definition\n",
    "\n",
    "Class definitions, like function definitions, must be executed before they have any effect.\n",
    "\n",
    "In practice, the statements inside a class definition will usually be function definitions, but other statements are allowed and sometimes useful as well.\n",
    "\n",
    "When a class definition is entered, a new namespace is created, and used as the local scope. Thus, all assignments to local variables go into this new namespace.\n",
    "\n",
    "There are two kinds of operations on class objects:\n",
    "\n",
    "- attribute references\n",
    "- instantiation\n",
    "\n",
    "### Attribute references"
   ]
  },
  {
   "cell_type": "code",
   "execution_count": 1,
   "metadata": {
    "collapsed": false
   },
   "outputs": [
    {
     "name": "stdout",
     "output_type": "stream",
     "text": [
      "12345\n",
      "<bound method MyClass.f of <__main__.MyClass instance at 0x106906200>>\n",
      "hello world\n"
     ]
    }
   ],
   "source": [
    "class MyClass:\n",
    "    i = 12345\n",
    "    \n",
    "    def f(self):\n",
    "        return('hello world')\n",
    "    \n",
    "x = MyClass()\n",
    "print x.i\n",
    "print x.f\n",
    "print x.f()"
   ]
  },
  {
   "cell_type": "markdown",
   "metadata": {},
   "source": [
    "### Instantiation\n",
    "\n",
    "The instantiation operation (\"calling\" a class object) creates an empty object. Many classes like to create objects with instances customized to a specific initial state. Therefore a class may define a special method `__init__()`. When a class defines an `__init__()` method, class instantiation automatically invokes `__init__()` for the newly-created class instance."
   ]
  },
  {
   "cell_type": "code",
   "execution_count": 2,
   "metadata": {
    "collapsed": false
   },
   "outputs": [
    {
     "name": "stdout",
     "output_type": "stream",
     "text": [
      "3.0 -4.5\n"
     ]
    }
   ],
   "source": [
    "class Complex:\n",
    "    def __init__(self, realpart, imagepart):\n",
    "        self.r = realpart\n",
    "        self.i = imagepart\n",
    "        \n",
    "x = Complex(3.0, -4.5)\n",
    "print x.r, x.i"
   ]
  },
  {
   "cell_type": "markdown",
   "metadata": {},
   "source": [
    "There are two kinds of valid attribute names, **data attributes** and **methods**. Note a **method** is a function that \"belongs to\" an object."
   ]
  },
  {
   "cell_type": "markdown",
   "metadata": {},
   "source": [
    "What exactly happens when a **method** is called? We found that x.f() was called without an argument above, even though the function definition for `f()` specified an argument. It's weird.\n",
    "\n",
    "The answer is: the instance object is passed as the first argument of the function. In the example above, the call `x.f()` is exactly equivalant to `MyClass.f(x)`. In general, calling a method with a list of *n* arguments is equivalent to calling the corresponding function with an argument list that is created by inserting the method's instance object before the first argument."
   ]
  },
  {
   "cell_type": "markdown",
   "metadata": {},
   "source": [
    "### Class and Instance Variables\n",
    "\n",
    "Generally speaking, **instance variables** are for data unique to each instance and **class variables** are for attributes and methods shared by all instances of the class. "
   ]
  },
  {
   "cell_type": "code",
   "execution_count": 3,
   "metadata": {
    "collapsed": false
   },
   "outputs": [
    {
     "name": "stdout",
     "output_type": "stream",
     "text": [
      "canine\n",
      "canine\n",
      "Fido\n",
      "Buddy\n"
     ]
    }
   ],
   "source": [
    "class Dog:\n",
    "    \n",
    "    kind = 'canine' # class variable shared by all instances\n",
    "    \n",
    "    def __init__(self, name):\n",
    "        self.name = name # instance variable unique to each instance\n",
    "        \n",
    "d = Dog(\"Fido\")\n",
    "e = Dog(\"Buddy\")\n",
    "\n",
    "print d.kind\n",
    "print e.kind\n",
    "\n",
    "print d.name\n",
    "print e.name"
   ]
  },
  {
   "cell_type": "markdown",
   "metadata": {},
   "source": [
    "**NOTE**: shared data, like class variable can have possibly surpring effects with involving** *mutalbe* **objects like *lists* and *dictionaries*. For example, the tricks list in the following code shoudl not be used as a class variable because just a single list would be shared by all Dog instances:"
   ]
  },
  {
   "cell_type": "code",
   "execution_count": 4,
   "metadata": {
    "collapsed": false
   },
   "outputs": [
    {
     "name": "stdout",
     "output_type": "stream",
     "text": [
      "['roll over']\n"
     ]
    }
   ],
   "source": [
    "class Dog:\n",
    "\n",
    "    tricks = []             # mistaken use of a class variable\n",
    "\n",
    "    def __init__(self, name):\n",
    "        self.name = name\n",
    "\n",
    "    def add_trick(self, trick):\n",
    "        self.tricks.append(trick)\n",
    "        \n",
    "d = Dog(\"Fido\")\n",
    "e = Dog(\"Buddy\")\n",
    "d.add_trick(\"roll over\")\n",
    "print e.tricks # unexpectedly shard by all instances"
   ]
  },
  {
   "cell_type": "markdown",
   "metadata": {},
   "source": [
    "Correct design of the class should use an instance variable instead."
   ]
  },
  {
   "cell_type": "code",
   "execution_count": 5,
   "metadata": {
    "collapsed": false
   },
   "outputs": [
    {
     "name": "stdout",
     "output_type": "stream",
     "text": [
      "['roll over']\n",
      "[]\n"
     ]
    }
   ],
   "source": [
    "class Dog:\n",
    "\n",
    "    def __init__(self, name):\n",
    "        self.name = name\n",
    "        self.tricks = []    # creates a new empty list for each dog\n",
    "\n",
    "    def add_trick(self, trick):\n",
    "        self.tricks.append(trick)\n",
    "        \n",
    "d = Dog(\"Fido\")\n",
    "e = Dog(\"Buddy\")\n",
    "d.add_trick(\"roll over\")\n",
    "print d.tricks\n",
    "print e.tricks"
   ]
  },
  {
   "cell_type": "markdown",
   "metadata": {},
   "source": [
    "Sometimes we may want to check the class (or called `type`) of an object, we can use the codes below"
   ]
  },
  {
   "cell_type": "code",
   "execution_count": 6,
   "metadata": {
    "collapsed": false
   },
   "outputs": [
    {
     "name": "stdout",
     "output_type": "stream",
     "text": [
      "<type 'instance'>\n",
      "__main__.Dog\n"
     ]
    }
   ],
   "source": [
    "print type(e)\n",
    "print e.__class__"
   ]
  },
  {
   "cell_type": "markdown",
   "metadata": {},
   "source": [
    "## Inheritance\n",
    "\n",
    "A language feature would not be worthy of the name \"class\" without supporting inheritance. The syntax for a derived class definition looks like this:\n",
    "\n",
    "```python\n",
    "class DerivedClassName(BaseClassName):\n",
    "    <statement-1>\n",
    "    .\n",
    "    .\n",
    "    .\n",
    "    <statement-N>\n",
    "```\n",
    "\n",
    "The name *`BaseClassName`* must be defined in a scope containing the derived class definition. "
   ]
  },
  {
   "cell_type": "markdown",
   "metadata": {},
   "source": [
    "Derived classes may override methods of their base classes. Because methods have no special privileges when calling other mehtods of the same object, a method of a base class that calls another method defind in the same base class may end up calling a method of a derived class that overrides it."
   ]
  },
  {
   "cell_type": "code",
   "execution_count": 7,
   "metadata": {
    "collapsed": false
   },
   "outputs": [
    {
     "name": "stdout",
     "output_type": "stream",
     "text": [
      "5\n",
      "10\n"
     ]
    }
   ],
   "source": [
    "class BaseClass():\n",
    "    \n",
    "    def __init__(self, value):\n",
    "        self.value = value\n",
    "\n",
    "    def present_value(self):\n",
    "        print(self.value)\n",
    "        \n",
    "        \n",
    "class DerivedClass(BaseClass):\n",
    "    \n",
    "    # override the method\n",
    "    def present_value(self):\n",
    "        print(self.value * 2)\n",
    "        \n",
    "a = BaseClass(5)\n",
    "b = DerivedClass(5)\n",
    "\n",
    "a.present_value()\n",
    "b.present_value()"
   ]
  },
  {
   "cell_type": "markdown",
   "metadata": {},
   "source": [
    "## Multiple Inheritance\n",
    "\n",
    "Python supports a form of **multiple inheritance** as well. A class definition with multiple base classes looks like this:\n",
    "\n",
    "```python\n",
    "class DerivedClassName(Base1, Base2, Base3):\n",
    "    <statement-1>\n",
    "    .\n",
    "    .\n",
    "    .\n",
    "    <statement-N>\n",
    "```\n",
    "\n",
    "For most purposes, in the simplest cases, we can think of the search for attributes inherited from a parent class as **depth-first**, **left-to-right**, **not searching twice in the same class where there is an overlap** in the hierarchy. Thus, if an attribute is not found in `DerivedClassName`, it's searched for in `Base1`, then (recursively) in the base classes of `Base1`, and if it was not found there, it was searched for in `Base2`, and so on."
   ]
  },
  {
   "cell_type": "code",
   "execution_count": 8,
   "metadata": {
    "collapsed": false
   },
   "outputs": [
    {
     "name": "stdout",
     "output_type": "stream",
     "text": [
      "1\n",
      "8\n",
      "99\n"
     ]
    }
   ],
   "source": [
    "class Base1():\n",
    "    value_a = 1\n",
    "    \n",
    "class Base2():\n",
    "    value_a = 11\n",
    "    value_b = 8\n",
    "    \n",
    "class Base3():\n",
    "    value_b = 88\n",
    "    value_c = 99\n",
    "    \n",
    "class DerivedClass(Base1, Base2, Base3):\n",
    "    pass\n",
    "\n",
    "test = DerivedClass()\n",
    "\n",
    "print test.value_a\n",
    "print test.value_b\n",
    "print test.value_c"
   ]
  },
  {
   "cell_type": "markdown",
   "metadata": {},
   "source": [
    "In fact it may be slightly more complex than this. The method resolution order changes dynamically to support cooperative calls to `super()`. This approach is known in some other multiple-inheritance languages as call-next-method and is more powerful than the super cal found in single-inheritance languages. But these will not be covered here."
   ]
  }
 ],
 "metadata": {
  "kernelspec": {
   "display_name": "Python 2",
   "language": "python",
   "name": "python2"
  },
  "language_info": {
   "codemirror_mode": {
    "name": "ipython",
    "version": 2
   },
   "file_extension": ".py",
   "mimetype": "text/x-python",
   "name": "python",
   "nbconvert_exporter": "python",
   "pygments_lexer": "ipython2",
   "version": "2.7.11"
  }
 },
 "nbformat": 4,
 "nbformat_minor": 0
}
